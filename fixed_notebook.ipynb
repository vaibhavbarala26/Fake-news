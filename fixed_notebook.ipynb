{
 "cells": [
  {
   "cell_type": "code",
   "execution_count": 1,
   "metadata": {
    "colab": {
     "base_uri": "https://localhost:8080/"
    },
    "id": "PnAS1TMil7c0",
    "outputId": "04bd4382-5f7b-4205-e21f-e81a4844a3dc"
   },
   "outputs": [
    {
     "name": "stdout",
     "output_type": "stream",
     "text": [
      "Mounted at /content/drive\n"
     ]
    }
   ],
   "source": [
    "from google.colab import drive\n",
    "drive.mount('/content/drive')\n"
   ]
  },
  {
   "cell_type": "code",
   "execution_count": 2,
   "metadata": {
    "_cell_guid": "b1076dfc-b9ad-4769-8c92-a6c4dae69d19",
    "_uuid": "8f2839f25d086af736a60e9eeb907d3b93b6e0e5",
    "execution": {
     "iopub.execute_input": "2025-06-19T06:56:55.490634Z",
     "iopub.status.busy": "2025-06-19T06:56:55.490351Z",
     "iopub.status.idle": "2025-06-19T06:56:57.803541Z",
     "shell.execute_reply": "2025-06-19T06:56:57.802797Z",
     "shell.execute_reply.started": "2025-06-19T06:56:55.490613Z"
    },
    "id": "s_eMOVhoAnEr"
   },
   "outputs": [],
   "source": [
    "# This Python 3 environment comes with many helpful analytics libraries installed\n",
    "# It is defined by the kaggle/python Docker image: https://github.com/kaggle/docker-python\n",
    "# For example, here's several helpful packages to load\n",
    "\n",
    "import numpy as np # linear algebra\n",
    "import pandas as pd # data processing, CSV file I/O (e.g. pd.read_csv)\n",
    "\n",
    "# Input data files are available in the read-only \"../input/\" directory\n",
    "# For example, running this (by clicking run or pressing Shift+Enter) will list all files under the input directory\n",
    "\n",
    "import os\n",
    "for dirname, _, filenames in os.walk('/kaggle/input'):\n",
    "    for filename in filenames:\n",
    "        print(os.path.join(dirname, filename))\n",
    "\n",
    "# You can write up to 20GB to the current directory (/kaggle/working/) that gets preserved as output when you create a version using \"Save & Run All\"\n",
    "# You can also write temporary files to /kaggle/temp/, but they won't be saved outside of the current session"
   ]
  },
  {
   "cell_type": "code",
   "execution_count": 4,
   "metadata": {
    "colab": {
     "base_uri": "https://localhost:8080/"
    },
    "execution": {
     "iopub.execute_input": "2025-06-19T06:56:57.805423Z",
     "iopub.status.busy": "2025-06-19T06:56:57.805062Z",
     "iopub.status.idle": "2025-06-19T06:57:03.066612Z",
     "shell.execute_reply": "2025-06-19T06:57:03.06544Z",
     "shell.execute_reply.started": "2025-06-19T06:56:57.80539Z"
    },
    "id": "zlKItE-YAnEs",
    "outputId": "438e8928-e000-4d5f-b0de-ed6c0770e3f6"
   },
   "outputs": [
    {
     "name": "stdout",
     "output_type": "stream",
     "text": [
      "Requirement already satisfied: tqdm in /usr/local/lib/python3.11/dist-packages (4.67.1)\n"
     ]
    }
   ],
   "source": [
    "# Run this in a cell first\n",
    "!pip install --upgrade tqdm\n",
    "\n",
    "# Then restart kernel and run your training"
   ]
  },
  {
   "cell_type": "code",
   "execution_count": 5,
   "metadata": {
    "colab": {
     "base_uri": "https://localhost:8080/"
    },
    "collapsed": true,
    "execution": {
     "iopub.execute_input": "2025-06-19T06:57:03.068415Z",
     "iopub.status.busy": "2025-06-19T06:57:03.068063Z",
     "iopub.status.idle": "2025-06-19T06:57:07.654597Z",
     "shell.execute_reply": "2025-06-19T06:57:07.653644Z",
     "shell.execute_reply.started": "2025-06-19T06:57:03.06837Z"
    },
    "id": "-Om9OtcqAnEs",
    "outputId": "4627ef98-80d5-457e-f79b-2f3e7ea5f8c6"
   },
   "outputs": [
    {
     "name": "stdout",
     "output_type": "stream",
     "text": [
      "Collecting evaluate\n",
      "  Downloading evaluate-0.4.3-py3-none-any.whl.metadata (9.2 kB)\n",
      "Requirement already satisfied: datasets>=2.0.0 in /usr/local/lib/python3.11/dist-packages (from evaluate) (2.14.4)\n",
      "Requirement already satisfied: numpy>=1.17 in /usr/local/lib/python3.11/dist-packages (from evaluate) (2.0.2)\n",
      "Requirement already satisfied: dill in /usr/local/lib/python3.11/dist-packages (from evaluate) (0.3.7)\n",
      "Requirement already satisfied: pandas in /usr/local/lib/python3.11/dist-packages (from evaluate) (2.2.2)\n",
      "Requirement already satisfied: requests>=2.19.0 in /usr/local/lib/python3.11/dist-packages (from evaluate) (2.32.3)\n",
      "Requirement already satisfied: tqdm>=4.62.1 in /usr/local/lib/python3.11/dist-packages (from evaluate) (4.67.1)\n",
      "Requirement already satisfied: xxhash in /usr/local/lib/python3.11/dist-packages (from evaluate) (3.5.0)\n",
      "Requirement already satisfied: multiprocess in /usr/local/lib/python3.11/dist-packages (from evaluate) (0.70.15)\n",
      "Requirement already satisfied: fsspec>=2021.05.0 in /usr/local/lib/python3.11/dist-packages (from fsspec[http]>=2021.05.0->evaluate) (2025.3.2)\n",
      "Requirement already satisfied: huggingface-hub>=0.7.0 in /usr/local/lib/python3.11/dist-packages (from evaluate) (0.33.0)\n",
      "Requirement already satisfied: packaging in /usr/local/lib/python3.11/dist-packages (from evaluate) (24.2)\n",
      "Requirement already satisfied: pyarrow>=8.0.0 in /usr/local/lib/python3.11/dist-packages (from datasets>=2.0.0->evaluate) (18.1.0)\n",
      "Requirement already satisfied: aiohttp in /usr/local/lib/python3.11/dist-packages (from datasets>=2.0.0->evaluate) (3.11.15)\n",
      "Requirement already satisfied: pyyaml>=5.1 in /usr/local/lib/python3.11/dist-packages (from datasets>=2.0.0->evaluate) (6.0.2)\n",
      "Requirement already satisfied: filelock in /usr/local/lib/python3.11/dist-packages (from huggingface-hub>=0.7.0->evaluate) (3.18.0)\n",
      "Requirement already satisfied: typing-extensions>=3.7.4.3 in /usr/local/lib/python3.11/dist-packages (from huggingface-hub>=0.7.0->evaluate) (4.14.0)\n",
      "Requirement already satisfied: hf-xet<2.0.0,>=1.1.2 in /usr/local/lib/python3.11/dist-packages (from huggingface-hub>=0.7.0->evaluate) (1.1.3)\n",
      "Requirement already satisfied: charset-normalizer<4,>=2 in /usr/local/lib/python3.11/dist-packages (from requests>=2.19.0->evaluate) (3.4.2)\n",
      "Requirement already satisfied: idna<4,>=2.5 in /usr/local/lib/python3.11/dist-packages (from requests>=2.19.0->evaluate) (3.10)\n",
      "Requirement already satisfied: urllib3<3,>=1.21.1 in /usr/local/lib/python3.11/dist-packages (from requests>=2.19.0->evaluate) (2.4.0)\n",
      "Requirement already satisfied: certifi>=2017.4.17 in /usr/local/lib/python3.11/dist-packages (from requests>=2.19.0->evaluate) (2025.6.15)\n",
      "Requirement already satisfied: python-dateutil>=2.8.2 in /usr/local/lib/python3.11/dist-packages (from pandas->evaluate) (2.9.0.post0)\n",
      "Requirement already satisfied: pytz>=2020.1 in /usr/local/lib/python3.11/dist-packages (from pandas->evaluate) (2025.2)\n",
      "Requirement already satisfied: tzdata>=2022.7 in /usr/local/lib/python3.11/dist-packages (from pandas->evaluate) (2025.2)\n",
      "Requirement already satisfied: aiohappyeyeballs>=2.3.0 in /usr/local/lib/python3.11/dist-packages (from aiohttp->datasets>=2.0.0->evaluate) (2.6.1)\n",
      "Requirement already satisfied: aiosignal>=1.1.2 in /usr/local/lib/python3.11/dist-packages (from aiohttp->datasets>=2.0.0->evaluate) (1.3.2)\n",
      "Requirement already satisfied: attrs>=17.3.0 in /usr/local/lib/python3.11/dist-packages (from aiohttp->datasets>=2.0.0->evaluate) (25.3.0)\n",
      "Requirement already satisfied: frozenlist>=1.1.1 in /usr/local/lib/python3.11/dist-packages (from aiohttp->datasets>=2.0.0->evaluate) (1.7.0)\n",
      "Requirement already satisfied: multidict<7.0,>=4.5 in /usr/local/lib/python3.11/dist-packages (from aiohttp->datasets>=2.0.0->evaluate) (6.4.4)\n",
      "Requirement already satisfied: propcache>=0.2.0 in /usr/local/lib/python3.11/dist-packages (from aiohttp->datasets>=2.0.0->evaluate) (0.3.2)\n",
      "Requirement already satisfied: yarl<2.0,>=1.17.0 in /usr/local/lib/python3.11/dist-packages (from aiohttp->datasets>=2.0.0->evaluate) (1.20.1)\n",
      "Requirement already satisfied: six>=1.5 in /usr/local/lib/python3.11/dist-packages (from python-dateutil>=2.8.2->pandas->evaluate) (1.17.0)\n",
      "Downloading evaluate-0.4.3-py3-none-any.whl (84 kB)\n",
      "\u001b[2K   \u001b[90m━━━━━━━━━━━━━━━━━━━━━━━━━━━━━━━━━━━━━━━━\u001b[0m \u001b[32m84.0/84.0 kB\u001b[0m \u001b[31m2.1 MB/s\u001b[0m eta \u001b[36m0:00:00\u001b[0m\n",
      "\u001b[?25hInstalling collected packages: evaluate\n",
      "Successfully installed evaluate-0.4.3\n"
     ]
    }
   ],
   "source": [
    "pip install evaluate"
   ]
  },
  {
   "cell_type": "code",
   "execution_count": 6,
   "metadata": {
    "execution": {
     "iopub.execute_input": "2025-06-19T06:57:07.655852Z",
     "iopub.status.busy": "2025-06-19T06:57:07.655556Z",
     "iopub.status.idle": "2025-06-19T06:57:43.201759Z",
     "shell.execute_reply": "2025-06-19T06:57:43.200896Z",
     "shell.execute_reply.started": "2025-06-19T06:57:07.655823Z"
    },
    "id": "ep5u-c27AnEs"
   },
   "outputs": [],
   "source": [
    "from datasets import DatasetDict, Dataset\n",
    "from transformers import AutoTokenizer, AutoModelForSequenceClassification,TrainingArguments, Trainer\n",
    "from datasets import load_dataset\n",
    "import evaluate\n",
    "from transformers import DataCollatorWithPadding\n",
    "import torch"
   ]
  },
  {
   "cell_type": "code",
   "execution_count": 20,
   "metadata": {
    "execution": {
     "iopub.execute_input": "2025-06-19T06:57:43.204924Z",
     "iopub.status.busy": "2025-06-19T06:57:43.204295Z",
     "iopub.status.idle": "2025-06-19T06:57:49.391892Z",
     "shell.execute_reply": "2025-06-19T06:57:49.390949Z",
     "shell.execute_reply.started": "2025-06-19T06:57:43.204898Z"
    },
    "id": "-rNV-1kQAnEt"
   },
   "outputs": [],
   "source": [
    "data_path = \"/content/drive/MyDrive/WELFake_Dataset.csv\"\n",
    "DF = pd.read_csv(data_path)\n"
   ]
  },
  {
   "cell_type": "code",
   "execution_count": 21,
   "metadata": {
    "colab": {
     "base_uri": "https://localhost:8080/",
     "height": 423
    },
    "execution": {
     "iopub.execute_input": "2025-06-19T06:57:49.393156Z",
     "iopub.status.busy": "2025-06-19T06:57:49.392843Z",
     "iopub.status.idle": "2025-06-19T06:57:49.450116Z",
     "shell.execute_reply": "2025-06-19T06:57:49.449258Z",
     "shell.execute_reply.started": "2025-06-19T06:57:49.393128Z"
    },
    "id": "0fr4-kn-AnEt",
    "outputId": "e079b4b8-5e3b-4634-afbe-fc2c255a2940"
   },
   "outputs": [
    {
     "data": {
      "application/vnd.google.colaboratory.intrinsic+json": {
       "summary": "{\n  \"name\": \"DF\",\n  \"rows\": 71537,\n  \"fields\": [\n    {\n      \"column\": \"Unnamed: 0\",\n      \"properties\": {\n        \"dtype\": \"number\",\n        \"std\": 20826,\n        \"min\": 0,\n        \"max\": 72133,\n        \"num_unique_values\": 71537,\n        \"samples\": [\n          54359,\n          6993,\n          28912\n        ],\n        \"semantic_type\": \"\",\n        \"description\": \"\"\n      }\n    },\n    {\n      \"column\": \"title\",\n      \"properties\": {\n        \"dtype\": \"string\",\n        \"num_unique_values\": 62308,\n        \"samples\": [\n          \"About 146,000 Rohingya have fled Myanmar violence to Bangladesh\",\n          \"Franklin Graham: The media didn\\u2019t understand the \\u2018God-factor\\u2019 in Trump\\u2019s win\",\n          \"T\\u00fcrkei: Kritischer Journalist interviewt Oppositionspolitiker in gemeinsamer Gef\\u00e4ngniszelle\"\n        ],\n        \"semantic_type\": \"\",\n        \"description\": \"\"\n      }\n    },\n    {\n      \"column\": \"text\",\n      \"properties\": {\n        \"dtype\": \"string\",\n        \"num_unique_values\": 62200,\n        \"samples\": [\n          \"Analysis from the Brookings Institution says that 15 million people could lose coverage under Speaker Paul Ryan\\u2019s American Health Care Act. [The Congressional Budget Office (CBO) has yet to score the Ryan plan, although the Brookings Institution\\u2019s report does not bode well for the House leadership\\u2019s bill.  The Ryan plan reports, \\u201cWe conclude that CBO\\u2019s analysis will likely estimate that at least 15 million people will lose coverage under the American Health Care Act (AHCA) by the end of the   scoring window. Estimates could be higher, but it\\u2019s [sic] is unlikely they will be significantly lower. \\u201d The Kaiser Family Foundation states that the Ryan plan\\u2019s tax credits aid wealthier Americans more than   individuals. Older Americans would face comparatively less aid through tax credits than younger counterparts. American Medical Association CEO James Madara also criticized the Republican leadership\\u2019s tax credits, saying, \\u201cWe believe credits inversely related to income, rather than age as proposed in the committee\\u2019s legislation, not only result in greater numbers of people insured but are a more efficient use of   resources. \\u201d Ways and Means Chairman Kevin Brady ( ) has maintained that tax credits help everyone get covered. He said, \\u201cIt covers more people, because it applies to those who don\\u2019t have a tax liability, and it\\u2019s advanceable, so it\\u2019s available today. \\u201d Avik Roy, a health expert at Forbes, argued that tax credits in the Ryan plan will \\u201cprice many poor and vulnerable people out of the health insurance market. \\u201d Michael Cannon, the Cato Institute\\u2019s director of health policy studies, believes that the GOP\\u2019s Obamacare replacement bill will force the poor to lose their coverage. He lamented, \\u201cIf the tax credits (read: subsidies) for   Americans are less than under Obamacare, many more   patients will lose coverage. Premiums will continue to rise. Republicans will take the blame for all of it, because they will have failed to repeal Obamacare, or learn its lessons, when they had the chance. \\u201d\",\n          \"At least six members of the Super   New England Patriots have said they will not visit the White House for the traditional meeting that championship teams have with the president. Running back LeGarrette Blount, defensive end Chris Long and defensive tackle Alan Branch on Thursday became the latest to announce that they would skip the visit. Long posted on Twitter that he \\u201cplanned on skipping\\u201d in response to a column in The Daily News that urged him to skip. Blount revealed his decision on Fox Sports in a radio interview on \\u201cThe Rich Eisen Show\\u201d later in the afternoon. \\u201cI just don\\u2019t feel welcome in that house,\\u201d Blount said. \\u201cI\\u2019m going to just leave it at that. \\u201d Branch told Sirius XM Radio that he planned to spend time with family. A day earlier, the Pro Bowl linebacker Dont\\u2019a Hightower bowed out when he told ESPN, \\u201cBeen there, done that,\\u201d having visited with a championship Alabama team. Tight end Martellus Bennett told reporters after the Super Bowl that he would not go: \\u201cIt is what it is,\\u201d he said. \\u201cPeople know how I feel about it. Just follow me on Twitter. \\u201d The outspoken Bennett had joked that he might move to outer space after Donald J. Trump was elected. The Pro Bowl safety Devin McCourty, a team captain,  told Time magazine: \\u201cBasic reason for me is I don\\u2019t feel accepted in the White House. With the president having so many strong opinions and prejudices, I believe certain people might feel accepted there while others won\\u2019t. \\u201d Bennett and McCourty were in the news for their activism last fall, when they raised their fists in protest during the national anthem for one game. At the time, athletes in various sports were protesting racial oppression in the country. The number of Patriots absences may well increase. Running back James White said he had not made up his mind whether to go. \\u201cI\\u2019ll wait till the time comes and decide then,\\u201d he said. No date has been scheduled for this year\\u2019s ceremony honoring the Patriots. The ceremony for last year\\u2019s champions, the Broncos, took place in June. Perhaps no other team has as close an association with Trump as the Patriots. Just before the election, Trump claimed that he had the support of Patriots quarterback Tom Brady and Coach Bill Belichick. Brady, who displayed a \\u201cMake America Great Again\\u201d cap in his locker during the campaign, never explicitly endorsed Trump, but he spoke favorably of him and they have socialized. Trump also cited a supportive letter he had received from Belichick, and several news media accounts confirmed the letter was authentic. The team\\u2019s owner, Robert K. Kraft, has said he has considered Trump a longtime friend. Brady did not attend his team\\u2019s visit with former President Barack Obama at the White House, in 2015, citing family issues. But some athletes who have skipped the trip over the years have explicitly given politics as a reason. Bruins goalie Tim Thomas declined to visit the Obama White House with his teammates in January 2012, saying in a statement: \\u201cI believe the federal government has grown out of control, threatening the rights, liberties and property of the people. \\u201cBecause I believe this, today I exercised my right as a free citizen, and did not visit the White House. \\u201d Baltimore Ravens center Matt Birk cited his opposition to abortion as the reason for skipping a 2013 visit. A number of other athletes have skipped the ceremony while citing scheduling conflicts or family commitments. Presidents for years have invited sports figures to the White House, but the tradition of honoring championships teams there solidified under Ronald Reagan. Major professional champions and many college champions stop by for a presentation and a photo opportunity. Six Patriots, so far, won\\u2019t make the trip this year.\",\n          \"SAN FRANCISCO  \\u2014   By mastering some tough computer chip technology and then pulling off an audacious business strategy based on selling its smartphone knowledge, Qualcomm has made billions of dollars and seized influence in the tech industry. Some days that is a real drag. On Friday, Apple, its longtime partner, sued Qualcomm over what it said was $1 billion in withheld rebates. In the lawsuit, filed in Federal District Court for the Southern District of California, in San Diego, Apple said the money had been promised in conjunction with an agreement not to buy chips from other suppliers or to divulge Qualcomm\\u2019s intellectual property licensing practices. The suit seeks the rebates, among other things. Apple sued three days after the  Federal Trade Commission accused Qualcomm of using anticompetitive practices to guarantee its high royalty payments for advanced wireless technology. The commission cited Qualcomm\\u2019s deals with Taiwanese companies that manufacture Apple iPhones over semiconductors it sells for the iPhone. In its complaint, the commission described Qualcomm as \\u201cthe world\\u2019s dominant supplier\\u201d of semiconductors that manage smartphone communications. The commission said Qualcomm had obtained \\u201celevated royalties\\u201d for its patented intellectual property on wireless communications. Other smartphone chip makers have to pay Qualcomm for that intellectual property, too. The commission and Apple complaints follow several other problems, including a $975 million fine by Chinese regulators in 2015 and activist shareholder complaints later that year that forced layoffs at Qualcomm. Last month, Qualcomm was fined $850 million in South Korea for unfair patent licensing. When Apple provided information to South Korean regulators in that case, and sought competing chips from Intel, Qualcomm refused to pay Apple its promised money, Apple said. Qualcomm has vowed to fight the South Korean charge and the F. T. C. suit. \\u201cApple has intentionally mischaracterized our agreements and negotiations,\\u201d Qualcomm said in a statement, adding that it would fight that lawsuit, too. Few expect Qualcomm to back down. It was shaped by its founders to be brainy, combative and profitable. \\u201cThey are seasoned, and equipped to fight,\\u201d said Mark Hung, an analyst at Gartner. \\u201cBut when such a big company is so reliant on the way it sells its intellectual property, and under the microscope in various geographies, it\\u2019s tough. \\u201d Qualcomm, which is based in San Diego, far from Silicon Valley, was founded in 1985 by seven people, including Irwin Jacobs and Andrew Viterbi. The two were   electrical engineering professors who had formed a military satellite communications company. Qualcomm\\u2019s engineers work at a   campus between a park and the University of California, San Diego. They have earned thousands of patents, including for the airplane mode on smartphones and the way apps are downloaded from stores. Companies like Samsung and Apple need Qualcomm for the technology that enables things like   wireless video for millions of people at once. Its major technology is spread spectrum, which harnesses lots of computation and clever radio engineering for use in the various functions of smartphones. Qualcomm\\u2019s radio technology is called CDMA, for code division multiple access, a way voice calls work more efficiently over cellphone networks. And the company\\u2019s influence grew over the last several years with the advent of   or 3G, phones as people started downloading lots of mobile data as well as making calls. At the time, many thought Qualcomm\\u2019s success would be limited to that transition. Instead, Qualcomm innovated in 4G wireless for the new smartphones from Samsung and Apple that toppled Nokia and Motorola. In its last fiscal year, Qualcomm had revenue of $23. 6 billion and a profit of $5. 7 billion. Qualcomm\\u2019s ventures in phones and network gear helped promote CDMA but did not make much money because older companies did not need CDMA until the success of wireless began to tax the capacity of their networks. Qualcomm turned to Asian companies that wanted to get into wireless. \\u201cYou\\u2019d never have seen the Koreans or the Chinese in wireless if not for Qualcomm and CDMA,\\u201d said Clint McClellan, a   employee of Qualcomm who now runs a wireless health business. \\u201cWe enabled those markets. \\u201d South Korea, in particular, made CDMA an industrial policy, which carried Qualcomm for years. More recently, China accounted for half of Qualcomm\\u2019s revenue. Apple\\u2019s Taiwanese manufacturers, which pay Qualcomm royalties for iPhones, are another big profit center. Qualcomm would not say what it charges for its intellectual property, but analysts figure the fee usually amounts to 5 percent of the selling price of a phone  \\u2014   at least it did, until the 2015 Chinese fine, which included an agreement that Chinese manufacturers pay only about half the old Qualcomm royalty. That, and problems collecting Chinese royalties even before the agreement, hurt Qualcomm\\u2019s share price. In 2015, Jana Partners, an activist hedge fund, stepped in and pressed for a breakup of the company into separate intellectual property and chip businesses. That did not happen, but Qualcomm cut about 15 percent of its staff, cut executive pay and gave Jana three board seats. The stock has recovered to about where it was just before the fine, but not to the heights it reached before the problems. By helping to create today\\u2019s smartphone giants, Qualcomm may have engineered its current woes. Qualcomm executives say they see a connection between the China discounts, which Qualcomm had hoped would be limited to that country, and the latest regulatory attacks. \\u201cWe believe Samsung had a major role to play in the Korean decision,\\u201d said Don Rosenberg, a lawyer for Qualcomm. The regulators, he said, \\u201cwere prodded and misled by commercial interests. \\u201d In an email,   Jee, a spokeswoman for Samsung, said it \\u201cwas one of many multinational corporations\\u201d that responded to questions from South Korean regulators. Qualcomm\\u2019s lawyer figures the Korean case may take years to move through the courts. And recent events, including the impeachment of South Korea\\u2019s president and a  bribery scandal at Samsung, could complicate, or eliminate, Qualcomm\\u2019s regulatory issues there. Additionally, the F. T. C. has just three of its normal five commissioners. One of those, Maureen Ohlhausen, a Republican, voted against the suit. She may be named chairwoman when the current chairwoman, Edith Ramirez, a Democrat, steps down on Feb. 10. Neither the F. T. C. nor Apple would comment on the United States case against Qualcomm. \\u201cIt\\u2019s disappointing when our partners want to pay less after we\\u2019ve contributed to their success,\\u201d said Derek Aberle, Qualcomm\\u2019s president. Now it must get out ahead of other technology inventors in 5G, possibly while paying billions in fines and dealing with a painful restructuring and fraying relationships with its biggest customers. \\u201cWe\\u2019re not sitting still\\u201d while the problems are sorted, Mr. Aberle said. \\u201cYou have to invest, and invent cool stuff that will change the way people live their lives. \\u201d In other words, create unique technology so people will keep paying for Qualcomm\\u2019s expensive intellectual property.\"\n        ],\n        \"semantic_type\": \"\",\n        \"description\": \"\"\n      }\n    },\n    {\n      \"column\": \"label\",\n      \"properties\": {\n        \"dtype\": \"number\",\n        \"std\": 0,\n        \"min\": 0,\n        \"max\": 1,\n        \"num_unique_values\": 2,\n        \"samples\": [\n          0,\n          1\n        ],\n        \"semantic_type\": \"\",\n        \"description\": \"\"\n      }\n    }\n  ]\n}",
       "type": "dataframe"
      },
      "text/html": [
       "\n",
       "  <div id=\"df-367ae1e0-60b6-4756-939c-196d76f793a4\" class=\"colab-df-container\">\n",
       "    <div>\n",
       "<style scoped>\n",
       "    .dataframe tbody tr th:only-of-type {\n",
       "        vertical-align: middle;\n",
       "    }\n",
       "\n",
       "    .dataframe tbody tr th {\n",
       "        vertical-align: top;\n",
       "    }\n",
       "\n",
       "    .dataframe thead th {\n",
       "        text-align: right;\n",
       "    }\n",
       "</style>\n",
       "<table border=\"1\" class=\"dataframe\">\n",
       "  <thead>\n",
       "    <tr style=\"text-align: right;\">\n",
       "      <th></th>\n",
       "      <th>Unnamed: 0</th>\n",
       "      <th>title</th>\n",
       "      <th>text</th>\n",
       "      <th>label</th>\n",
       "    </tr>\n",
       "  </thead>\n",
       "  <tbody>\n",
       "    <tr>\n",
       "      <th>0</th>\n",
       "      <td>0</td>\n",
       "      <td>LAW ENFORCEMENT ON HIGH ALERT Following Threat...</td>\n",
       "      <td>No comment is expected from Barack Obama Membe...</td>\n",
       "      <td>1</td>\n",
       "    </tr>\n",
       "    <tr>\n",
       "      <th>2</th>\n",
       "      <td>2</td>\n",
       "      <td>UNBELIEVABLE! OBAMA’S ATTORNEY GENERAL SAYS MO...</td>\n",
       "      <td>Now, most of the demonstrators gathered last ...</td>\n",
       "      <td>1</td>\n",
       "    </tr>\n",
       "    <tr>\n",
       "      <th>3</th>\n",
       "      <td>3</td>\n",
       "      <td>Bobby Jindal, raised Hindu, uses story of Chri...</td>\n",
       "      <td>A dozen politically active pastors came here f...</td>\n",
       "      <td>0</td>\n",
       "    </tr>\n",
       "    <tr>\n",
       "      <th>4</th>\n",
       "      <td>4</td>\n",
       "      <td>SATAN 2: Russia unvelis an image of its terrif...</td>\n",
       "      <td>The RS-28 Sarmat missile, dubbed Satan 2, will...</td>\n",
       "      <td>1</td>\n",
       "    </tr>\n",
       "    <tr>\n",
       "      <th>5</th>\n",
       "      <td>5</td>\n",
       "      <td>About Time! Christian Group Sues Amazon and SP...</td>\n",
       "      <td>All we can say on this one is it s about time ...</td>\n",
       "      <td>1</td>\n",
       "    </tr>\n",
       "    <tr>\n",
       "      <th>...</th>\n",
       "      <td>...</td>\n",
       "      <td>...</td>\n",
       "      <td>...</td>\n",
       "      <td>...</td>\n",
       "    </tr>\n",
       "    <tr>\n",
       "      <th>72129</th>\n",
       "      <td>72129</td>\n",
       "      <td>Russians steal research on Trump in hack of U....</td>\n",
       "      <td>WASHINGTON (Reuters) - Hackers believed to be ...</td>\n",
       "      <td>0</td>\n",
       "    </tr>\n",
       "    <tr>\n",
       "      <th>72130</th>\n",
       "      <td>72130</td>\n",
       "      <td>WATCH: Giuliani Demands That Democrats Apolog...</td>\n",
       "      <td>You know, because in fantasyland Republicans n...</td>\n",
       "      <td>1</td>\n",
       "    </tr>\n",
       "    <tr>\n",
       "      <th>72131</th>\n",
       "      <td>72131</td>\n",
       "      <td>Migrants Refuse To Leave Train At Refugee Camp...</td>\n",
       "      <td>Migrants Refuse To Leave Train At Refugee Camp...</td>\n",
       "      <td>0</td>\n",
       "    </tr>\n",
       "    <tr>\n",
       "      <th>72132</th>\n",
       "      <td>72132</td>\n",
       "      <td>Trump tussle gives unpopular Mexican leader mu...</td>\n",
       "      <td>MEXICO CITY (Reuters) - Donald Trump’s combati...</td>\n",
       "      <td>0</td>\n",
       "    </tr>\n",
       "    <tr>\n",
       "      <th>72133</th>\n",
       "      <td>72133</td>\n",
       "      <td>Goldman Sachs Endorses Hillary Clinton For Pre...</td>\n",
       "      <td>Goldman Sachs Endorses Hillary Clinton For Pre...</td>\n",
       "      <td>1</td>\n",
       "    </tr>\n",
       "  </tbody>\n",
       "</table>\n",
       "<p>71537 rows × 4 columns</p>\n",
       "</div>\n",
       "    <div class=\"colab-df-buttons\">\n",
       "\n",
       "  <div class=\"colab-df-container\">\n",
       "    <button class=\"colab-df-convert\" onclick=\"convertToInteractive('df-367ae1e0-60b6-4756-939c-196d76f793a4')\"\n",
       "            title=\"Convert this dataframe to an interactive table.\"\n",
       "            style=\"display:none;\">\n",
       "\n",
       "  <svg xmlns=\"http://www.w3.org/2000/svg\" height=\"24px\" viewBox=\"0 -960 960 960\">\n",
       "    <path d=\"M120-120v-720h720v720H120Zm60-500h600v-160H180v160Zm220 220h160v-160H400v160Zm0 220h160v-160H400v160ZM180-400h160v-160H180v160Zm440 0h160v-160H620v160ZM180-180h160v-160H180v160Zm440 0h160v-160H620v160Z\"/>\n",
       "  </svg>\n",
       "    </button>\n",
       "\n",
       "  <style>\n",
       "    .colab-df-container {\n",
       "      display:flex;\n",
       "      gap: 12px;\n",
       "    }\n",
       "\n",
       "    .colab-df-convert {\n",
       "      background-color: #E8F0FE;\n",
       "      border: none;\n",
       "      border-radius: 50%;\n",
       "      cursor: pointer;\n",
       "      display: none;\n",
       "      fill: #1967D2;\n",
       "      height: 32px;\n",
       "      padding: 0 0 0 0;\n",
       "      width: 32px;\n",
       "    }\n",
       "\n",
       "    .colab-df-convert:hover {\n",
       "      background-color: #E2EBFA;\n",
       "      box-shadow: 0px 1px 2px rgba(60, 64, 67, 0.3), 0px 1px 3px 1px rgba(60, 64, 67, 0.15);\n",
       "      fill: #174EA6;\n",
       "    }\n",
       "\n",
       "    .colab-df-buttons div {\n",
       "      margin-bottom: 4px;\n",
       "    }\n",
       "\n",
       "    [theme=dark] .colab-df-convert {\n",
       "      background-color: #3B4455;\n",
       "      fill: #D2E3FC;\n",
       "    }\n",
       "\n",
       "    [theme=dark] .colab-df-convert:hover {\n",
       "      background-color: #434B5C;\n",
       "      box-shadow: 0px 1px 3px 1px rgba(0, 0, 0, 0.15);\n",
       "      filter: drop-shadow(0px 1px 2px rgba(0, 0, 0, 0.3));\n",
       "      fill: #FFFFFF;\n",
       "    }\n",
       "  </style>\n",
       "\n",
       "    <script>\n",
       "      const buttonEl =\n",
       "        document.querySelector('#df-367ae1e0-60b6-4756-939c-196d76f793a4 button.colab-df-convert');\n",
       "      buttonEl.style.display =\n",
       "        google.colab.kernel.accessAllowed ? 'block' : 'none';\n",
       "\n",
       "      async function convertToInteractive(key) {\n",
       "        const element = document.querySelector('#df-367ae1e0-60b6-4756-939c-196d76f793a4');\n",
       "        const dataTable =\n",
       "          await google.colab.kernel.invokeFunction('convertToInteractive',\n",
       "                                                    [key], {});\n",
       "        if (!dataTable) return;\n",
       "\n",
       "        const docLinkHtml = 'Like what you see? Visit the ' +\n",
       "          '<a target=\"_blank\" href=https://colab.research.google.com/notebooks/data_table.ipynb>data table notebook</a>'\n",
       "          + ' to learn more about interactive tables.';\n",
       "        element.innerHTML = '';\n",
       "        dataTable['output_type'] = 'display_data';\n",
       "        await google.colab.output.renderOutput(dataTable, element);\n",
       "        const docLink = document.createElement('div');\n",
       "        docLink.innerHTML = docLinkHtml;\n",
       "        element.appendChild(docLink);\n",
       "      }\n",
       "    </script>\n",
       "  </div>\n",
       "\n",
       "\n",
       "    <div id=\"df-a70b8d56-f3d2-446d-af53-7dda6e83191c\">\n",
       "      <button class=\"colab-df-quickchart\" onclick=\"quickchart('df-a70b8d56-f3d2-446d-af53-7dda6e83191c')\"\n",
       "                title=\"Suggest charts\"\n",
       "                style=\"display:none;\">\n",
       "\n",
       "<svg xmlns=\"http://www.w3.org/2000/svg\" height=\"24px\"viewBox=\"0 0 24 24\"\n",
       "     width=\"24px\">\n",
       "    <g>\n",
       "        <path d=\"M19 3H5c-1.1 0-2 .9-2 2v14c0 1.1.9 2 2 2h14c1.1 0 2-.9 2-2V5c0-1.1-.9-2-2-2zM9 17H7v-7h2v7zm4 0h-2V7h2v10zm4 0h-2v-4h2v4z\"/>\n",
       "    </g>\n",
       "</svg>\n",
       "      </button>\n",
       "\n",
       "<style>\n",
       "  .colab-df-quickchart {\n",
       "      --bg-color: #E8F0FE;\n",
       "      --fill-color: #1967D2;\n",
       "      --hover-bg-color: #E2EBFA;\n",
       "      --hover-fill-color: #174EA6;\n",
       "      --disabled-fill-color: #AAA;\n",
       "      --disabled-bg-color: #DDD;\n",
       "  }\n",
       "\n",
       "  [theme=dark] .colab-df-quickchart {\n",
       "      --bg-color: #3B4455;\n",
       "      --fill-color: #D2E3FC;\n",
       "      --hover-bg-color: #434B5C;\n",
       "      --hover-fill-color: #FFFFFF;\n",
       "      --disabled-bg-color: #3B4455;\n",
       "      --disabled-fill-color: #666;\n",
       "  }\n",
       "\n",
       "  .colab-df-quickchart {\n",
       "    background-color: var(--bg-color);\n",
       "    border: none;\n",
       "    border-radius: 50%;\n",
       "    cursor: pointer;\n",
       "    display: none;\n",
       "    fill: var(--fill-color);\n",
       "    height: 32px;\n",
       "    padding: 0;\n",
       "    width: 32px;\n",
       "  }\n",
       "\n",
       "  .colab-df-quickchart:hover {\n",
       "    background-color: var(--hover-bg-color);\n",
       "    box-shadow: 0 1px 2px rgba(60, 64, 67, 0.3), 0 1px 3px 1px rgba(60, 64, 67, 0.15);\n",
       "    fill: var(--button-hover-fill-color);\n",
       "  }\n",
       "\n",
       "  .colab-df-quickchart-complete:disabled,\n",
       "  .colab-df-quickchart-complete:disabled:hover {\n",
       "    background-color: var(--disabled-bg-color);\n",
       "    fill: var(--disabled-fill-color);\n",
       "    box-shadow: none;\n",
       "  }\n",
       "\n",
       "  .colab-df-spinner {\n",
       "    border: 2px solid var(--fill-color);\n",
       "    border-color: transparent;\n",
       "    border-bottom-color: var(--fill-color);\n",
       "    animation:\n",
       "      spin 1s steps(1) infinite;\n",
       "  }\n",
       "\n",
       "  @keyframes spin {\n",
       "    0% {\n",
       "      border-color: transparent;\n",
       "      border-bottom-color: var(--fill-color);\n",
       "      border-left-color: var(--fill-color);\n",
       "    }\n",
       "    20% {\n",
       "      border-color: transparent;\n",
       "      border-left-color: var(--fill-color);\n",
       "      border-top-color: var(--fill-color);\n",
       "    }\n",
       "    30% {\n",
       "      border-color: transparent;\n",
       "      border-left-color: var(--fill-color);\n",
       "      border-top-color: var(--fill-color);\n",
       "      border-right-color: var(--fill-color);\n",
       "    }\n",
       "    40% {\n",
       "      border-color: transparent;\n",
       "      border-right-color: var(--fill-color);\n",
       "      border-top-color: var(--fill-color);\n",
       "    }\n",
       "    60% {\n",
       "      border-color: transparent;\n",
       "      border-right-color: var(--fill-color);\n",
       "    }\n",
       "    80% {\n",
       "      border-color: transparent;\n",
       "      border-right-color: var(--fill-color);\n",
       "      border-bottom-color: var(--fill-color);\n",
       "    }\n",
       "    90% {\n",
       "      border-color: transparent;\n",
       "      border-bottom-color: var(--fill-color);\n",
       "    }\n",
       "  }\n",
       "</style>\n",
       "\n",
       "      <script>\n",
       "        async function quickchart(key) {\n",
       "          const quickchartButtonEl =\n",
       "            document.querySelector('#' + key + ' button');\n",
       "          quickchartButtonEl.disabled = true;  // To prevent multiple clicks.\n",
       "          quickchartButtonEl.classList.add('colab-df-spinner');\n",
       "          try {\n",
       "            const charts = await google.colab.kernel.invokeFunction(\n",
       "                'suggestCharts', [key], {});\n",
       "          } catch (error) {\n",
       "            console.error('Error during call to suggestCharts:', error);\n",
       "          }\n",
       "          quickchartButtonEl.classList.remove('colab-df-spinner');\n",
       "          quickchartButtonEl.classList.add('colab-df-quickchart-complete');\n",
       "        }\n",
       "        (() => {\n",
       "          let quickchartButtonEl =\n",
       "            document.querySelector('#df-a70b8d56-f3d2-446d-af53-7dda6e83191c button');\n",
       "          quickchartButtonEl.style.display =\n",
       "            google.colab.kernel.accessAllowed ? 'block' : 'none';\n",
       "        })();\n",
       "      </script>\n",
       "    </div>\n",
       "\n",
       "    </div>\n",
       "  </div>\n"
      ],
      "text/plain": [
       "       Unnamed: 0                                              title  \\\n",
       "0               0  LAW ENFORCEMENT ON HIGH ALERT Following Threat...   \n",
       "2               2  UNBELIEVABLE! OBAMA’S ATTORNEY GENERAL SAYS MO...   \n",
       "3               3  Bobby Jindal, raised Hindu, uses story of Chri...   \n",
       "4               4  SATAN 2: Russia unvelis an image of its terrif...   \n",
       "5               5  About Time! Christian Group Sues Amazon and SP...   \n",
       "...           ...                                                ...   \n",
       "72129       72129  Russians steal research on Trump in hack of U....   \n",
       "72130       72130   WATCH: Giuliani Demands That Democrats Apolog...   \n",
       "72131       72131  Migrants Refuse To Leave Train At Refugee Camp...   \n",
       "72132       72132  Trump tussle gives unpopular Mexican leader mu...   \n",
       "72133       72133  Goldman Sachs Endorses Hillary Clinton For Pre...   \n",
       "\n",
       "                                                    text  label  \n",
       "0      No comment is expected from Barack Obama Membe...      1  \n",
       "2       Now, most of the demonstrators gathered last ...      1  \n",
       "3      A dozen politically active pastors came here f...      0  \n",
       "4      The RS-28 Sarmat missile, dubbed Satan 2, will...      1  \n",
       "5      All we can say on this one is it s about time ...      1  \n",
       "...                                                  ...    ...  \n",
       "72129  WASHINGTON (Reuters) - Hackers believed to be ...      0  \n",
       "72130  You know, because in fantasyland Republicans n...      1  \n",
       "72131  Migrants Refuse To Leave Train At Refugee Camp...      0  \n",
       "72132  MEXICO CITY (Reuters) - Donald Trump’s combati...      0  \n",
       "72133  Goldman Sachs Endorses Hillary Clinton For Pre...      1  \n",
       "\n",
       "[71537 rows x 4 columns]"
      ]
     },
     "execution_count": 21,
     "metadata": {},
     "output_type": "execute_result"
    }
   ],
   "source": [
    "DF.dropna()"
   ]
  },
  {
   "cell_type": "code",
   "execution_count": 22,
   "metadata": {
    "execution": {
     "iopub.execute_input": "2025-06-19T06:57:49.451764Z",
     "iopub.status.busy": "2025-06-19T06:57:49.451094Z",
     "iopub.status.idle": "2025-06-19T06:57:49.467981Z",
     "shell.execute_reply": "2025-06-19T06:57:49.467183Z",
     "shell.execute_reply.started": "2025-06-19T06:57:49.451708Z"
    },
    "id": "jsT8U-ZsAnEt"
   },
   "outputs": [],
   "source": [
    "DF.drop(\"Unnamed: 0\" , inplace=True , axis=1)\n"
   ]
  },
  {
   "cell_type": "code",
   "execution_count": 23,
   "metadata": {
    "execution": {
     "iopub.execute_input": "2025-06-19T06:57:49.469449Z",
     "iopub.status.busy": "2025-06-19T06:57:49.469105Z",
     "iopub.status.idle": "2025-06-19T06:57:49.94749Z",
     "shell.execute_reply": "2025-06-19T06:57:49.946741Z",
     "shell.execute_reply.started": "2025-06-19T06:57:49.469425Z"
    },
    "id": "jxUc6ecJAnEu"
   },
   "outputs": [],
   "source": [
    "DF[\"Content\"] = DF[\"title\"]+DF[\"text\"]"
   ]
  },
  {
   "cell_type": "code",
   "execution_count": 24,
   "metadata": {
    "execution": {
     "iopub.execute_input": "2025-06-19T06:57:49.948565Z",
     "iopub.status.busy": "2025-06-19T06:57:49.948327Z",
     "iopub.status.idle": "2025-06-19T06:57:49.961454Z",
     "shell.execute_reply": "2025-06-19T06:57:49.960872Z",
     "shell.execute_reply.started": "2025-06-19T06:57:49.948547Z"
    },
    "id": "yoj0jXbPAnEu"
   },
   "outputs": [],
   "source": [
    "DF.drop([\"title\" , \"text\"] , axis=1 , inplace=True)"
   ]
  },
  {
   "cell_type": "code",
   "execution_count": 25,
   "metadata": {
    "colab": {
     "base_uri": "https://localhost:8080/",
     "height": 147
    },
    "id": "VVXbjJR7IqCM",
    "outputId": "1a8ad933-9d1a-42eb-e45e-e1259b73bdd0"
   },
   "outputs": [
    {
     "data": {
      "text/html": [
       "<div>\n",
       "<style scoped>\n",
       "    .dataframe tbody tr th:only-of-type {\n",
       "        vertical-align: middle;\n",
       "    }\n",
       "\n",
       "    .dataframe tbody tr th {\n",
       "        vertical-align: top;\n",
       "    }\n",
       "\n",
       "    .dataframe thead th {\n",
       "        text-align: right;\n",
       "    }\n",
       "</style>\n",
       "<table border=\"1\" class=\"dataframe\">\n",
       "  <thead>\n",
       "    <tr style=\"text-align: right;\">\n",
       "      <th></th>\n",
       "      <th>0</th>\n",
       "    </tr>\n",
       "  </thead>\n",
       "  <tbody>\n",
       "    <tr>\n",
       "      <th>label</th>\n",
       "      <td>0</td>\n",
       "    </tr>\n",
       "    <tr>\n",
       "      <th>Content</th>\n",
       "      <td>597</td>\n",
       "    </tr>\n",
       "  </tbody>\n",
       "</table>\n",
       "</div><br><label><b>dtype:</b> int64</label>"
      ],
      "text/plain": [
       "label        0\n",
       "Content    597\n",
       "dtype: int64"
      ]
     },
     "execution_count": 25,
     "metadata": {},
     "output_type": "execute_result"
    }
   ],
   "source": [
    "DF.isna().sum()"
   ]
  },
  {
   "cell_type": "code",
   "execution_count": 26,
   "metadata": {
    "execution": {
     "iopub.execute_input": "2025-06-19T06:57:49.963094Z",
     "iopub.status.busy": "2025-06-19T06:57:49.962537Z",
     "iopub.status.idle": "2025-06-19T06:57:49.994895Z",
     "shell.execute_reply": "2025-06-19T06:57:49.994051Z",
     "shell.execute_reply.started": "2025-06-19T06:57:49.963073Z"
    },
    "id": "FdMm0euwAnEu"
   },
   "outputs": [],
   "source": [
    "DF.dropna(inplace=True)"
   ]
  },
  {
   "cell_type": "code",
   "execution_count": 27,
   "metadata": {
    "colab": {
     "base_uri": "https://localhost:8080/",
     "height": 147
    },
    "id": "nD4hWzlOIyYk",
    "outputId": "46899aec-e18c-4ea1-aafa-900cd5f1fc12"
   },
   "outputs": [
    {
     "data": {
      "text/html": [
       "<div>\n",
       "<style scoped>\n",
       "    .dataframe tbody tr th:only-of-type {\n",
       "        vertical-align: middle;\n",
       "    }\n",
       "\n",
       "    .dataframe tbody tr th {\n",
       "        vertical-align: top;\n",
       "    }\n",
       "\n",
       "    .dataframe thead th {\n",
       "        text-align: right;\n",
       "    }\n",
       "</style>\n",
       "<table border=\"1\" class=\"dataframe\">\n",
       "  <thead>\n",
       "    <tr style=\"text-align: right;\">\n",
       "      <th></th>\n",
       "      <th>0</th>\n",
       "    </tr>\n",
       "  </thead>\n",
       "  <tbody>\n",
       "    <tr>\n",
       "      <th>label</th>\n",
       "      <td>0</td>\n",
       "    </tr>\n",
       "    <tr>\n",
       "      <th>Content</th>\n",
       "      <td>0</td>\n",
       "    </tr>\n",
       "  </tbody>\n",
       "</table>\n",
       "</div><br><label><b>dtype:</b> int64</label>"
      ],
      "text/plain": [
       "label      0\n",
       "Content    0\n",
       "dtype: int64"
      ]
     },
     "execution_count": 27,
     "metadata": {},
     "output_type": "execute_result"
    }
   ],
   "source": [
    "DF.isna().sum()"
   ]
  },
  {
   "cell_type": "code",
   "execution_count": 28,
   "metadata": {
    "execution": {
     "iopub.execute_input": "2025-06-19T06:57:49.996775Z",
     "iopub.status.busy": "2025-06-19T06:57:49.99593Z",
     "iopub.status.idle": "2025-06-19T06:57:50.001202Z",
     "shell.execute_reply": "2025-06-19T06:57:50.000244Z",
     "shell.execute_reply.started": "2025-06-19T06:57:49.996743Z"
    },
    "id": "YhxGVSoOAnEu"
   },
   "outputs": [],
   "source": [
    "import re\n",
    "\n",
    "def clean(text):\n",
    "    if not isinstance(text, str):\n",
    "        return \"\"\n",
    "    text = text.lower()\n",
    "    text = re.sub(r'[^a-z0-9\\s]', '', text)\n",
    "    text = re.sub(r'\\s+', ' ', text).strip()\n",
    "\n",
    "    return text\n",
    "\n",
    "\n"
   ]
  },
  {
   "cell_type": "code",
   "execution_count": 29,
   "metadata": {
    "colab": {
     "base_uri": "https://localhost:8080/",
     "height": 423
    },
    "id": "1ouzXfJCI9xU",
    "outputId": "26eb351a-9410-47ef-93f2-ff87180042b3"
   },
   "outputs": [
    {
     "data": {
      "application/vnd.google.colaboratory.intrinsic+json": {
       "summary": "{\n  \"name\": \"DF\",\n  \"rows\": 71537,\n  \"fields\": [\n    {\n      \"column\": \"label\",\n      \"properties\": {\n        \"dtype\": \"number\",\n        \"std\": 0,\n        \"min\": 0,\n        \"max\": 1,\n        \"num_unique_values\": 2,\n        \"samples\": [\n          0,\n          1\n        ],\n        \"semantic_type\": \"\",\n        \"description\": \"\"\n      }\n    },\n    {\n      \"column\": \"Content\",\n      \"properties\": {\n        \"dtype\": \"string\",\n        \"num_unique_values\": 63121,\n        \"samples\": [\n          \" Donald Trump Responds To Mockery Over Fake Swedish Attack \\u2013 Prepare To Laugh Your A** OffLast night, at a rally in Melbourne, Florida, Trump was trying to build more fear of brown people in his base of loyalists by referencing a completely imaginary terror attack in Sweden. Since then, he s received an earful from the former Prime Minister of Sweden, prompted questions from confused Swedes, and social media has been abuzz with mockery of the imaginary attack, too.One would have expected Trump to respond fairly quickly, since he s now formally joined the ranks of Kellyanne Conway and Sean Spicer when it comes to fake terror attacks, but he didn t. He waited until this afternoon to respond, and it s extremely laughable:My statement as to what s happening in Sweden was in reference to a story that was broadcast on @FoxNews concerning immigrants & Sweden.  Donald J. Trump (@realDonaldTrump) February 19, 2017Yes, sure, by all means, let s call this debacle Fox News  fault and completely ignore the words that actually spewed forth from his mouth: You look at what s happening last night in Sweden. Sweden! Who would believe this? Sweden! They took in large numbers. They re having problems that they never thought possible. Twitter, meanwhile, is positively gleeful in their mockery of the liar of liars for another egregious lie:@realDonaldTrump  none of which referred to anything that happened two nights ago.  Alex Zalben (@azalben) February 19, 2017.@realDonaldTrump  I apologize. I will hold myself to provide a more clear and accurate respresentation of my beliefs in future speeches.  Will McAvoy (@WillMcAvoyACN) February 19, 2017@realDonaldTrump Hey, dumbass. What happened in Sweden? Nothing. That s what. FAKE NEWS! pic.twitter.com/PR4Cu42mbb  The Socialist Party (@OfficialSPGB) February 19, 2017@realDonaldTrump @FoxNews Of course it fucking was.  Mark Pygas (@MarkPygas) February 19, 2017@realDonaldTrump You said  last night in Sweden . Don t retract. You are fake news for the unintelligent.  Tony Posnanski (@tonyposnanski) February 19, 2017You are fake news, Mr. So-Called President.#swedenincident #iamamuslimtoo #FuckYouBitch https://t.co/MGOL0oWFPs  Jade Helm Commander (@Anomaly100) February 19, 2017.@realDonaldTrump Who needs the intelligence community when there is Fox News?  Simon Hedlin (@simonhedlin) February 19, 2017Here s someone who was a likely witness to the imaginary attack, since reports say Swedish fish were everywhere at the scene:@realDonaldTrump @FoxNews pic.twitter.com/bGk4nMmc5e  Mike Denison (@mikd33) February 19, 2017@mikd33 @realDonaldTrump @FoxNews These fish are clearly terrorists.  Austin Braun (@AustinOnSocial) February 19, 2017@realDonaldTrump @FoxNews pic.twitter.com/dYPgcgHhmo  #TheResistance (@AynRandPaulRyan) February 19, 2017@realDonaldTrump @FoxNews pic.twitter.com/hoF53staXG  #TheResistance (@AynRandPaulRyan) February 19, 2017@realDonaldTrump Also, is @foxandfriends your new National Security Advisor?  Evan Dashevsky (@haldash) February 19, 2017@realDonaldTrump  oh I saw it on TV, people told me this  instead of being responsible for what comes out of his mouth.  Erick Fernandez (@ErickFernandez) February 19, 2017@realDonaldTrump @FoxNews OK time to have a chat again, so tell President Emperor Bannon you need a smoke break. This will take a bit.  Kevin (@TheKevinDent) February 19, 2017@realDonaldTrump So you blindly spout whether @FoxNews tells you to? It s pathetic, not to mention awfully irresponsible, 45.  Mike P Williams (@Mike_P_Williams) February 19, 2017Here s what someone who appears to be in Sweden has to say:@realDonaldTrump @FoxNews There is no migrant crisis in Sweden. We have free health care, free education, a functioning welfare system. ??  Ines Helene (@inihelene) February 19, 2017How embarrassing. You re hopelessly confused. Sad! @realDonaldTrump https://t.co/2mRZAjuj6f  Charles Johnson (@Green_Footballs) February 19, 2017Um @erichmcelroy is @realDonaldTrump now trying to blame @FoxNews? I thought we could trust them!  Mark Machado (@MarkMachado) February 19, 2017 Maybe, just as a change of pace and maybe to keep all of us on our toes, he should actually take responsibility for what he says and apologize. But what are we talking about? Trump is one of the worst pathological liars in the long, sad history of pathological liars.Featured image by Joe Raedle via Getty Images\",\n          \"TweetwaveThis time it's true no pantsTweetwave More Of Anthony Weiner's Greatest Hits Users browsing this forum: No registered users and 13 guests Display posts from previous: Powered by phpBB \\u00a9 2000, 2002, 2005, 2007 phpBB Group The uncontested absurdities of today are the accepted slogans of tomorrow. They come to be accepted by degrees, by precedent, by implication, by erosion, by default, by dint of constant pressure on one side and constant retreat on the other - until the day when they are suddenly declared to be the country's official ideology. ~ Ayn Rand \\nRubiks & Rubik\\u2019s Cube \\u00ae used by special individual permission of Seven Town Ltd. Write down this number and report to your Kommissar at the nearest railroad station. Don't forget warm clothes and a shovel! Channel list \\nFollowing hurricane Matthew's failure to devastate Florida, activists flock to the Sunshine State and destroy Trump signs manually \\nTim Kaine takes credit for interrupting hurricane Matthew while debating weather in Florida \\nStudy: Many non-voters still undecided on how they're not going to vote \\nThe Evolution of Dissent: on November 8th the nation is to decide whether dissent will stop being racist and become sexist - or it will once again be patriotic as it was for 8 years under George W. Bush \\nVenezuela solves starvation problem by making it mandatory to buy food \\nBreaking: the Clinton Foundation set to investigate the FBI \\nObama \\u200b\\u200bcaptures rare Pok\\u00e9mon \\u200b\\u200bwhile visiting Hiroshima \\nMovie news: 'The Big Friendly Giant Government' flops at box office; audiences say \\\"It's creepy\\\" \\nBarack Obama: \\\"If I had a son, he'd look like Micah Johnson\\\" \\nWhite House edits Orlando 911 transcript to say shooter pledged allegiance to NRA and Republican Party \\nPresident George Washington: 'Redcoats do not represent British Empire; King George promotes a distorted version of British colonialism' \\nFollowing Obama's 'Okie-Doke' speech , stock of Okie-Doke soars; NASDAQ: 'Obama best Okie-Doke salesman' \\nWeaponized baby formula threatens Planned Parenthood office; ACLU demands federal investigation of Gerber \\nExperts: melting Antarctic glacier could cause sale levels to rise up to 80% off select items by this weekend \\nTravel advisory: airlines now offering flights to front of TSA line \\nAs Obama instructs his administration to get ready for presidential transition, Trump preemptively purchases 'T' keys for White House keyboards \\nJohn Kasich self-identifies as GOP primary winner, demands access to White House bathroom \\nUpcoming Trump/Kelly interview on FoxNews sponsored by 'Let's Make a Deal' and 'The Price is Right' \\nNews from 2017: once the evacuation of Lena Dunham and 90% of other Hollywood celebrities to Canada is confirmed, Trump resigns from presidency: \\\"My work here is done\\\" \\nNon-presidential candidate Paul Ryan pledges not to run for president in new non-presidential non-ad campaign \\nTrump suggests creating 'Muslim database'; Obama symbolically protests by shredding White House guest logs beginning 2009 \\nNational Enquirer: John Kasich's real dad was the milkman, not mailman \\nNational Enquirer: Bound delegates from Colorado, Wyoming found in Ted Cruz\\u2019s basement \\nIran breaks its pinky-swear promise not to support terrorism; US State Department vows rock-paper-scissors strategic response \\nWomen across the country cheer as racist Democrat president on $20 bill is replaced by black pro-gun Republican \\nFederal Reserve solves budget crisis by writing itself a 20-trillion-dollar check \\nWidows, orphans claim responsibility for Brussels airport bombing \\nChe Guevara's son hopes Cuba's communism will rub off on US, proposes a long list of people the government should execute first \\nSusan Sarandon: \\\"I don't vote with my vagina.\\\" Voters in line behind her still suspicious, use hand sanitizer \\nCampaign memo typo causes Hillary to court 'New Black Panties' vote \\nNew Hampshire votes for socialist Sanders, changes state motto to \\\"Live FOR Free or Die\\\" \\nMartin O'Malley drops out of race after Iowa Caucus; nation shocked with revelation he has been running for president \\nStatisticians: one out of three Bernie Sanders supporters is just as dumb as the other two \\nHillary campaign denies accusations of smoking-gun evidence in her emails, claims they contain only smoking-circumstantial-gun evidence \\nObama stops short of firing US Congress upon realizing the difficulty of assembling another group of such tractable yes-men \\nIn effort to contol wild passions for violent jihad, White House urges gun owners to keep their firearms covered in gun burkas \\nTV horror live: A Charlie Brown Christmas gets shot up on air by Mohammed cartoons \\nDemocrats vow to burn the country down over Ted Cruz statement, 'The overwhelming majority of violent criminals are Democrats' \\nRussia's trend to sign bombs dropped on ISIS with \\\"This is for Paris\\\" found response in Obama administration's trend to sign American bombs with \\\"Return to sender\\\" \\nUniversity researchers of cultural appropriation quit upon discovery that their research is appropriation from a culture that created universities \\nArcheologists discover remains of what Barack Obama has described as unprecedented, un-American, and not-who-we-are immigration screening process in Ellis Island \\nMizzou protests lead to declaring entire state a \\\"safe space,\\\" changing Missouri motto to \\\"The don't show me state\\\" \\nGreen energy fact: if we put all green energy subsidies together in one-dollar bills and burn them, we could generate more electricity than has been produced by subsidized green energy \\nState officials improve chances of healthcare payouts by replacing ObamaCare with state lottery \\nNASA's new mission to search for racism, sexism, and economic inequality in deep space suffers from race, gender, and class power struggles over multibillion-dollar budget \\nCollege progress enforcement squads issue schematic humor charts so students know if a joke may be spontaneously laughed at or if regulations require other action \\nISIS opens suicide hotline for US teens depressed by climate change and other progressive doomsday scenarios \\nVirginia county to close schools after teacher asks students to write 'death to America' in Arabic \\n'Wear hijab to school day' ends with spontaneous female circumcision and stoning of a classmate during lunch break \\nISIS releases new, even more barbaric video in an effort to regain mantle from Planned Parenthood \\nImpressed by Fox News stellar rating during GOP debates, CNN to use same formula on Democrat candidates asking tough, pointed questions about Republicans \\nShocking new book explores pros and cons of socialism, discovers they are same people \\nPope outraged by Planned Parenthood's \\\"unfettered capitalism,\\\" demands equal redistribution of baby parts to each according to his need \\nJohn Kerry accepts Iran's \\\"Golden Taquiyya\\\" award, requests jalapenos on the side \\nCitizens of Pluto protest US government's surveillance of their planetoid and its moons with New Horizons space drone \\nJohn Kerry proposes 3-day waiting period for all terrorist nations trying to acquire nuclear weapons \\nChicago Police trying to identify flag that caused nine murders and 53 injuries in the city this past weekend \\nCuba opens to affordable medical tourism for Americans who can't afford Obamacare deductibles \\nState-funded research proves existence of Quantum Aggression Particles (Heterons) in Large Hadron Collider \\nStudent job opportunities: make big bucks this summer as Hillary\\u2019s Ordinary-American; all expenses paid, travel, free acting lessons \\nExperts debate whether Iranian negotiators broke John Kerry's leg or he did it himself to get out of negotiations \\nJunior Varsity takes Ramadi, advances to quarterfinals \\nUS media to GOP pool of candidates: 'Knowing what we know now, would you have had anything to do with the founding of the United States?' \\nNY Mayor to hold peace talks with rats, apologize for previous Mayor's cowboy diplomacy \\nChina launches cube-shaped space object with a message to aliens: \\\"The inhabitants of Earth will steal your intellectual property, copy it, manufacture it in sweatshops with slave labor, and sell it back to you at ridiculously low prices\\\" \\nProgressive scientists: Truth is a variable deduced by subtracting 'what is' from 'what ought to be' \\nExperts agree: Hillary Clinton best candidate to lessen percentage of Americans in top 1% \\nAmerica's attempts at peace talks with the White House continue to be met with lies, stalling tactics, and bad faith \\nStarbucks new policy to talk race with customers prompts new hashtag #DontHoldUpTheLine \\nHillary: DELETE is the new RESET \\nCharlie Hebdo receives Islamophobe 2015 award ; the cartoonists could not be reached for comment due to their inexplicable, illogical deaths \\nRussia sends 'reset' button back to Hillary: 'You need it now more than we do' \\nBarack Obama finds out from CNN that Hillary Clinton spent four years being his Secretary of State \\nPresident Obama honors Leonard Nimoy by taking selfie in front of Starship Enterprise \\nPolice: If Obama had a convenience store, it would look like Obama Express Food Market \\nStudy finds stunning lack of racial, gender, and economic diversity among middle-class white males \\nNASA: We're 80% sure about being 20% sure about being 17% sure about being 38% sure about 2014 being the hottest year on record \\nPeople holding '$15 an Hour Now' posters sue Democratic party demanding raise to $15 an hour for rendered professional protesting services \\nCuba-US normalization: US tourists flock to see Cuba before it looks like the US and Cubans flock to see the US before it looks like Cuba \\nWhite House describes attacks on Sony Pictures as 'spontaneous hacking in response to offensive video mocking Juche and its prophet' \\nCIA responds to Democrat calls for transparency by releasing the director's cut of The Making Of Obama's Birth Certificate \\nObama: 'If I had a city, it would look like Ferguson' \\nBiden: 'If I had a Ferguson (hic), it would look like a city' \\nObama signs executive order renaming 'looters' to 'undocumented shoppers' \\nEthicists agree: two wrongs do make a right so long as Bush did it first \\nThe aftermath of the 'War on Women 2014' finds a new 'Lost Generation' of disillusioned Democrat politicians, unable to cope with life out of office \\nWhite House: Republican takeover of the Senate is a clear mandate from the American people for President Obama to rule by executive orders \\nNurse Kaci Hickox angrily tells reporters that she won't change her clocks for daylight savings time \\nDemocratic Party leaders in panic after recent poll shows most Democratic voters think 'midterm' is when to end pregnancy \\nDesperate Democratic candidates plead with Obama to stop backing them and instead support their GOP opponents \\nEbola Czar issues five-year plan with mandatory quotas of Ebola infections per each state based on voting preferences \\nStudy: crony capitalism is to the free market what the Westboro Baptist Church is to Christianity \\nFun facts about world languages: the Left has more words for statism than the Eskimos have for snow \\nAfrican countries to ban all flights from the United States because \\\"Obama is incompetent, it scares us\\\" \\nNobel Peace Prize controversy: Hillary not nominated despite having done even less than Obama to deserve it \\nObama: 'Ebola is the JV of viruses' \\nBREAKING: Secret Service foils Secret Service plot to protect Obama \\nRevised 1st Amendment: buy one speech, get the second free \\nSharpton calls on white NFL players to beat their women in the interests of racial fairness \\nPresident Obama appoints his weekly approval poll as new national security adviser \\nObama wags pen and phone at Putin; Europe offers support with powerful pens and phones from NATO members \\nWhite House pledges to embarrass ISIS back to the Stone Age with a barrage of fearsome Twitter messages and fatally ironic Instagram photos \\nObama to fight ISIS with new federal Terrorist Regulatory Agency \\nObama vows ISIS will never raise their flag over the eighteenth hole \\nHarry Reid: \\\"Sometimes I say the wong thing\\\" \\nElian Gonzalez wishes he had come to the U.S. on a bus from Central America like all the other kids \\nObama visits US-Mexican border, calls for a two-state solution \\nObama draws \\\"blue line\\\" in Iraq after Putin took away his red crayon \\n\\\"Hard Choices,\\\" a porno flick loosely based on Hillary Clinton's memoir and starring Hillary Hellfire as a drinking, whoring Secretary of State, wildly outsells the flabby, sagging original \\nAccusations of siding with the enemy leave Sgt. Bergdahl with only two options: pursue a doctorate at Berkley or become a Senator from Massachusetts \\nJay Carney stuck in line behind Eric Shinseki to leave the White House; estimated wait time from 15 min to 6 weeks \\n100% of scientists agree that if man-made global warming were real, \\\"the last people we'd want to help us is the Obama administration\\\" \\nJay Carney says he found out that Obama found out that he found out that Obama found out that he found out about the latest Obama administration scandal on the news \\n\\\"Anarchy Now!\\\" meeting turns into riot over points of order, bylaws, and whether or not 'kicking the #^@&*! ass' of the person trying to speak is or is not violence \\nObama retaliates against Putin by prohibiting unionized federal employees from dating hot Russian girls online during work hours \\nRussian separatists in Ukraine riot over an offensive YouTube video showing the toppling of Lenin statues \\n\\\"Free Speech Zones\\\" confuse Obamaphone owners who roam streets in search of additional air minutes \\nObamacare bolsters employment for professionals with skills to convert meth back into sudafed \\nGloves finally off: Obama uses pen and phone to cancel Putin's Netflix account \\nJoe Biden to Russia: \\\"We will bury you by turning more of Eastern Europe over to your control!\\\" \\nIn last-ditch effort to help Ukraine, Obama deploys Rev. Sharpton and Rev. Jackson's Rainbow Coalition to Crimea \\nAl Sharpton: \\\"Not even Putin can withstand our signature chanting, 'racist, sexist, anti-gay, Russian army go away'!\\\" \\nMardi Gras in North Korea: \\\" Throw me some food! \\\" \\nObama's foreign policy works: \\\"War, invasion, and conquest are signs of weakness; we've got Putin right where we want him\\\" \\nUS offers military solution to Ukraine crisis: \\\"We will only fight countries that have LGBT military\\\" \\nPutin annexes Brighton Beach to protect ethnic Russians in Brooklyn, Obama appeals to UN and EU for help \\nThe 1980s: \\\"Mr. Obama, we're just calling to ask if you want our foreign policy back . The 1970s are right here with us, and they're wondering, too.\\\" \\nIn a stunning act of defiance, Obama courageously unfriends Putin on Facebook \\nMSNBC: Obama secures alliance with Austro-Hungarian Empire against Russia\\u2019s aggression in Ukraine \\nStudy: springbreak is to STDs what April 15th is to accountants \\nEfforts to achieve moisture justice for California thwarted by unfair redistribution of snow in America \\nNorth Korean voters unanimous: \\\"We are the 100%\\\" \\nLeader of authoritarian gulag-site, The People's Cube, unanimously 're-elected' with 100% voter turnout \\nSuper Bowl: Obama blames Fox News for Broncos' loss \\nFeminist author slams gay marriage: \\\"a man needs a man like a fish needs a bicycle\\\" \\nBeverly Hills campaign heats up between Henry Waxman and Marianne Williamson over the widening income gap between millionaires and billionaires in their district \\nBiden to lower $10,000-a-plate Dinner For The Homeless to $5,000 so more homeless can attend \\nKim becomes world leader, feeds uncle to dogs; Obama eats dogs, becomes world leader, America cries uncle \\nNorth Korean leader executes own uncle for talking about Obamacare at family Christmas party \\nWhite House hires part-time schizophrenic Mandela sign interpreter to help sell Obamacare \\nKim Jong Un executes own \\\" crazy uncle \\\" to keep him from ruining another family Christmas \\nOFA admits its advice for area activists to give Obamacare Talk at shooting ranges was a bad idea \\nPresident resolves Obamacare debacle with executive order declaring all Americans equally healthy \\nObama to Iran: \\\"If you like your nuclear program, you can keep your nuclear program\\\" \\nBovine community outraged by flatulence coming from Washington DC \\nObama: \\\"I'm not particularly ideological; I believe in a good pragmatic five-year plan\\\" \\nShocker: Obama had no knowledge he'd been reelected until he read about it in the local newspaper last week \\nServer problems at HealthCare.gov so bad, it now flashes 'Error 808' message \\nNSA marks National Best Friend Day with official announcement: \\\"Government is your best friend; we know you like no one else, we're always there, we're always willing to listen\\\" \\nAl Qaeda cancels attack on USA citing launch of Obamacare as devastating enough \\nThe President's latest talking point on Obamacare: \\\"I didn't build that\\\" \\nDizzy with success, Obama renames his wildly popular healthcare mandate to HillaryCare \\nCarney: huge ObamaCare deductibles won't look as bad come hyperinflation \\nWashington Redskins drop 'Washington' from their name as offensive to most Americans \\nPoll: 83% of Americans favor cowboy diplomacy over rodeo clown diplomacy \\nGOVERNMENT WARNING: If you were able to complete ObamaCare form online, it wasn't a legitimate gov't website; you should report online fraud and change all your passwords \\nObama administration gets serious, threatens Syria with ObamaCare \\nObama authorizes the use of Vice President Joe Biden's double-barrel shotgun to fire a couple of blasts at Syria \\nSharpton: \\\"British royals should have named baby 'Trayvon.' By choosing 'George' they sided with white Hispanic racist Zimmerman\\\" \\nDNC launches 'Carlos Danger' action figure; proceeds to fund a charity helping survivors of the Republican War on Women \\nNancy Pelosi extends abortion rights to the birds and the bees \\nHubble discovers planetary drift to the left \\nObama: 'If I had a daughter-in-law, she would look like Rachael Jeantel' \\nFISA court rubberstamps statement denying its portrayal as government's rubber stamp \\nEvery time ObamaCare gets delayed, a Julia somewhere dies \\nGOP to Schumer: 'Force full implementation of ObamaCare before 2014 or Dems will never win another election' \\nObama: 'If I had a son... no, wait, my daughter can now marry a woman!' \\nJanet Napolitano: TSA findings reveal that since none of the hijackers were babies, elderly, or Tea Partiers, 9/11 was not an act of terrorism \\nNews Flash: Sen. Mary Landrieu (D-LA) can see Canada from South Dakota \\nSusan Rice: IRS actions against tea parties caused by anti-tax YouTube video that was insulting to their faith \\nDrudge Report reduces font to fit all White House scandals onto one page \\nObama: the IRS is a constitutional right, just like the Second Amendment \\nWhite House: top Obama officials using secret email accounts a result of bad IT advice to avoid spam mail from Nigeria \\nJay Carney to critics: 'Pinocchio never said anything inconsistent' \\nObama: If I had a gay son, he'd look like Jason Collins \\nGosnell's office in Benghazi raided by the IRS: mainstream media's worst cover-up challenge to date \\nIRS targeting pro-gay-marriage LGBT groups leads to gayest tax revolt in U.S. history \\nAfter Arlington Cemetery rejects offer to bury Boston bomber, Westboro Babtist Church steps up with premium front lawn plot \\nBoston: Obama Administration to reclassify marathon bombing as 'sportsplace violence' \\nStudy: Success has many fathers but failure becomes a government program \\nUS Media: Can Pope Francis possibly clear up Vatican bureaucracy and banking without blaming the previous administration? \\nMichelle Obama praises weekend rampage by Chicago teens as good way to burn calories and stay healthy \\nThis Passover, Obama urges his subjects to paint lamb's blood above doors in order to avoid the Sequester \\nWhite House to American children: Sequester causes layoffs among hens that lay Easter eggs; union-wage Easter Bunnies to be replaced by Mexican Chupacabras \\nTime Mag names Hugo Chavez world's sexiest corpse \\nBoy, 8, pretends banana is gun, makes daring escape from school \\nStudy: Free lunches overpriced, lack nutrition \\nOscars 2013: Michelle Obama announces long-awaited merger of Hollywood and the State \\nJoe Salazar defends the right of women to be raped in gun-free environment: 'rapists and rapees should work together to prevent gun violence for the common good' \\nDept. of Health and Human Services eliminates rape by reclassifying assailants as 'undocumented sex partners' \\nKremlin puts out warning not to photoshop Putin riding meteor unless bare-chested \\nDeeming football too violent, Obama moves to introduce Super Drone Sundays instead \\nJapan offers to extend nuclear umbrella to cover U.S. should America suffer devastating attack on its own defense spending \\nFeminists organize one billion women to protest male oppression with one billion lap dances \\nUrban community protests Mayor Bloomberg's ban on extra-large pop singers owning assault weapons \\nConcerned with mounting death toll, Taliban offers to send peacekeeping advisers to Chicago \\nKarl Rove puts an end to Tea Party with new 'Republicans For Democrats' strategy aimed at losing elections \\nAnswering public skepticism, President Obama authorizes unlimited drone attacks on all skeet targets throughout the country \\nSkeet Ulrich denies claims he had been shot by President but considers changing his name to 'Traps' \\nWhite House releases new exciting photos of Obama standing, sitting, looking thoughtful, and even breathing in and out \\nNew York Times hacked by Chinese government, Paul Krugman's economic policies stolen \\nWhite House: when President shoots skeet, he donates the meat to food banks that feed the middle class \\nTo prove he is serious, Obama eliminates armed guard protection for President, Vice-President, and their families; establishes Gun-Free Zones around them instead \\nState Dept to send 100,000 American college students to China as security for US debt obligations \\nJay Carney: Al Qaeda is on the run, they're just running forward \\nPresident issues executive orders banning cliffs, ceilings, obstructions, statistics, and other notions that prevent us from moving forwards and upward \\nFearing the worst, Obama Administration outlaws the fan to prevent it from being hit by certain objects \\nWorld ends; S&P soars \\nRiddle of universe solved; answer not understood \\nMeek inherit Earth, can't afford estate taxes \\nGreece abandons Euro; accountants find Greece has no Euros anyway \\nWheel finally reinvented; axles to be gradually reinvented in 3rd quarter of 2013 \\nBigfoot found in Ohio, mysteriously not voting for Obama \\nAs Santa's workshop files for bankruptcy, Fed offers bailout in exchange for control of 'naughty and nice' list \\nFreak flying pig accident causes bacon to fly off shelves \\nObama: green economy likely to transform America into a leading third world country of the new millennium \\nReport: President Obama to visit the United States in the near future \\nObama promises to create thousands more economically neutral jobs \\nModernizing Islam: New York imam proposes to canonize Saul Alinsky as religion's latter day prophet \\nImam Rauf's peaceful solution: 'Move Ground Zero a few blocks away from the mosque and no one gets hurt' \\nStudy: Obama's threat to burn tax money in Washington 'recruitment bonanza' for Tea Parties \\nStudy: no Social Security reform will be needed if gov't raises retirement age to at least 814 years \\nObama attends church service, worships self \\nObama proposes national 'Win The Future' lottery; proceeds of new WTF Powerball to finance more gov't spending \\nHistorical revisionists: \\\"Hey, you never know\\\" \\nVice President Biden: criticizing Egypt is un-pharaoh \\nIsraelis to Egyptian rioters: \\\"don't damage the pyramids, we will not rebuild\\\" \\nLake Superior renamed Lake Inferior in spirit of tolerance and inclusiveness \\nAl Gore: It's a shame that a family can be torn apart by something as simple as a pack of polar bears \\nMichael Moore: As long as there is anyone with money to shake down, this country is not broke \\nObama's teleprompters unionize, demand collective bargaining rights \\nObama calls new taxes 'spending reductions in tax code.' Elsewhere rapists tout 'consent reductions in sexual intercourse' \\nObama's teleprompter unhappy with White House Twitter: \\\"Too few words\\\" \\nObama's Regulation Reduction committee finds US Constitution to be expensive outdated framework inefficiently regulating federal gov't \\nTaking a page from the Reagan years, Obama announces new era of Perestroika and Glasnost \\nResponding to Oslo shootings, Obama declares Christianity \\\"Religion of Peace,\\\" praises \\\"moderate Christians,\\\" promises to send one into space \\nRepublicans block Obama's $420 billion program to give American families free charms that ward off economic bad luck \\nWhite House to impose Chimney tax on Santa Claus \\nObama decrees the economy is not soaring as much as previously decreeed \\nConservative think tank introduces children to capitalism with pop-up picture book \\\"The Road to Smurfdom\\\" \\nAl Gore proposes to combat Global Warming by extracting silver linings from clouds in Earth's atmosphere \\nObama refutes charges of him being unresponsive to people's suffering: \\\"When you pray to God, do you always hear a response?\\\" \\nObama regrets the US government didn't provide his mother with free contraceptives when she was in college \\nFluke to Congress: drill, baby, drill! \\nPlanned Parenthood introduces Frequent Flucker reward card: 'Come again soon!' \\nObama to tornado victims: 'We inherited this weather from the previous administration' \\nObama congratulates Putin on Chicago-style election outcome \\nPeople's Cube gives itself Hero of Socialist Labor medal in recognition of continued expert advice provided to the Obama Administration helping to shape its foreign and domestic policies \\nHamas: Israeli air defense unfair to 99% of our missiles, \\\"only 1% allowed to reach Israel\\\" \\nDemocrat strategist: without government supervision, women would have never evolved into humans \\nVoters Without Borders oppose Texas new voter ID law \\nEnraged by accusation that they are doing Obama's bidding, media leaders demand instructions from White House on how to respond \\nObama blames previous Olympics for failure to win at this Olympics \\nOfficial: China plans to land on Moon or at least on cheap knockoff thereof \\nKoran-Contra: Obama secretly arms Syrian rebels \\nPoll: Progressive slogan 'We should be more like Europe' most popular with members of American Nazi Party \\nObama to Evangelicals: Jesus saves, I just spend \\nMay Day: Anarchists plan, schedule, synchronize, and execute a coordinated campaign against all of the above \\nMidwestern farmers hooked on new erotic novel \\\"50 Shades of Hay\\\" \\nStudy: 99% of Liberals give the rest a bad name \\nObama meets with Jewish leaders, proposes deeper circumcisions for the rich \\nHistorians: Before HOPE & CHANGE there was HEMP & CHOOM at ten bucks a bag \\nCancer once again fails to cure Venezuela of its \\\"President for Life\\\" \\nTragic spelling error causes Muslim protesters to burn local boob-tube factory \\nSecretary of Energy Steven Chu: due to energy conservation, the light at the end of the tunnel will be switched off \\nObama Administration running food stamps across the border with Mexico in an operation code-named \\\"Fat And Furious\\\" \\nPakistan explodes in protest over new Adobe Acrobat update; 17 local acrobats killed \\nWhite House: \\\"Let them eat statistics\\\" \\nSpecial Ops: if Benedict Arnold had a son, he would look like Barack Obama\"\n        ],\n        \"semantic_type\": \"\",\n        \"description\": \"\"\n      }\n    }\n  ]\n}",
       "type": "dataframe",
       "variable_name": "DF"
      },
      "text/html": [
       "\n",
       "  <div id=\"df-9191c3b2-8f4d-4076-8474-e913bf4a6978\" class=\"colab-df-container\">\n",
       "    <div>\n",
       "<style scoped>\n",
       "    .dataframe tbody tr th:only-of-type {\n",
       "        vertical-align: middle;\n",
       "    }\n",
       "\n",
       "    .dataframe tbody tr th {\n",
       "        vertical-align: top;\n",
       "    }\n",
       "\n",
       "    .dataframe thead th {\n",
       "        text-align: right;\n",
       "    }\n",
       "</style>\n",
       "<table border=\"1\" class=\"dataframe\">\n",
       "  <thead>\n",
       "    <tr style=\"text-align: right;\">\n",
       "      <th></th>\n",
       "      <th>label</th>\n",
       "      <th>Content</th>\n",
       "    </tr>\n",
       "  </thead>\n",
       "  <tbody>\n",
       "    <tr>\n",
       "      <th>0</th>\n",
       "      <td>1</td>\n",
       "      <td>LAW ENFORCEMENT ON HIGH ALERT Following Threat...</td>\n",
       "    </tr>\n",
       "    <tr>\n",
       "      <th>2</th>\n",
       "      <td>1</td>\n",
       "      <td>UNBELIEVABLE! OBAMA’S ATTORNEY GENERAL SAYS MO...</td>\n",
       "    </tr>\n",
       "    <tr>\n",
       "      <th>3</th>\n",
       "      <td>0</td>\n",
       "      <td>Bobby Jindal, raised Hindu, uses story of Chri...</td>\n",
       "    </tr>\n",
       "    <tr>\n",
       "      <th>4</th>\n",
       "      <td>1</td>\n",
       "      <td>SATAN 2: Russia unvelis an image of its terrif...</td>\n",
       "    </tr>\n",
       "    <tr>\n",
       "      <th>5</th>\n",
       "      <td>1</td>\n",
       "      <td>About Time! Christian Group Sues Amazon and SP...</td>\n",
       "    </tr>\n",
       "    <tr>\n",
       "      <th>...</th>\n",
       "      <td>...</td>\n",
       "      <td>...</td>\n",
       "    </tr>\n",
       "    <tr>\n",
       "      <th>72129</th>\n",
       "      <td>0</td>\n",
       "      <td>Russians steal research on Trump in hack of U....</td>\n",
       "    </tr>\n",
       "    <tr>\n",
       "      <th>72130</th>\n",
       "      <td>1</td>\n",
       "      <td>WATCH: Giuliani Demands That Democrats Apolog...</td>\n",
       "    </tr>\n",
       "    <tr>\n",
       "      <th>72131</th>\n",
       "      <td>0</td>\n",
       "      <td>Migrants Refuse To Leave Train At Refugee Camp...</td>\n",
       "    </tr>\n",
       "    <tr>\n",
       "      <th>72132</th>\n",
       "      <td>0</td>\n",
       "      <td>Trump tussle gives unpopular Mexican leader mu...</td>\n",
       "    </tr>\n",
       "    <tr>\n",
       "      <th>72133</th>\n",
       "      <td>1</td>\n",
       "      <td>Goldman Sachs Endorses Hillary Clinton For Pre...</td>\n",
       "    </tr>\n",
       "  </tbody>\n",
       "</table>\n",
       "<p>71537 rows × 2 columns</p>\n",
       "</div>\n",
       "    <div class=\"colab-df-buttons\">\n",
       "\n",
       "  <div class=\"colab-df-container\">\n",
       "    <button class=\"colab-df-convert\" onclick=\"convertToInteractive('df-9191c3b2-8f4d-4076-8474-e913bf4a6978')\"\n",
       "            title=\"Convert this dataframe to an interactive table.\"\n",
       "            style=\"display:none;\">\n",
       "\n",
       "  <svg xmlns=\"http://www.w3.org/2000/svg\" height=\"24px\" viewBox=\"0 -960 960 960\">\n",
       "    <path d=\"M120-120v-720h720v720H120Zm60-500h600v-160H180v160Zm220 220h160v-160H400v160Zm0 220h160v-160H400v160ZM180-400h160v-160H180v160Zm440 0h160v-160H620v160ZM180-180h160v-160H180v160Zm440 0h160v-160H620v160Z\"/>\n",
       "  </svg>\n",
       "    </button>\n",
       "\n",
       "  <style>\n",
       "    .colab-df-container {\n",
       "      display:flex;\n",
       "      gap: 12px;\n",
       "    }\n",
       "\n",
       "    .colab-df-convert {\n",
       "      background-color: #E8F0FE;\n",
       "      border: none;\n",
       "      border-radius: 50%;\n",
       "      cursor: pointer;\n",
       "      display: none;\n",
       "      fill: #1967D2;\n",
       "      height: 32px;\n",
       "      padding: 0 0 0 0;\n",
       "      width: 32px;\n",
       "    }\n",
       "\n",
       "    .colab-df-convert:hover {\n",
       "      background-color: #E2EBFA;\n",
       "      box-shadow: 0px 1px 2px rgba(60, 64, 67, 0.3), 0px 1px 3px 1px rgba(60, 64, 67, 0.15);\n",
       "      fill: #174EA6;\n",
       "    }\n",
       "\n",
       "    .colab-df-buttons div {\n",
       "      margin-bottom: 4px;\n",
       "    }\n",
       "\n",
       "    [theme=dark] .colab-df-convert {\n",
       "      background-color: #3B4455;\n",
       "      fill: #D2E3FC;\n",
       "    }\n",
       "\n",
       "    [theme=dark] .colab-df-convert:hover {\n",
       "      background-color: #434B5C;\n",
       "      box-shadow: 0px 1px 3px 1px rgba(0, 0, 0, 0.15);\n",
       "      filter: drop-shadow(0px 1px 2px rgba(0, 0, 0, 0.3));\n",
       "      fill: #FFFFFF;\n",
       "    }\n",
       "  </style>\n",
       "\n",
       "    <script>\n",
       "      const buttonEl =\n",
       "        document.querySelector('#df-9191c3b2-8f4d-4076-8474-e913bf4a6978 button.colab-df-convert');\n",
       "      buttonEl.style.display =\n",
       "        google.colab.kernel.accessAllowed ? 'block' : 'none';\n",
       "\n",
       "      async function convertToInteractive(key) {\n",
       "        const element = document.querySelector('#df-9191c3b2-8f4d-4076-8474-e913bf4a6978');\n",
       "        const dataTable =\n",
       "          await google.colab.kernel.invokeFunction('convertToInteractive',\n",
       "                                                    [key], {});\n",
       "        if (!dataTable) return;\n",
       "\n",
       "        const docLinkHtml = 'Like what you see? Visit the ' +\n",
       "          '<a target=\"_blank\" href=https://colab.research.google.com/notebooks/data_table.ipynb>data table notebook</a>'\n",
       "          + ' to learn more about interactive tables.';\n",
       "        element.innerHTML = '';\n",
       "        dataTable['output_type'] = 'display_data';\n",
       "        await google.colab.output.renderOutput(dataTable, element);\n",
       "        const docLink = document.createElement('div');\n",
       "        docLink.innerHTML = docLinkHtml;\n",
       "        element.appendChild(docLink);\n",
       "      }\n",
       "    </script>\n",
       "  </div>\n",
       "\n",
       "\n",
       "    <div id=\"df-3ef12db0-8021-430e-bf00-f12ed343379c\">\n",
       "      <button class=\"colab-df-quickchart\" onclick=\"quickchart('df-3ef12db0-8021-430e-bf00-f12ed343379c')\"\n",
       "                title=\"Suggest charts\"\n",
       "                style=\"display:none;\">\n",
       "\n",
       "<svg xmlns=\"http://www.w3.org/2000/svg\" height=\"24px\"viewBox=\"0 0 24 24\"\n",
       "     width=\"24px\">\n",
       "    <g>\n",
       "        <path d=\"M19 3H5c-1.1 0-2 .9-2 2v14c0 1.1.9 2 2 2h14c1.1 0 2-.9 2-2V5c0-1.1-.9-2-2-2zM9 17H7v-7h2v7zm4 0h-2V7h2v10zm4 0h-2v-4h2v4z\"/>\n",
       "    </g>\n",
       "</svg>\n",
       "      </button>\n",
       "\n",
       "<style>\n",
       "  .colab-df-quickchart {\n",
       "      --bg-color: #E8F0FE;\n",
       "      --fill-color: #1967D2;\n",
       "      --hover-bg-color: #E2EBFA;\n",
       "      --hover-fill-color: #174EA6;\n",
       "      --disabled-fill-color: #AAA;\n",
       "      --disabled-bg-color: #DDD;\n",
       "  }\n",
       "\n",
       "  [theme=dark] .colab-df-quickchart {\n",
       "      --bg-color: #3B4455;\n",
       "      --fill-color: #D2E3FC;\n",
       "      --hover-bg-color: #434B5C;\n",
       "      --hover-fill-color: #FFFFFF;\n",
       "      --disabled-bg-color: #3B4455;\n",
       "      --disabled-fill-color: #666;\n",
       "  }\n",
       "\n",
       "  .colab-df-quickchart {\n",
       "    background-color: var(--bg-color);\n",
       "    border: none;\n",
       "    border-radius: 50%;\n",
       "    cursor: pointer;\n",
       "    display: none;\n",
       "    fill: var(--fill-color);\n",
       "    height: 32px;\n",
       "    padding: 0;\n",
       "    width: 32px;\n",
       "  }\n",
       "\n",
       "  .colab-df-quickchart:hover {\n",
       "    background-color: var(--hover-bg-color);\n",
       "    box-shadow: 0 1px 2px rgba(60, 64, 67, 0.3), 0 1px 3px 1px rgba(60, 64, 67, 0.15);\n",
       "    fill: var(--button-hover-fill-color);\n",
       "  }\n",
       "\n",
       "  .colab-df-quickchart-complete:disabled,\n",
       "  .colab-df-quickchart-complete:disabled:hover {\n",
       "    background-color: var(--disabled-bg-color);\n",
       "    fill: var(--disabled-fill-color);\n",
       "    box-shadow: none;\n",
       "  }\n",
       "\n",
       "  .colab-df-spinner {\n",
       "    border: 2px solid var(--fill-color);\n",
       "    border-color: transparent;\n",
       "    border-bottom-color: var(--fill-color);\n",
       "    animation:\n",
       "      spin 1s steps(1) infinite;\n",
       "  }\n",
       "\n",
       "  @keyframes spin {\n",
       "    0% {\n",
       "      border-color: transparent;\n",
       "      border-bottom-color: var(--fill-color);\n",
       "      border-left-color: var(--fill-color);\n",
       "    }\n",
       "    20% {\n",
       "      border-color: transparent;\n",
       "      border-left-color: var(--fill-color);\n",
       "      border-top-color: var(--fill-color);\n",
       "    }\n",
       "    30% {\n",
       "      border-color: transparent;\n",
       "      border-left-color: var(--fill-color);\n",
       "      border-top-color: var(--fill-color);\n",
       "      border-right-color: var(--fill-color);\n",
       "    }\n",
       "    40% {\n",
       "      border-color: transparent;\n",
       "      border-right-color: var(--fill-color);\n",
       "      border-top-color: var(--fill-color);\n",
       "    }\n",
       "    60% {\n",
       "      border-color: transparent;\n",
       "      border-right-color: var(--fill-color);\n",
       "    }\n",
       "    80% {\n",
       "      border-color: transparent;\n",
       "      border-right-color: var(--fill-color);\n",
       "      border-bottom-color: var(--fill-color);\n",
       "    }\n",
       "    90% {\n",
       "      border-color: transparent;\n",
       "      border-bottom-color: var(--fill-color);\n",
       "    }\n",
       "  }\n",
       "</style>\n",
       "\n",
       "      <script>\n",
       "        async function quickchart(key) {\n",
       "          const quickchartButtonEl =\n",
       "            document.querySelector('#' + key + ' button');\n",
       "          quickchartButtonEl.disabled = true;  // To prevent multiple clicks.\n",
       "          quickchartButtonEl.classList.add('colab-df-spinner');\n",
       "          try {\n",
       "            const charts = await google.colab.kernel.invokeFunction(\n",
       "                'suggestCharts', [key], {});\n",
       "          } catch (error) {\n",
       "            console.error('Error during call to suggestCharts:', error);\n",
       "          }\n",
       "          quickchartButtonEl.classList.remove('colab-df-spinner');\n",
       "          quickchartButtonEl.classList.add('colab-df-quickchart-complete');\n",
       "        }\n",
       "        (() => {\n",
       "          let quickchartButtonEl =\n",
       "            document.querySelector('#df-3ef12db0-8021-430e-bf00-f12ed343379c button');\n",
       "          quickchartButtonEl.style.display =\n",
       "            google.colab.kernel.accessAllowed ? 'block' : 'none';\n",
       "        })();\n",
       "      </script>\n",
       "    </div>\n",
       "\n",
       "  <div id=\"id_abe710b7-208d-4154-85ba-a02c2faf4ac3\">\n",
       "    <style>\n",
       "      .colab-df-generate {\n",
       "        background-color: #E8F0FE;\n",
       "        border: none;\n",
       "        border-radius: 50%;\n",
       "        cursor: pointer;\n",
       "        display: none;\n",
       "        fill: #1967D2;\n",
       "        height: 32px;\n",
       "        padding: 0 0 0 0;\n",
       "        width: 32px;\n",
       "      }\n",
       "\n",
       "      .colab-df-generate:hover {\n",
       "        background-color: #E2EBFA;\n",
       "        box-shadow: 0px 1px 2px rgba(60, 64, 67, 0.3), 0px 1px 3px 1px rgba(60, 64, 67, 0.15);\n",
       "        fill: #174EA6;\n",
       "      }\n",
       "\n",
       "      [theme=dark] .colab-df-generate {\n",
       "        background-color: #3B4455;\n",
       "        fill: #D2E3FC;\n",
       "      }\n",
       "\n",
       "      [theme=dark] .colab-df-generate:hover {\n",
       "        background-color: #434B5C;\n",
       "        box-shadow: 0px 1px 3px 1px rgba(0, 0, 0, 0.15);\n",
       "        filter: drop-shadow(0px 1px 2px rgba(0, 0, 0, 0.3));\n",
       "        fill: #FFFFFF;\n",
       "      }\n",
       "    </style>\n",
       "    <button class=\"colab-df-generate\" onclick=\"generateWithVariable('DF')\"\n",
       "            title=\"Generate code using this dataframe.\"\n",
       "            style=\"display:none;\">\n",
       "\n",
       "  <svg xmlns=\"http://www.w3.org/2000/svg\" height=\"24px\"viewBox=\"0 0 24 24\"\n",
       "       width=\"24px\">\n",
       "    <path d=\"M7,19H8.4L18.45,9,17,7.55,7,17.6ZM5,21V16.75L18.45,3.32a2,2,0,0,1,2.83,0l1.4,1.43a1.91,1.91,0,0,1,.58,1.4,1.91,1.91,0,0,1-.58,1.4L9.25,21ZM18.45,9,17,7.55Zm-12,3A5.31,5.31,0,0,0,4.9,8.1,5.31,5.31,0,0,0,1,6.5,5.31,5.31,0,0,0,4.9,4.9,5.31,5.31,0,0,0,6.5,1,5.31,5.31,0,0,0,8.1,4.9,5.31,5.31,0,0,0,12,6.5,5.46,5.46,0,0,0,6.5,12Z\"/>\n",
       "  </svg>\n",
       "    </button>\n",
       "    <script>\n",
       "      (() => {\n",
       "      const buttonEl =\n",
       "        document.querySelector('#id_abe710b7-208d-4154-85ba-a02c2faf4ac3 button.colab-df-generate');\n",
       "      buttonEl.style.display =\n",
       "        google.colab.kernel.accessAllowed ? 'block' : 'none';\n",
       "\n",
       "      buttonEl.onclick = () => {\n",
       "        google.colab.notebook.generateWithVariable('DF');\n",
       "      }\n",
       "      })();\n",
       "    </script>\n",
       "  </div>\n",
       "\n",
       "    </div>\n",
       "  </div>\n"
      ],
      "text/plain": [
       "       label                                            Content\n",
       "0          1  LAW ENFORCEMENT ON HIGH ALERT Following Threat...\n",
       "2          1  UNBELIEVABLE! OBAMA’S ATTORNEY GENERAL SAYS MO...\n",
       "3          0  Bobby Jindal, raised Hindu, uses story of Chri...\n",
       "4          1  SATAN 2: Russia unvelis an image of its terrif...\n",
       "5          1  About Time! Christian Group Sues Amazon and SP...\n",
       "...      ...                                                ...\n",
       "72129      0  Russians steal research on Trump in hack of U....\n",
       "72130      1   WATCH: Giuliani Demands That Democrats Apolog...\n",
       "72131      0  Migrants Refuse To Leave Train At Refugee Camp...\n",
       "72132      0  Trump tussle gives unpopular Mexican leader mu...\n",
       "72133      1  Goldman Sachs Endorses Hillary Clinton For Pre...\n",
       "\n",
       "[71537 rows x 2 columns]"
      ]
     },
     "execution_count": 29,
     "metadata": {},
     "output_type": "execute_result"
    }
   ],
   "source": [
    "DF"
   ]
  },
  {
   "cell_type": "code",
   "execution_count": 30,
   "metadata": {
    "colab": {
     "base_uri": "https://localhost:8080/"
    },
    "id": "H1AnzI9VJXbs",
    "outputId": "4e03b211-e4dd-4030-83e3-635be5bb7d49"
   },
   "outputs": [
    {
     "name": "stdout",
     "output_type": "stream",
     "text": [
      "🔍 Number of duplicate content rows: 8416\n"
     ]
    }
   ],
   "source": [
    "# Count duplicate rows based only on the \"Content\" column\n",
    "num_duplicates = DF[\"Content\"].duplicated().sum()\n",
    "print(f\"🔍 Number of duplicate content rows: {num_duplicates}\")\n"
   ]
  },
  {
   "cell_type": "code",
   "execution_count": 31,
   "metadata": {
    "id": "BPHknzO7Jcl3"
   },
   "outputs": [],
   "source": [
    "\n",
    "DF = DF.drop_duplicates(subset=\"Content\").reset_index(drop=True)\n"
   ]
  },
  {
   "cell_type": "code",
   "execution_count": 32,
   "metadata": {
    "colab": {
     "base_uri": "https://localhost:8080/",
     "height": 423
    },
    "id": "oeGcp-hhJhx6",
    "outputId": "7c825458-3660-45a1-9455-83e845ebc204"
   },
   "outputs": [
    {
     "data": {
      "application/vnd.google.colaboratory.intrinsic+json": {
       "summary": "{\n  \"name\": \"DF\",\n  \"rows\": 63121,\n  \"fields\": [\n    {\n      \"column\": \"label\",\n      \"properties\": {\n        \"dtype\": \"number\",\n        \"std\": 0,\n        \"min\": 0,\n        \"max\": 1,\n        \"num_unique_values\": 2,\n        \"samples\": [\n          0,\n          1\n        ],\n        \"semantic_type\": \"\",\n        \"description\": \"\"\n      }\n    },\n    {\n      \"column\": \"Content\",\n      \"properties\": {\n        \"dtype\": \"string\",\n        \"num_unique_values\": 63121,\n        \"samples\": [\n          \" Donald Trump Responds To Mockery Over Fake Swedish Attack \\u2013 Prepare To Laugh Your A** OffLast night, at a rally in Melbourne, Florida, Trump was trying to build more fear of brown people in his base of loyalists by referencing a completely imaginary terror attack in Sweden. Since then, he s received an earful from the former Prime Minister of Sweden, prompted questions from confused Swedes, and social media has been abuzz with mockery of the imaginary attack, too.One would have expected Trump to respond fairly quickly, since he s now formally joined the ranks of Kellyanne Conway and Sean Spicer when it comes to fake terror attacks, but he didn t. He waited until this afternoon to respond, and it s extremely laughable:My statement as to what s happening in Sweden was in reference to a story that was broadcast on @FoxNews concerning immigrants & Sweden.  Donald J. Trump (@realDonaldTrump) February 19, 2017Yes, sure, by all means, let s call this debacle Fox News  fault and completely ignore the words that actually spewed forth from his mouth: You look at what s happening last night in Sweden. Sweden! Who would believe this? Sweden! They took in large numbers. They re having problems that they never thought possible. Twitter, meanwhile, is positively gleeful in their mockery of the liar of liars for another egregious lie:@realDonaldTrump  none of which referred to anything that happened two nights ago.  Alex Zalben (@azalben) February 19, 2017.@realDonaldTrump  I apologize. I will hold myself to provide a more clear and accurate respresentation of my beliefs in future speeches.  Will McAvoy (@WillMcAvoyACN) February 19, 2017@realDonaldTrump Hey, dumbass. What happened in Sweden? Nothing. That s what. FAKE NEWS! pic.twitter.com/PR4Cu42mbb  The Socialist Party (@OfficialSPGB) February 19, 2017@realDonaldTrump @FoxNews Of course it fucking was.  Mark Pygas (@MarkPygas) February 19, 2017@realDonaldTrump You said  last night in Sweden . Don t retract. You are fake news for the unintelligent.  Tony Posnanski (@tonyposnanski) February 19, 2017You are fake news, Mr. So-Called President.#swedenincident #iamamuslimtoo #FuckYouBitch https://t.co/MGOL0oWFPs  Jade Helm Commander (@Anomaly100) February 19, 2017.@realDonaldTrump Who needs the intelligence community when there is Fox News?  Simon Hedlin (@simonhedlin) February 19, 2017Here s someone who was a likely witness to the imaginary attack, since reports say Swedish fish were everywhere at the scene:@realDonaldTrump @FoxNews pic.twitter.com/bGk4nMmc5e  Mike Denison (@mikd33) February 19, 2017@mikd33 @realDonaldTrump @FoxNews These fish are clearly terrorists.  Austin Braun (@AustinOnSocial) February 19, 2017@realDonaldTrump @FoxNews pic.twitter.com/dYPgcgHhmo  #TheResistance (@AynRandPaulRyan) February 19, 2017@realDonaldTrump @FoxNews pic.twitter.com/hoF53staXG  #TheResistance (@AynRandPaulRyan) February 19, 2017@realDonaldTrump Also, is @foxandfriends your new National Security Advisor?  Evan Dashevsky (@haldash) February 19, 2017@realDonaldTrump  oh I saw it on TV, people told me this  instead of being responsible for what comes out of his mouth.  Erick Fernandez (@ErickFernandez) February 19, 2017@realDonaldTrump @FoxNews OK time to have a chat again, so tell President Emperor Bannon you need a smoke break. This will take a bit.  Kevin (@TheKevinDent) February 19, 2017@realDonaldTrump So you blindly spout whether @FoxNews tells you to? It s pathetic, not to mention awfully irresponsible, 45.  Mike P Williams (@Mike_P_Williams) February 19, 2017Here s what someone who appears to be in Sweden has to say:@realDonaldTrump @FoxNews There is no migrant crisis in Sweden. We have free health care, free education, a functioning welfare system. ??  Ines Helene (@inihelene) February 19, 2017How embarrassing. You re hopelessly confused. Sad! @realDonaldTrump https://t.co/2mRZAjuj6f  Charles Johnson (@Green_Footballs) February 19, 2017Um @erichmcelroy is @realDonaldTrump now trying to blame @FoxNews? I thought we could trust them!  Mark Machado (@MarkMachado) February 19, 2017 Maybe, just as a change of pace and maybe to keep all of us on our toes, he should actually take responsibility for what he says and apologize. But what are we talking about? Trump is one of the worst pathological liars in the long, sad history of pathological liars.Featured image by Joe Raedle via Getty Images\",\n          \"TweetwaveThis time it's true no pantsTweetwave More Of Anthony Weiner's Greatest Hits Users browsing this forum: No registered users and 13 guests Display posts from previous: Powered by phpBB \\u00a9 2000, 2002, 2005, 2007 phpBB Group The uncontested absurdities of today are the accepted slogans of tomorrow. They come to be accepted by degrees, by precedent, by implication, by erosion, by default, by dint of constant pressure on one side and constant retreat on the other - until the day when they are suddenly declared to be the country's official ideology. ~ Ayn Rand \\nRubiks & Rubik\\u2019s Cube \\u00ae used by special individual permission of Seven Town Ltd. Write down this number and report to your Kommissar at the nearest railroad station. Don't forget warm clothes and a shovel! Channel list \\nFollowing hurricane Matthew's failure to devastate Florida, activists flock to the Sunshine State and destroy Trump signs manually \\nTim Kaine takes credit for interrupting hurricane Matthew while debating weather in Florida \\nStudy: Many non-voters still undecided on how they're not going to vote \\nThe Evolution of Dissent: on November 8th the nation is to decide whether dissent will stop being racist and become sexist - or it will once again be patriotic as it was for 8 years under George W. Bush \\nVenezuela solves starvation problem by making it mandatory to buy food \\nBreaking: the Clinton Foundation set to investigate the FBI \\nObama \\u200b\\u200bcaptures rare Pok\\u00e9mon \\u200b\\u200bwhile visiting Hiroshima \\nMovie news: 'The Big Friendly Giant Government' flops at box office; audiences say \\\"It's creepy\\\" \\nBarack Obama: \\\"If I had a son, he'd look like Micah Johnson\\\" \\nWhite House edits Orlando 911 transcript to say shooter pledged allegiance to NRA and Republican Party \\nPresident George Washington: 'Redcoats do not represent British Empire; King George promotes a distorted version of British colonialism' \\nFollowing Obama's 'Okie-Doke' speech , stock of Okie-Doke soars; NASDAQ: 'Obama best Okie-Doke salesman' \\nWeaponized baby formula threatens Planned Parenthood office; ACLU demands federal investigation of Gerber \\nExperts: melting Antarctic glacier could cause sale levels to rise up to 80% off select items by this weekend \\nTravel advisory: airlines now offering flights to front of TSA line \\nAs Obama instructs his administration to get ready for presidential transition, Trump preemptively purchases 'T' keys for White House keyboards \\nJohn Kasich self-identifies as GOP primary winner, demands access to White House bathroom \\nUpcoming Trump/Kelly interview on FoxNews sponsored by 'Let's Make a Deal' and 'The Price is Right' \\nNews from 2017: once the evacuation of Lena Dunham and 90% of other Hollywood celebrities to Canada is confirmed, Trump resigns from presidency: \\\"My work here is done\\\" \\nNon-presidential candidate Paul Ryan pledges not to run for president in new non-presidential non-ad campaign \\nTrump suggests creating 'Muslim database'; Obama symbolically protests by shredding White House guest logs beginning 2009 \\nNational Enquirer: John Kasich's real dad was the milkman, not mailman \\nNational Enquirer: Bound delegates from Colorado, Wyoming found in Ted Cruz\\u2019s basement \\nIran breaks its pinky-swear promise not to support terrorism; US State Department vows rock-paper-scissors strategic response \\nWomen across the country cheer as racist Democrat president on $20 bill is replaced by black pro-gun Republican \\nFederal Reserve solves budget crisis by writing itself a 20-trillion-dollar check \\nWidows, orphans claim responsibility for Brussels airport bombing \\nChe Guevara's son hopes Cuba's communism will rub off on US, proposes a long list of people the government should execute first \\nSusan Sarandon: \\\"I don't vote with my vagina.\\\" Voters in line behind her still suspicious, use hand sanitizer \\nCampaign memo typo causes Hillary to court 'New Black Panties' vote \\nNew Hampshire votes for socialist Sanders, changes state motto to \\\"Live FOR Free or Die\\\" \\nMartin O'Malley drops out of race after Iowa Caucus; nation shocked with revelation he has been running for president \\nStatisticians: one out of three Bernie Sanders supporters is just as dumb as the other two \\nHillary campaign denies accusations of smoking-gun evidence in her emails, claims they contain only smoking-circumstantial-gun evidence \\nObama stops short of firing US Congress upon realizing the difficulty of assembling another group of such tractable yes-men \\nIn effort to contol wild passions for violent jihad, White House urges gun owners to keep their firearms covered in gun burkas \\nTV horror live: A Charlie Brown Christmas gets shot up on air by Mohammed cartoons \\nDemocrats vow to burn the country down over Ted Cruz statement, 'The overwhelming majority of violent criminals are Democrats' \\nRussia's trend to sign bombs dropped on ISIS with \\\"This is for Paris\\\" found response in Obama administration's trend to sign American bombs with \\\"Return to sender\\\" \\nUniversity researchers of cultural appropriation quit upon discovery that their research is appropriation from a culture that created universities \\nArcheologists discover remains of what Barack Obama has described as unprecedented, un-American, and not-who-we-are immigration screening process in Ellis Island \\nMizzou protests lead to declaring entire state a \\\"safe space,\\\" changing Missouri motto to \\\"The don't show me state\\\" \\nGreen energy fact: if we put all green energy subsidies together in one-dollar bills and burn them, we could generate more electricity than has been produced by subsidized green energy \\nState officials improve chances of healthcare payouts by replacing ObamaCare with state lottery \\nNASA's new mission to search for racism, sexism, and economic inequality in deep space suffers from race, gender, and class power struggles over multibillion-dollar budget \\nCollege progress enforcement squads issue schematic humor charts so students know if a joke may be spontaneously laughed at or if regulations require other action \\nISIS opens suicide hotline for US teens depressed by climate change and other progressive doomsday scenarios \\nVirginia county to close schools after teacher asks students to write 'death to America' in Arabic \\n'Wear hijab to school day' ends with spontaneous female circumcision and stoning of a classmate during lunch break \\nISIS releases new, even more barbaric video in an effort to regain mantle from Planned Parenthood \\nImpressed by Fox News stellar rating during GOP debates, CNN to use same formula on Democrat candidates asking tough, pointed questions about Republicans \\nShocking new book explores pros and cons of socialism, discovers they are same people \\nPope outraged by Planned Parenthood's \\\"unfettered capitalism,\\\" demands equal redistribution of baby parts to each according to his need \\nJohn Kerry accepts Iran's \\\"Golden Taquiyya\\\" award, requests jalapenos on the side \\nCitizens of Pluto protest US government's surveillance of their planetoid and its moons with New Horizons space drone \\nJohn Kerry proposes 3-day waiting period for all terrorist nations trying to acquire nuclear weapons \\nChicago Police trying to identify flag that caused nine murders and 53 injuries in the city this past weekend \\nCuba opens to affordable medical tourism for Americans who can't afford Obamacare deductibles \\nState-funded research proves existence of Quantum Aggression Particles (Heterons) in Large Hadron Collider \\nStudent job opportunities: make big bucks this summer as Hillary\\u2019s Ordinary-American; all expenses paid, travel, free acting lessons \\nExperts debate whether Iranian negotiators broke John Kerry's leg or he did it himself to get out of negotiations \\nJunior Varsity takes Ramadi, advances to quarterfinals \\nUS media to GOP pool of candidates: 'Knowing what we know now, would you have had anything to do with the founding of the United States?' \\nNY Mayor to hold peace talks with rats, apologize for previous Mayor's cowboy diplomacy \\nChina launches cube-shaped space object with a message to aliens: \\\"The inhabitants of Earth will steal your intellectual property, copy it, manufacture it in sweatshops with slave labor, and sell it back to you at ridiculously low prices\\\" \\nProgressive scientists: Truth is a variable deduced by subtracting 'what is' from 'what ought to be' \\nExperts agree: Hillary Clinton best candidate to lessen percentage of Americans in top 1% \\nAmerica's attempts at peace talks with the White House continue to be met with lies, stalling tactics, and bad faith \\nStarbucks new policy to talk race with customers prompts new hashtag #DontHoldUpTheLine \\nHillary: DELETE is the new RESET \\nCharlie Hebdo receives Islamophobe 2015 award ; the cartoonists could not be reached for comment due to their inexplicable, illogical deaths \\nRussia sends 'reset' button back to Hillary: 'You need it now more than we do' \\nBarack Obama finds out from CNN that Hillary Clinton spent four years being his Secretary of State \\nPresident Obama honors Leonard Nimoy by taking selfie in front of Starship Enterprise \\nPolice: If Obama had a convenience store, it would look like Obama Express Food Market \\nStudy finds stunning lack of racial, gender, and economic diversity among middle-class white males \\nNASA: We're 80% sure about being 20% sure about being 17% sure about being 38% sure about 2014 being the hottest year on record \\nPeople holding '$15 an Hour Now' posters sue Democratic party demanding raise to $15 an hour for rendered professional protesting services \\nCuba-US normalization: US tourists flock to see Cuba before it looks like the US and Cubans flock to see the US before it looks like Cuba \\nWhite House describes attacks on Sony Pictures as 'spontaneous hacking in response to offensive video mocking Juche and its prophet' \\nCIA responds to Democrat calls for transparency by releasing the director's cut of The Making Of Obama's Birth Certificate \\nObama: 'If I had a city, it would look like Ferguson' \\nBiden: 'If I had a Ferguson (hic), it would look like a city' \\nObama signs executive order renaming 'looters' to 'undocumented shoppers' \\nEthicists agree: two wrongs do make a right so long as Bush did it first \\nThe aftermath of the 'War on Women 2014' finds a new 'Lost Generation' of disillusioned Democrat politicians, unable to cope with life out of office \\nWhite House: Republican takeover of the Senate is a clear mandate from the American people for President Obama to rule by executive orders \\nNurse Kaci Hickox angrily tells reporters that she won't change her clocks for daylight savings time \\nDemocratic Party leaders in panic after recent poll shows most Democratic voters think 'midterm' is when to end pregnancy \\nDesperate Democratic candidates plead with Obama to stop backing them and instead support their GOP opponents \\nEbola Czar issues five-year plan with mandatory quotas of Ebola infections per each state based on voting preferences \\nStudy: crony capitalism is to the free market what the Westboro Baptist Church is to Christianity \\nFun facts about world languages: the Left has more words for statism than the Eskimos have for snow \\nAfrican countries to ban all flights from the United States because \\\"Obama is incompetent, it scares us\\\" \\nNobel Peace Prize controversy: Hillary not nominated despite having done even less than Obama to deserve it \\nObama: 'Ebola is the JV of viruses' \\nBREAKING: Secret Service foils Secret Service plot to protect Obama \\nRevised 1st Amendment: buy one speech, get the second free \\nSharpton calls on white NFL players to beat their women in the interests of racial fairness \\nPresident Obama appoints his weekly approval poll as new national security adviser \\nObama wags pen and phone at Putin; Europe offers support with powerful pens and phones from NATO members \\nWhite House pledges to embarrass ISIS back to the Stone Age with a barrage of fearsome Twitter messages and fatally ironic Instagram photos \\nObama to fight ISIS with new federal Terrorist Regulatory Agency \\nObama vows ISIS will never raise their flag over the eighteenth hole \\nHarry Reid: \\\"Sometimes I say the wong thing\\\" \\nElian Gonzalez wishes he had come to the U.S. on a bus from Central America like all the other kids \\nObama visits US-Mexican border, calls for a two-state solution \\nObama draws \\\"blue line\\\" in Iraq after Putin took away his red crayon \\n\\\"Hard Choices,\\\" a porno flick loosely based on Hillary Clinton's memoir and starring Hillary Hellfire as a drinking, whoring Secretary of State, wildly outsells the flabby, sagging original \\nAccusations of siding with the enemy leave Sgt. Bergdahl with only two options: pursue a doctorate at Berkley or become a Senator from Massachusetts \\nJay Carney stuck in line behind Eric Shinseki to leave the White House; estimated wait time from 15 min to 6 weeks \\n100% of scientists agree that if man-made global warming were real, \\\"the last people we'd want to help us is the Obama administration\\\" \\nJay Carney says he found out that Obama found out that he found out that Obama found out that he found out about the latest Obama administration scandal on the news \\n\\\"Anarchy Now!\\\" meeting turns into riot over points of order, bylaws, and whether or not 'kicking the #^@&*! ass' of the person trying to speak is or is not violence \\nObama retaliates against Putin by prohibiting unionized federal employees from dating hot Russian girls online during work hours \\nRussian separatists in Ukraine riot over an offensive YouTube video showing the toppling of Lenin statues \\n\\\"Free Speech Zones\\\" confuse Obamaphone owners who roam streets in search of additional air minutes \\nObamacare bolsters employment for professionals with skills to convert meth back into sudafed \\nGloves finally off: Obama uses pen and phone to cancel Putin's Netflix account \\nJoe Biden to Russia: \\\"We will bury you by turning more of Eastern Europe over to your control!\\\" \\nIn last-ditch effort to help Ukraine, Obama deploys Rev. Sharpton and Rev. Jackson's Rainbow Coalition to Crimea \\nAl Sharpton: \\\"Not even Putin can withstand our signature chanting, 'racist, sexist, anti-gay, Russian army go away'!\\\" \\nMardi Gras in North Korea: \\\" Throw me some food! \\\" \\nObama's foreign policy works: \\\"War, invasion, and conquest are signs of weakness; we've got Putin right where we want him\\\" \\nUS offers military solution to Ukraine crisis: \\\"We will only fight countries that have LGBT military\\\" \\nPutin annexes Brighton Beach to protect ethnic Russians in Brooklyn, Obama appeals to UN and EU for help \\nThe 1980s: \\\"Mr. Obama, we're just calling to ask if you want our foreign policy back . The 1970s are right here with us, and they're wondering, too.\\\" \\nIn a stunning act of defiance, Obama courageously unfriends Putin on Facebook \\nMSNBC: Obama secures alliance with Austro-Hungarian Empire against Russia\\u2019s aggression in Ukraine \\nStudy: springbreak is to STDs what April 15th is to accountants \\nEfforts to achieve moisture justice for California thwarted by unfair redistribution of snow in America \\nNorth Korean voters unanimous: \\\"We are the 100%\\\" \\nLeader of authoritarian gulag-site, The People's Cube, unanimously 're-elected' with 100% voter turnout \\nSuper Bowl: Obama blames Fox News for Broncos' loss \\nFeminist author slams gay marriage: \\\"a man needs a man like a fish needs a bicycle\\\" \\nBeverly Hills campaign heats up between Henry Waxman and Marianne Williamson over the widening income gap between millionaires and billionaires in their district \\nBiden to lower $10,000-a-plate Dinner For The Homeless to $5,000 so more homeless can attend \\nKim becomes world leader, feeds uncle to dogs; Obama eats dogs, becomes world leader, America cries uncle \\nNorth Korean leader executes own uncle for talking about Obamacare at family Christmas party \\nWhite House hires part-time schizophrenic Mandela sign interpreter to help sell Obamacare \\nKim Jong Un executes own \\\" crazy uncle \\\" to keep him from ruining another family Christmas \\nOFA admits its advice for area activists to give Obamacare Talk at shooting ranges was a bad idea \\nPresident resolves Obamacare debacle with executive order declaring all Americans equally healthy \\nObama to Iran: \\\"If you like your nuclear program, you can keep your nuclear program\\\" \\nBovine community outraged by flatulence coming from Washington DC \\nObama: \\\"I'm not particularly ideological; I believe in a good pragmatic five-year plan\\\" \\nShocker: Obama had no knowledge he'd been reelected until he read about it in the local newspaper last week \\nServer problems at HealthCare.gov so bad, it now flashes 'Error 808' message \\nNSA marks National Best Friend Day with official announcement: \\\"Government is your best friend; we know you like no one else, we're always there, we're always willing to listen\\\" \\nAl Qaeda cancels attack on USA citing launch of Obamacare as devastating enough \\nThe President's latest talking point on Obamacare: \\\"I didn't build that\\\" \\nDizzy with success, Obama renames his wildly popular healthcare mandate to HillaryCare \\nCarney: huge ObamaCare deductibles won't look as bad come hyperinflation \\nWashington Redskins drop 'Washington' from their name as offensive to most Americans \\nPoll: 83% of Americans favor cowboy diplomacy over rodeo clown diplomacy \\nGOVERNMENT WARNING: If you were able to complete ObamaCare form online, it wasn't a legitimate gov't website; you should report online fraud and change all your passwords \\nObama administration gets serious, threatens Syria with ObamaCare \\nObama authorizes the use of Vice President Joe Biden's double-barrel shotgun to fire a couple of blasts at Syria \\nSharpton: \\\"British royals should have named baby 'Trayvon.' By choosing 'George' they sided with white Hispanic racist Zimmerman\\\" \\nDNC launches 'Carlos Danger' action figure; proceeds to fund a charity helping survivors of the Republican War on Women \\nNancy Pelosi extends abortion rights to the birds and the bees \\nHubble discovers planetary drift to the left \\nObama: 'If I had a daughter-in-law, she would look like Rachael Jeantel' \\nFISA court rubberstamps statement denying its portrayal as government's rubber stamp \\nEvery time ObamaCare gets delayed, a Julia somewhere dies \\nGOP to Schumer: 'Force full implementation of ObamaCare before 2014 or Dems will never win another election' \\nObama: 'If I had a son... no, wait, my daughter can now marry a woman!' \\nJanet Napolitano: TSA findings reveal that since none of the hijackers were babies, elderly, or Tea Partiers, 9/11 was not an act of terrorism \\nNews Flash: Sen. Mary Landrieu (D-LA) can see Canada from South Dakota \\nSusan Rice: IRS actions against tea parties caused by anti-tax YouTube video that was insulting to their faith \\nDrudge Report reduces font to fit all White House scandals onto one page \\nObama: the IRS is a constitutional right, just like the Second Amendment \\nWhite House: top Obama officials using secret email accounts a result of bad IT advice to avoid spam mail from Nigeria \\nJay Carney to critics: 'Pinocchio never said anything inconsistent' \\nObama: If I had a gay son, he'd look like Jason Collins \\nGosnell's office in Benghazi raided by the IRS: mainstream media's worst cover-up challenge to date \\nIRS targeting pro-gay-marriage LGBT groups leads to gayest tax revolt in U.S. history \\nAfter Arlington Cemetery rejects offer to bury Boston bomber, Westboro Babtist Church steps up with premium front lawn plot \\nBoston: Obama Administration to reclassify marathon bombing as 'sportsplace violence' \\nStudy: Success has many fathers but failure becomes a government program \\nUS Media: Can Pope Francis possibly clear up Vatican bureaucracy and banking without blaming the previous administration? \\nMichelle Obama praises weekend rampage by Chicago teens as good way to burn calories and stay healthy \\nThis Passover, Obama urges his subjects to paint lamb's blood above doors in order to avoid the Sequester \\nWhite House to American children: Sequester causes layoffs among hens that lay Easter eggs; union-wage Easter Bunnies to be replaced by Mexican Chupacabras \\nTime Mag names Hugo Chavez world's sexiest corpse \\nBoy, 8, pretends banana is gun, makes daring escape from school \\nStudy: Free lunches overpriced, lack nutrition \\nOscars 2013: Michelle Obama announces long-awaited merger of Hollywood and the State \\nJoe Salazar defends the right of women to be raped in gun-free environment: 'rapists and rapees should work together to prevent gun violence for the common good' \\nDept. of Health and Human Services eliminates rape by reclassifying assailants as 'undocumented sex partners' \\nKremlin puts out warning not to photoshop Putin riding meteor unless bare-chested \\nDeeming football too violent, Obama moves to introduce Super Drone Sundays instead \\nJapan offers to extend nuclear umbrella to cover U.S. should America suffer devastating attack on its own defense spending \\nFeminists organize one billion women to protest male oppression with one billion lap dances \\nUrban community protests Mayor Bloomberg's ban on extra-large pop singers owning assault weapons \\nConcerned with mounting death toll, Taliban offers to send peacekeeping advisers to Chicago \\nKarl Rove puts an end to Tea Party with new 'Republicans For Democrats' strategy aimed at losing elections \\nAnswering public skepticism, President Obama authorizes unlimited drone attacks on all skeet targets throughout the country \\nSkeet Ulrich denies claims he had been shot by President but considers changing his name to 'Traps' \\nWhite House releases new exciting photos of Obama standing, sitting, looking thoughtful, and even breathing in and out \\nNew York Times hacked by Chinese government, Paul Krugman's economic policies stolen \\nWhite House: when President shoots skeet, he donates the meat to food banks that feed the middle class \\nTo prove he is serious, Obama eliminates armed guard protection for President, Vice-President, and their families; establishes Gun-Free Zones around them instead \\nState Dept to send 100,000 American college students to China as security for US debt obligations \\nJay Carney: Al Qaeda is on the run, they're just running forward \\nPresident issues executive orders banning cliffs, ceilings, obstructions, statistics, and other notions that prevent us from moving forwards and upward \\nFearing the worst, Obama Administration outlaws the fan to prevent it from being hit by certain objects \\nWorld ends; S&P soars \\nRiddle of universe solved; answer not understood \\nMeek inherit Earth, can't afford estate taxes \\nGreece abandons Euro; accountants find Greece has no Euros anyway \\nWheel finally reinvented; axles to be gradually reinvented in 3rd quarter of 2013 \\nBigfoot found in Ohio, mysteriously not voting for Obama \\nAs Santa's workshop files for bankruptcy, Fed offers bailout in exchange for control of 'naughty and nice' list \\nFreak flying pig accident causes bacon to fly off shelves \\nObama: green economy likely to transform America into a leading third world country of the new millennium \\nReport: President Obama to visit the United States in the near future \\nObama promises to create thousands more economically neutral jobs \\nModernizing Islam: New York imam proposes to canonize Saul Alinsky as religion's latter day prophet \\nImam Rauf's peaceful solution: 'Move Ground Zero a few blocks away from the mosque and no one gets hurt' \\nStudy: Obama's threat to burn tax money in Washington 'recruitment bonanza' for Tea Parties \\nStudy: no Social Security reform will be needed if gov't raises retirement age to at least 814 years \\nObama attends church service, worships self \\nObama proposes national 'Win The Future' lottery; proceeds of new WTF Powerball to finance more gov't spending \\nHistorical revisionists: \\\"Hey, you never know\\\" \\nVice President Biden: criticizing Egypt is un-pharaoh \\nIsraelis to Egyptian rioters: \\\"don't damage the pyramids, we will not rebuild\\\" \\nLake Superior renamed Lake Inferior in spirit of tolerance and inclusiveness \\nAl Gore: It's a shame that a family can be torn apart by something as simple as a pack of polar bears \\nMichael Moore: As long as there is anyone with money to shake down, this country is not broke \\nObama's teleprompters unionize, demand collective bargaining rights \\nObama calls new taxes 'spending reductions in tax code.' Elsewhere rapists tout 'consent reductions in sexual intercourse' \\nObama's teleprompter unhappy with White House Twitter: \\\"Too few words\\\" \\nObama's Regulation Reduction committee finds US Constitution to be expensive outdated framework inefficiently regulating federal gov't \\nTaking a page from the Reagan years, Obama announces new era of Perestroika and Glasnost \\nResponding to Oslo shootings, Obama declares Christianity \\\"Religion of Peace,\\\" praises \\\"moderate Christians,\\\" promises to send one into space \\nRepublicans block Obama's $420 billion program to give American families free charms that ward off economic bad luck \\nWhite House to impose Chimney tax on Santa Claus \\nObama decrees the economy is not soaring as much as previously decreeed \\nConservative think tank introduces children to capitalism with pop-up picture book \\\"The Road to Smurfdom\\\" \\nAl Gore proposes to combat Global Warming by extracting silver linings from clouds in Earth's atmosphere \\nObama refutes charges of him being unresponsive to people's suffering: \\\"When you pray to God, do you always hear a response?\\\" \\nObama regrets the US government didn't provide his mother with free contraceptives when she was in college \\nFluke to Congress: drill, baby, drill! \\nPlanned Parenthood introduces Frequent Flucker reward card: 'Come again soon!' \\nObama to tornado victims: 'We inherited this weather from the previous administration' \\nObama congratulates Putin on Chicago-style election outcome \\nPeople's Cube gives itself Hero of Socialist Labor medal in recognition of continued expert advice provided to the Obama Administration helping to shape its foreign and domestic policies \\nHamas: Israeli air defense unfair to 99% of our missiles, \\\"only 1% allowed to reach Israel\\\" \\nDemocrat strategist: without government supervision, women would have never evolved into humans \\nVoters Without Borders oppose Texas new voter ID law \\nEnraged by accusation that they are doing Obama's bidding, media leaders demand instructions from White House on how to respond \\nObama blames previous Olympics for failure to win at this Olympics \\nOfficial: China plans to land on Moon or at least on cheap knockoff thereof \\nKoran-Contra: Obama secretly arms Syrian rebels \\nPoll: Progressive slogan 'We should be more like Europe' most popular with members of American Nazi Party \\nObama to Evangelicals: Jesus saves, I just spend \\nMay Day: Anarchists plan, schedule, synchronize, and execute a coordinated campaign against all of the above \\nMidwestern farmers hooked on new erotic novel \\\"50 Shades of Hay\\\" \\nStudy: 99% of Liberals give the rest a bad name \\nObama meets with Jewish leaders, proposes deeper circumcisions for the rich \\nHistorians: Before HOPE & CHANGE there was HEMP & CHOOM at ten bucks a bag \\nCancer once again fails to cure Venezuela of its \\\"President for Life\\\" \\nTragic spelling error causes Muslim protesters to burn local boob-tube factory \\nSecretary of Energy Steven Chu: due to energy conservation, the light at the end of the tunnel will be switched off \\nObama Administration running food stamps across the border with Mexico in an operation code-named \\\"Fat And Furious\\\" \\nPakistan explodes in protest over new Adobe Acrobat update; 17 local acrobats killed \\nWhite House: \\\"Let them eat statistics\\\" \\nSpecial Ops: if Benedict Arnold had a son, he would look like Barack Obama\"\n        ],\n        \"semantic_type\": \"\",\n        \"description\": \"\"\n      }\n    }\n  ]\n}",
       "type": "dataframe",
       "variable_name": "DF"
      },
      "text/html": [
       "\n",
       "  <div id=\"df-65e6362a-61ac-4465-ad91-4daaefb63f48\" class=\"colab-df-container\">\n",
       "    <div>\n",
       "<style scoped>\n",
       "    .dataframe tbody tr th:only-of-type {\n",
       "        vertical-align: middle;\n",
       "    }\n",
       "\n",
       "    .dataframe tbody tr th {\n",
       "        vertical-align: top;\n",
       "    }\n",
       "\n",
       "    .dataframe thead th {\n",
       "        text-align: right;\n",
       "    }\n",
       "</style>\n",
       "<table border=\"1\" class=\"dataframe\">\n",
       "  <thead>\n",
       "    <tr style=\"text-align: right;\">\n",
       "      <th></th>\n",
       "      <th>label</th>\n",
       "      <th>Content</th>\n",
       "    </tr>\n",
       "  </thead>\n",
       "  <tbody>\n",
       "    <tr>\n",
       "      <th>0</th>\n",
       "      <td>1</td>\n",
       "      <td>LAW ENFORCEMENT ON HIGH ALERT Following Threat...</td>\n",
       "    </tr>\n",
       "    <tr>\n",
       "      <th>1</th>\n",
       "      <td>1</td>\n",
       "      <td>UNBELIEVABLE! OBAMA’S ATTORNEY GENERAL SAYS MO...</td>\n",
       "    </tr>\n",
       "    <tr>\n",
       "      <th>2</th>\n",
       "      <td>0</td>\n",
       "      <td>Bobby Jindal, raised Hindu, uses story of Chri...</td>\n",
       "    </tr>\n",
       "    <tr>\n",
       "      <th>3</th>\n",
       "      <td>1</td>\n",
       "      <td>SATAN 2: Russia unvelis an image of its terrif...</td>\n",
       "    </tr>\n",
       "    <tr>\n",
       "      <th>4</th>\n",
       "      <td>1</td>\n",
       "      <td>About Time! Christian Group Sues Amazon and SP...</td>\n",
       "    </tr>\n",
       "    <tr>\n",
       "      <th>...</th>\n",
       "      <td>...</td>\n",
       "      <td>...</td>\n",
       "    </tr>\n",
       "    <tr>\n",
       "      <th>63116</th>\n",
       "      <td>1</td>\n",
       "      <td>WIKILEAKS EMAIL SHOWS CLINTON FOUNDATION FUNDS...</td>\n",
       "    </tr>\n",
       "    <tr>\n",
       "      <th>63117</th>\n",
       "      <td>0</td>\n",
       "      <td>Russians steal research on Trump in hack of U....</td>\n",
       "    </tr>\n",
       "    <tr>\n",
       "      <th>63118</th>\n",
       "      <td>1</td>\n",
       "      <td>WATCH: Giuliani Demands That Democrats Apolog...</td>\n",
       "    </tr>\n",
       "    <tr>\n",
       "      <th>63119</th>\n",
       "      <td>0</td>\n",
       "      <td>Migrants Refuse To Leave Train At Refugee Camp...</td>\n",
       "    </tr>\n",
       "    <tr>\n",
       "      <th>63120</th>\n",
       "      <td>0</td>\n",
       "      <td>Trump tussle gives unpopular Mexican leader mu...</td>\n",
       "    </tr>\n",
       "  </tbody>\n",
       "</table>\n",
       "<p>63121 rows × 2 columns</p>\n",
       "</div>\n",
       "    <div class=\"colab-df-buttons\">\n",
       "\n",
       "  <div class=\"colab-df-container\">\n",
       "    <button class=\"colab-df-convert\" onclick=\"convertToInteractive('df-65e6362a-61ac-4465-ad91-4daaefb63f48')\"\n",
       "            title=\"Convert this dataframe to an interactive table.\"\n",
       "            style=\"display:none;\">\n",
       "\n",
       "  <svg xmlns=\"http://www.w3.org/2000/svg\" height=\"24px\" viewBox=\"0 -960 960 960\">\n",
       "    <path d=\"M120-120v-720h720v720H120Zm60-500h600v-160H180v160Zm220 220h160v-160H400v160Zm0 220h160v-160H400v160ZM180-400h160v-160H180v160Zm440 0h160v-160H620v160ZM180-180h160v-160H180v160Zm440 0h160v-160H620v160Z\"/>\n",
       "  </svg>\n",
       "    </button>\n",
       "\n",
       "  <style>\n",
       "    .colab-df-container {\n",
       "      display:flex;\n",
       "      gap: 12px;\n",
       "    }\n",
       "\n",
       "    .colab-df-convert {\n",
       "      background-color: #E8F0FE;\n",
       "      border: none;\n",
       "      border-radius: 50%;\n",
       "      cursor: pointer;\n",
       "      display: none;\n",
       "      fill: #1967D2;\n",
       "      height: 32px;\n",
       "      padding: 0 0 0 0;\n",
       "      width: 32px;\n",
       "    }\n",
       "\n",
       "    .colab-df-convert:hover {\n",
       "      background-color: #E2EBFA;\n",
       "      box-shadow: 0px 1px 2px rgba(60, 64, 67, 0.3), 0px 1px 3px 1px rgba(60, 64, 67, 0.15);\n",
       "      fill: #174EA6;\n",
       "    }\n",
       "\n",
       "    .colab-df-buttons div {\n",
       "      margin-bottom: 4px;\n",
       "    }\n",
       "\n",
       "    [theme=dark] .colab-df-convert {\n",
       "      background-color: #3B4455;\n",
       "      fill: #D2E3FC;\n",
       "    }\n",
       "\n",
       "    [theme=dark] .colab-df-convert:hover {\n",
       "      background-color: #434B5C;\n",
       "      box-shadow: 0px 1px 3px 1px rgba(0, 0, 0, 0.15);\n",
       "      filter: drop-shadow(0px 1px 2px rgba(0, 0, 0, 0.3));\n",
       "      fill: #FFFFFF;\n",
       "    }\n",
       "  </style>\n",
       "\n",
       "    <script>\n",
       "      const buttonEl =\n",
       "        document.querySelector('#df-65e6362a-61ac-4465-ad91-4daaefb63f48 button.colab-df-convert');\n",
       "      buttonEl.style.display =\n",
       "        google.colab.kernel.accessAllowed ? 'block' : 'none';\n",
       "\n",
       "      async function convertToInteractive(key) {\n",
       "        const element = document.querySelector('#df-65e6362a-61ac-4465-ad91-4daaefb63f48');\n",
       "        const dataTable =\n",
       "          await google.colab.kernel.invokeFunction('convertToInteractive',\n",
       "                                                    [key], {});\n",
       "        if (!dataTable) return;\n",
       "\n",
       "        const docLinkHtml = 'Like what you see? Visit the ' +\n",
       "          '<a target=\"_blank\" href=https://colab.research.google.com/notebooks/data_table.ipynb>data table notebook</a>'\n",
       "          + ' to learn more about interactive tables.';\n",
       "        element.innerHTML = '';\n",
       "        dataTable['output_type'] = 'display_data';\n",
       "        await google.colab.output.renderOutput(dataTable, element);\n",
       "        const docLink = document.createElement('div');\n",
       "        docLink.innerHTML = docLinkHtml;\n",
       "        element.appendChild(docLink);\n",
       "      }\n",
       "    </script>\n",
       "  </div>\n",
       "\n",
       "\n",
       "    <div id=\"df-0bc7a6f9-06b0-4cb9-ae6f-ff8fde2b8f71\">\n",
       "      <button class=\"colab-df-quickchart\" onclick=\"quickchart('df-0bc7a6f9-06b0-4cb9-ae6f-ff8fde2b8f71')\"\n",
       "                title=\"Suggest charts\"\n",
       "                style=\"display:none;\">\n",
       "\n",
       "<svg xmlns=\"http://www.w3.org/2000/svg\" height=\"24px\"viewBox=\"0 0 24 24\"\n",
       "     width=\"24px\">\n",
       "    <g>\n",
       "        <path d=\"M19 3H5c-1.1 0-2 .9-2 2v14c0 1.1.9 2 2 2h14c1.1 0 2-.9 2-2V5c0-1.1-.9-2-2-2zM9 17H7v-7h2v7zm4 0h-2V7h2v10zm4 0h-2v-4h2v4z\"/>\n",
       "    </g>\n",
       "</svg>\n",
       "      </button>\n",
       "\n",
       "<style>\n",
       "  .colab-df-quickchart {\n",
       "      --bg-color: #E8F0FE;\n",
       "      --fill-color: #1967D2;\n",
       "      --hover-bg-color: #E2EBFA;\n",
       "      --hover-fill-color: #174EA6;\n",
       "      --disabled-fill-color: #AAA;\n",
       "      --disabled-bg-color: #DDD;\n",
       "  }\n",
       "\n",
       "  [theme=dark] .colab-df-quickchart {\n",
       "      --bg-color: #3B4455;\n",
       "      --fill-color: #D2E3FC;\n",
       "      --hover-bg-color: #434B5C;\n",
       "      --hover-fill-color: #FFFFFF;\n",
       "      --disabled-bg-color: #3B4455;\n",
       "      --disabled-fill-color: #666;\n",
       "  }\n",
       "\n",
       "  .colab-df-quickchart {\n",
       "    background-color: var(--bg-color);\n",
       "    border: none;\n",
       "    border-radius: 50%;\n",
       "    cursor: pointer;\n",
       "    display: none;\n",
       "    fill: var(--fill-color);\n",
       "    height: 32px;\n",
       "    padding: 0;\n",
       "    width: 32px;\n",
       "  }\n",
       "\n",
       "  .colab-df-quickchart:hover {\n",
       "    background-color: var(--hover-bg-color);\n",
       "    box-shadow: 0 1px 2px rgba(60, 64, 67, 0.3), 0 1px 3px 1px rgba(60, 64, 67, 0.15);\n",
       "    fill: var(--button-hover-fill-color);\n",
       "  }\n",
       "\n",
       "  .colab-df-quickchart-complete:disabled,\n",
       "  .colab-df-quickchart-complete:disabled:hover {\n",
       "    background-color: var(--disabled-bg-color);\n",
       "    fill: var(--disabled-fill-color);\n",
       "    box-shadow: none;\n",
       "  }\n",
       "\n",
       "  .colab-df-spinner {\n",
       "    border: 2px solid var(--fill-color);\n",
       "    border-color: transparent;\n",
       "    border-bottom-color: var(--fill-color);\n",
       "    animation:\n",
       "      spin 1s steps(1) infinite;\n",
       "  }\n",
       "\n",
       "  @keyframes spin {\n",
       "    0% {\n",
       "      border-color: transparent;\n",
       "      border-bottom-color: var(--fill-color);\n",
       "      border-left-color: var(--fill-color);\n",
       "    }\n",
       "    20% {\n",
       "      border-color: transparent;\n",
       "      border-left-color: var(--fill-color);\n",
       "      border-top-color: var(--fill-color);\n",
       "    }\n",
       "    30% {\n",
       "      border-color: transparent;\n",
       "      border-left-color: var(--fill-color);\n",
       "      border-top-color: var(--fill-color);\n",
       "      border-right-color: var(--fill-color);\n",
       "    }\n",
       "    40% {\n",
       "      border-color: transparent;\n",
       "      border-right-color: var(--fill-color);\n",
       "      border-top-color: var(--fill-color);\n",
       "    }\n",
       "    60% {\n",
       "      border-color: transparent;\n",
       "      border-right-color: var(--fill-color);\n",
       "    }\n",
       "    80% {\n",
       "      border-color: transparent;\n",
       "      border-right-color: var(--fill-color);\n",
       "      border-bottom-color: var(--fill-color);\n",
       "    }\n",
       "    90% {\n",
       "      border-color: transparent;\n",
       "      border-bottom-color: var(--fill-color);\n",
       "    }\n",
       "  }\n",
       "</style>\n",
       "\n",
       "      <script>\n",
       "        async function quickchart(key) {\n",
       "          const quickchartButtonEl =\n",
       "            document.querySelector('#' + key + ' button');\n",
       "          quickchartButtonEl.disabled = true;  // To prevent multiple clicks.\n",
       "          quickchartButtonEl.classList.add('colab-df-spinner');\n",
       "          try {\n",
       "            const charts = await google.colab.kernel.invokeFunction(\n",
       "                'suggestCharts', [key], {});\n",
       "          } catch (error) {\n",
       "            console.error('Error during call to suggestCharts:', error);\n",
       "          }\n",
       "          quickchartButtonEl.classList.remove('colab-df-spinner');\n",
       "          quickchartButtonEl.classList.add('colab-df-quickchart-complete');\n",
       "        }\n",
       "        (() => {\n",
       "          let quickchartButtonEl =\n",
       "            document.querySelector('#df-0bc7a6f9-06b0-4cb9-ae6f-ff8fde2b8f71 button');\n",
       "          quickchartButtonEl.style.display =\n",
       "            google.colab.kernel.accessAllowed ? 'block' : 'none';\n",
       "        })();\n",
       "      </script>\n",
       "    </div>\n",
       "\n",
       "  <div id=\"id_7552f86c-ad51-48c0-af58-a08f03ba488f\">\n",
       "    <style>\n",
       "      .colab-df-generate {\n",
       "        background-color: #E8F0FE;\n",
       "        border: none;\n",
       "        border-radius: 50%;\n",
       "        cursor: pointer;\n",
       "        display: none;\n",
       "        fill: #1967D2;\n",
       "        height: 32px;\n",
       "        padding: 0 0 0 0;\n",
       "        width: 32px;\n",
       "      }\n",
       "\n",
       "      .colab-df-generate:hover {\n",
       "        background-color: #E2EBFA;\n",
       "        box-shadow: 0px 1px 2px rgba(60, 64, 67, 0.3), 0px 1px 3px 1px rgba(60, 64, 67, 0.15);\n",
       "        fill: #174EA6;\n",
       "      }\n",
       "\n",
       "      [theme=dark] .colab-df-generate {\n",
       "        background-color: #3B4455;\n",
       "        fill: #D2E3FC;\n",
       "      }\n",
       "\n",
       "      [theme=dark] .colab-df-generate:hover {\n",
       "        background-color: #434B5C;\n",
       "        box-shadow: 0px 1px 3px 1px rgba(0, 0, 0, 0.15);\n",
       "        filter: drop-shadow(0px 1px 2px rgba(0, 0, 0, 0.3));\n",
       "        fill: #FFFFFF;\n",
       "      }\n",
       "    </style>\n",
       "    <button class=\"colab-df-generate\" onclick=\"generateWithVariable('DF')\"\n",
       "            title=\"Generate code using this dataframe.\"\n",
       "            style=\"display:none;\">\n",
       "\n",
       "  <svg xmlns=\"http://www.w3.org/2000/svg\" height=\"24px\"viewBox=\"0 0 24 24\"\n",
       "       width=\"24px\">\n",
       "    <path d=\"M7,19H8.4L18.45,9,17,7.55,7,17.6ZM5,21V16.75L18.45,3.32a2,2,0,0,1,2.83,0l1.4,1.43a1.91,1.91,0,0,1,.58,1.4,1.91,1.91,0,0,1-.58,1.4L9.25,21ZM18.45,9,17,7.55Zm-12,3A5.31,5.31,0,0,0,4.9,8.1,5.31,5.31,0,0,0,1,6.5,5.31,5.31,0,0,0,4.9,4.9,5.31,5.31,0,0,0,6.5,1,5.31,5.31,0,0,0,8.1,4.9,5.31,5.31,0,0,0,12,6.5,5.46,5.46,0,0,0,6.5,12Z\"/>\n",
       "  </svg>\n",
       "    </button>\n",
       "    <script>\n",
       "      (() => {\n",
       "      const buttonEl =\n",
       "        document.querySelector('#id_7552f86c-ad51-48c0-af58-a08f03ba488f button.colab-df-generate');\n",
       "      buttonEl.style.display =\n",
       "        google.colab.kernel.accessAllowed ? 'block' : 'none';\n",
       "\n",
       "      buttonEl.onclick = () => {\n",
       "        google.colab.notebook.generateWithVariable('DF');\n",
       "      }\n",
       "      })();\n",
       "    </script>\n",
       "  </div>\n",
       "\n",
       "    </div>\n",
       "  </div>\n"
      ],
      "text/plain": [
       "       label                                            Content\n",
       "0          1  LAW ENFORCEMENT ON HIGH ALERT Following Threat...\n",
       "1          1  UNBELIEVABLE! OBAMA’S ATTORNEY GENERAL SAYS MO...\n",
       "2          0  Bobby Jindal, raised Hindu, uses story of Chri...\n",
       "3          1  SATAN 2: Russia unvelis an image of its terrif...\n",
       "4          1  About Time! Christian Group Sues Amazon and SP...\n",
       "...      ...                                                ...\n",
       "63116      1  WIKILEAKS EMAIL SHOWS CLINTON FOUNDATION FUNDS...\n",
       "63117      0  Russians steal research on Trump in hack of U....\n",
       "63118      1   WATCH: Giuliani Demands That Democrats Apolog...\n",
       "63119      0  Migrants Refuse To Leave Train At Refugee Camp...\n",
       "63120      0  Trump tussle gives unpopular Mexican leader mu...\n",
       "\n",
       "[63121 rows x 2 columns]"
      ]
     },
     "execution_count": 32,
     "metadata": {},
     "output_type": "execute_result"
    }
   ],
   "source": [
    "DF"
   ]
  },
  {
   "cell_type": "code",
   "execution_count": 33,
   "metadata": {
    "execution": {
     "iopub.execute_input": "2025-06-19T06:57:50.0022Z",
     "iopub.status.busy": "2025-06-19T06:57:50.001921Z",
     "iopub.status.idle": "2025-06-19T06:58:10.34423Z",
     "shell.execute_reply": "2025-06-19T06:58:10.343244Z",
     "shell.execute_reply.started": "2025-06-19T06:57:50.002172Z"
    },
    "id": "YlSmhde2AnEu"
   },
   "outputs": [],
   "source": [
    "DF[\"Content\"] = DF[\"Content\"].apply(clean)"
   ]
  },
  {
   "cell_type": "code",
   "execution_count": 36,
   "metadata": {
    "colab": {
     "base_uri": "https://localhost:8080/"
    },
    "id": "vGJT58iIJxIA",
    "outputId": "93c5e353-5b04-45f4-ed61-d1adc793c8af"
   },
   "outputs": [
    {
     "name": "stdout",
     "output_type": "stream",
     "text": [
      "🔍 Number of duplicate content rows: 0\n"
     ]
    }
   ],
   "source": [
    "# Count duplicate rows based only on the \"Content\" column\n",
    "num_duplicates = DF[\"Content\"].duplicated().sum()\n",
    "print(f\"🔍 Number of duplicate content rows: {num_duplicates}\")\n"
   ]
  },
  {
   "cell_type": "code",
   "execution_count": 37,
   "metadata": {
    "id": "Eb0FEx4NJzah"
   },
   "outputs": [],
   "source": [
    "\n",
    "DF = DF.drop_duplicates(subset=\"Content\").reset_index(drop=True)\n"
   ]
  },
  {
   "cell_type": "code",
   "execution_count": 38,
   "metadata": {
    "id": "3yI_PejzDWO9"
   },
   "outputs": [],
   "source": [
    "DF = DF[DF[\"Content\"].str.strip() != \"\"]\n"
   ]
  },
  {
   "cell_type": "code",
   "execution_count": 39,
   "metadata": {
    "colab": {
     "base_uri": "https://localhost:8080/",
     "height": 423
    },
    "id": "IgkN8qiJJ3oW",
    "outputId": "80fa022f-5183-4644-a47d-f5bc9a6fb395"
   },
   "outputs": [
    {
     "data": {
      "application/vnd.google.colaboratory.intrinsic+json": {
       "summary": "{\n  \"name\": \"DF\",\n  \"rows\": 63081,\n  \"fields\": [\n    {\n      \"column\": \"label\",\n      \"properties\": {\n        \"dtype\": \"number\",\n        \"std\": 0,\n        \"min\": 0,\n        \"max\": 1,\n        \"num_unique_values\": 2,\n        \"samples\": [\n          0,\n          1\n        ],\n        \"semantic_type\": \"\",\n        \"description\": \"\"\n      }\n    },\n    {\n      \"column\": \"Content\",\n      \"properties\": {\n        \"dtype\": \"string\",\n        \"num_unique_values\": 63081,\n        \"samples\": [\n          \"polityka zagraniczna usa thierry meyssanpolityka zagraniczna usa thierry meyssan dziaania rnych urzdw stanw zjednoczonych na arenie midzynarodowej s czsto nieskoordynowane na przykad w syrii gdzie formacje stworzone przez pentagon walcz przeciwko formacjom stworzonym przez cia natomiast w dwch sprawach podziau europy na uni europejsk i rosj oraz podziau dalekiego wschodu na asean i chiny dziaaj one cakowicie zgodnie jakie s cele polityki zagranicznej usa i czy mona przewidzie ow polityk sie voltaire damaszek syria 29 padziernika 2016 deutsch english espaol franais italiano portugus trke nederlands prognozujc polityk zagraniczn usa na przestrzeni niemal stulecia politolodzy dzielili politykw na izolacjonistw i interwencjonistw tych pierwszych zaliczali do ojcwpielgrzymw ktrzy uciekli ze starej europy i chcieli zbudowa nowy wiat oparty na wartociach religijnych a zatem pozbawiony europejskiego cynizmu drugich za do ojcwzaoycieli ktrzy nie tylko chcieli uzyska niepodlego ale i kontynuowa na swj sposb projekt imperium brytyjskiego dzisiaj taki podzia nie ma ju sensu albowiem nawet tak wielkie kraje jak stany zjednoczone nie mog by samowystarczalne dlatego w usa jest ju regu potpianie politycznych przeciwnikw izolacjonizmu i jednoczenie nie ma tam ani jednego polityka z wyjtkiem rona paula ktry by tej izolacjonistycznej linii chcia broni spory tocz si pomidzy zwolennikami wiecznej wojny i wyznawcami wykorzystywania bardziej mikkiej siy a jeli wierzy pracom marcina gilensa i beniamina i paigea to dzisiejsza polityka stanw zjednoczonych jest prowadzona przez grupy interesw niezalenie od woli obywateli 1 zgodnie z logik w sporach tych mona dostrzec wpywy z jednej strony kompleksu wojskowoprzemysowego ktry dominuje w gospodarce stanw zjednoczonych a z drugiej strony firm korzystajcych z rozlicze bezgotwkowych przy opatach za swoj produkcj oprogramowanie hitech rozrywka ktra tak waciwie jest raczej produkcj wirtualn ni realn czyli firmy te pobieraj haracz tam gdzie nie ma wojen jednake taki punkt widzenia pozostawia z boku problem dostpu do uytecznych kopalin i rde energii ktry by problemem dominujcym w xix i xx wieku a dzisiaj chocia straci swoj ostro to nie znikn cakowicie po ogoszeniu doktryny cartera 2 ktra zalicza dostp do wglowodorw na wielkim bliskim wschodzie do kwestii bezpieczestwa narodowego waszyngton stworzy centcom united states central command centralne dowdztwo stanw zjednoczonych skierowa do zatoki perskiej ponad 500000 ludzi i ogosi sprawowanie kontroli nad caym regionem wszyscy pamitaj jak dick cheney upewniwszy si co do nieuchronnoci peak oil szczytu wydobycia ropy naftowej zacz przygotowywa arabsk wiosn i wojny przeciwko tym pastwom ktre nie zechciay podda si kontroli jednake polityka ta stracia sens gdy tylko zaczto j prowadzi albowiem stany zjednoczone oprcz wasnego wydobycia gazu upkowego i ropy naftowej przejy dodatkowo kontrol nad wglowodorami zatoki meksykaskiej dlatego w najbliszych latach stany zjednoczone nie tylko zostawi w spokoju wielki bliski wschd ale bd te zmuszone rozpocz wielk wojn z wenezuel ktra jest jedynym krajem redniej wielkoci zdolnym konkurowa a nawet zagraa amerykaskiej eksploatacji z w zatoce meksykaskiej w serii wywiadw dla the atlantic prezydent obama prbowa uzasadni swoj doktryn 3 dugo powtarza jedno i to samo tym ktrzy go oskarali o niezgodno i sabo zwaszcza po sprawie czerwonej linii w syrii rzeczywicie powiedzia on e uycie broni chemicznej bdzie czerwon lini ktrej nie wolno przekroczy ale gdy jego administracja przekonywaa go o tym e syryjska republika arabska zastosowaa bro chemiczn wobec wasnego narodu obama odmwi przystpienia do nowej wojny nie wchodzc w dyskusj na temat zasadnoci tego oskarenia prezydent podkreli e stany zjednoczone nie powinny ryzykowa ycia swoich onierzy w tym konflikcie i e zdecydowa zachowa ich siy do walki z prawdziwymi zagroeniami dla narodowych interesw kraju w tej powcigliwoci tkwi caa istota doktryny obamy czyme s zatem owe prawdziwe zagroenia prezydent nic o tym nie powiedzia najlepiej bdzie przyjrze si pracom rady wywiadu narodowego usa us national intelligence council nic pamitajc o sile wymienionych wyej grup interesw okazuje si e stany zjednoczone porzuciy stworzon po 11 wrzenia doktryn jerzego busha modszego o globalnej dominacji powracajc do doktryny jego ojca o przewadze handlowej po zakoczeniu zimnej wojny z woli jej uczestnikw cay wiat zaj si rywalizacj gospodarcz w ramach liberalnego systemu kapitalistycznego a dla wikszej pewnoci co do tego e epoka konfrontacji ideologicznej jest ju zakoczona prezydent obama zbliy si z kub i iranem trzeba byo zmniejszy opozycyjno tych dwch rewolucyjnych pastw ktre kwestionuj nie tylko prymat stanw zjednoczonych ale i zasady gry na arenie midzynarodowej nieuczciwo jak stany zjednoczone pokazay przy realizacji umowy 51 wiadczy o tym e nie chodzio im o iraski program nuklearny lecz jedynie o prb przytrzymania na smyczy rewolucji chomeinistycznej to wanie w tym kontekcie nastpuje powrt do doktryny wolfowitza zgodnie z ktr dobre s wszelkie rodki ktre su okieznaniu konkurentw w tym take unii europejskiej 4 strategia ta jak si wydaje bya korygowana w miar rosncych obaw waszyngtonu obserwujcego uwanie przebudzenie si chin dlatego mwi si o strategicznym zwrocie na daleki wschd ktry ma polega na przerzuceniu tam wojsk z bliskiego wschodu eby kontrolowa region dalekowschodni i powstrzymywa chiny i chocia pentagon nie wspomina ju o szalonym neokonserwatywnym planie pokonania chin to jednak zamierza on ograniczy rol ekonomiczn tego pastwa i nie dopuci do rozszerzania si jego politycznych wpyww na wiecie jednake to co teraz widzimy jest zupenym zaprzeczeniem strategii zwrotu na daleki wschd stany zjednoczone z pewnoci zwikszyy nieznacznie swoj obecno w regionie azji i pacyfiku ale przede wszystkim zadbay o swoj siln obecno militarn w europie rodkowej a w czasie gdy wojna wci szaleje w palestynie jemenie syrii i iraku gdy zagraa now poog libii zostaje rozpalony nowy konflikt na ukrainie taki rozwj wydarze moemy zinterpretowa na dwa sposoby z jednej strony moemy uzna e zblianie si nato do rosyjskich granic i wojskowa reakcja moskwy niczym wiatu nie grozi rzeczywicie angaowanie si w taki konflikt jest ryzykowne a do tego zupenie niepotrzebne w takim wariancie wojna na ukrainie wraz ze wszystkimi tymi sankcjami i kontrsankcjami nie bdzie skierowana przeciwko rosji lecz bdzie sztucznie sfabrykowan specjalnie dla europy projekcj rzekomego zagroenia rosyjskiego co pozwoli stanom zjednoczonym broni swoich naiwnych sojusznikw lecz patrzc z drugiej strony dobrobyt gospodarczy stanw zjednoczonych opiera si na ich kontroli nad wiatowym handlem a w konsekwencji na utrzymaniu morskich drg handlowych 5 za rosja i chiny chcc si rozwija pragn uwolni si od amerykaskiej kurateli a w konsekwencji musz otworzy kontynentalne szlaki handlowe taka jest istota projektu przewodniczcego chiskiej republiki ludowej xi jinpinga zakadajcego budow dwch jedwabnych szlakw z ktrych jeden ma dociera jak w czasach antycznych przez azj rodkow pakistan iran irak i syri do morza rdziemnego a drugi ma prowadzi przez rosj do niemiec obie te drogi s dzi zablokowane przez ipis isis w lewancie i przez ukrain w europie kwestia kontroli nad morskimi szlakami handlowymi stanowia centralny punkt strategii amerykaskiej na pocztku xxi wieku przy wsparciu piratw z rogu afryki pwyspu somalijskiego 6 a strategia ta skoczya si fiaskiem gdy moskwa i pekin skieroway swoje okrty wojenne do tego regionu jednake mimo i chiny maj do dyspozycji od 2015 r dwukrotnie powikszone przez egipt koryto kanau sueskiego to przejcie przez cienin babelmandeb pozostajce oficjalnie pod kontrol republiki dibuti kontrolowane jest w rzeczywistoci przez alkaid za porednictwem islamskiego emiratu mukalla miasto almukalla na wybrzeu jemenu zostao zdobyte w kwietniu 2016 r przez wojska arabii saudyjskiej przyp tum oprcz kontroli morskich szlakw handlowych naley te uwzgldni kontrol nad operacjami finansowymi w tym wanie celu ministerstwo sprawiedliwoci stanw zjednoczonych ogosio zasady ktre amerykanie staraj si stopniowo narzuci bankom na caym wiecie lecz tutaj take rosja stworzya swj wasny system patnoci swift natomiast chiny zrezygnoway z wymienialnoci swojej waluty na dolary by nie da si skrpowa amerykaskimi przepisami jeeli ta analiza jest prawidowa to wojny w syrii i na ukrainie trwa bd dopty dopki rosja i chiny nie utoruj sobie chocia jednego bezpiecznego kontynentalnego szlaku handlowego do europy zachodniej wanie w tym kontekcie naley postrzega wysiki stanw zjednoczonych podejmowane dla przecignicia do ich obozu biaorusi przeciwko ktrej amerykanie tak dugo wystpowali jest to jedyny sposb na poszerzenie ukraiskiej zapory i zbudowanie szczelnej przegrody pomidzy europ zachodni i wschodni z tej perspektywy widzimy e negocjacje handlowe jakie stany zjednoczone prowadz z uni europejsk ttip i pastwami asean tpp nie maj na celu umocnienia ich wymiany handlowej wrcz przeciwnie ich celem jest wyeliminowanie z rynku rosji i chin to niepojte e europejczycy i azjaci skupili si na wyborze standardw produkcyjnych a nie na daniu udziau rosji i chin w tyche negocjacjach i wreszcie kocowy wniosek jaki naley wycign z wywiadw obamy dla the atlantic sprowadza si do tego e stany zjednoczone zamierzaj odnowi swoje sojusze i dostosowa je do nowej doktryny strategicznej dlatego np popieranie reimu saudw ktrzy gwarantowali dostawy ropy naftowej z bliskiego wschodu nie jest ju dla amerykanw adnym interesem i staje si nawet ciarem podobnie jak specjalne stosunki z wielk brytani ktre niegdy miay wielkie znaczenie dla warunkw kontroli nad oceanami karta atlantycka i przy prbie uksztatowania wiata jednobiegunowego wojna w iraku lecz dzisiaj nie s ju adnym konkretnym interesem i musz by ponownie przemylane nie wspominajc ju o kosztownym popieraniu izraela ktre nie suy ju realizacji celw na bliskim wschodzie i ktre moe nie by kontynuowane jeeli tel awiw nie okae si przydatny w innych czciach wiata powysze uwagi nie uwzgldniaj obecnej kampanii prezydenckiej w usa w ktrej cieraj si kompleks wojskowoprzemysowy i ideologia waspowska reprezentowane przez hilari clinton oraz z drugiej strony przemys bankowych systemw patnoci bezgotwkowej toll industry i zwolennicy umowy spoecznej pt american dream reprezentowani przez donalda trumpa 7 agresywny charakter tej kampanii wiadczy o koniecznoci przywrcenia rwnowagi midzy tymi siami po okresie niepodzielnej dominacji militarystw od 1995 r gdy obz reprezentowany dzisiaj przez trumpa wreszcie wygra to powinnimy zobaczy zakoczenie wojen 8 ale i erupcj despotycznego przymusu wnoszenia opat z powodu istniejcych patentw i praw autorskich w przypadku za gdy zwycistwo tej grupy zostanie odsunite w czasie stany zjednoczone bd miay do czynienia z powstaniem rozwcieczonej ludnoci i zamieszkami a wwczas przewidywanie polityki zagranicznej usa stanie si szczeglnie trudne thierry meyssan tumaczenie grzegorz grabowski polski blog\",\n          \"cuba still a commie hellhole after obamas normalization 4 years in the slammer for social dangerousnessdon t you know obama would love to just throw those who disagree with him in jail well the cuban government has only increased their detention of political dissenters since the normalization of relations with the communist country basically we ve just given cuba more money to oppress its people it ll all a big fat nothingburger the cuban human rights and national reconciliation commission or ccdhrn said thursday that cuba s government detained 610 people for political reasons in march the highest number in the past seven months there is a noticeable trend toward increasing repressive activities of this kind the ccdhrn said in its monthly report at the same time we also identify 95 cases of people who suffered other forms of political repression including physical attacks police harassment and vandalism and hostile demonstrations the exercise of all civil and political rights is still a crime the group said noting that the cuban penal code still includes an offense called precriminal social dangerousness which is punishable by up to four years in prisonthe country is unlikely to see an improvement in respect for fundamental civil and political rights as a result of the government s inflexible posture and its opposition to any effort or proposal leading to the urgent judicial economic and political reforms that the cuban people need and deserve the commission said read more latin american herald\"\n        ],\n        \"semantic_type\": \"\",\n        \"description\": \"\"\n      }\n    }\n  ]\n}",
       "type": "dataframe",
       "variable_name": "DF"
      },
      "text/html": [
       "\n",
       "  <div id=\"df-b28c9753-31fb-4203-b349-d1c8a16d2277\" class=\"colab-df-container\">\n",
       "    <div>\n",
       "<style scoped>\n",
       "    .dataframe tbody tr th:only-of-type {\n",
       "        vertical-align: middle;\n",
       "    }\n",
       "\n",
       "    .dataframe tbody tr th {\n",
       "        vertical-align: top;\n",
       "    }\n",
       "\n",
       "    .dataframe thead th {\n",
       "        text-align: right;\n",
       "    }\n",
       "</style>\n",
       "<table border=\"1\" class=\"dataframe\">\n",
       "  <thead>\n",
       "    <tr style=\"text-align: right;\">\n",
       "      <th></th>\n",
       "      <th>label</th>\n",
       "      <th>Content</th>\n",
       "    </tr>\n",
       "  </thead>\n",
       "  <tbody>\n",
       "    <tr>\n",
       "      <th>0</th>\n",
       "      <td>1</td>\n",
       "      <td>law enforcement on high alert following threat...</td>\n",
       "    </tr>\n",
       "    <tr>\n",
       "      <th>1</th>\n",
       "      <td>1</td>\n",
       "      <td>unbelievable obamas attorney general says most...</td>\n",
       "    </tr>\n",
       "    <tr>\n",
       "      <th>2</th>\n",
       "      <td>0</td>\n",
       "      <td>bobby jindal raised hindu uses story of christ...</td>\n",
       "    </tr>\n",
       "    <tr>\n",
       "      <th>3</th>\n",
       "      <td>1</td>\n",
       "      <td>satan 2 russia unvelis an image of its terrify...</td>\n",
       "    </tr>\n",
       "    <tr>\n",
       "      <th>4</th>\n",
       "      <td>1</td>\n",
       "      <td>about time christian group sues amazon and spl...</td>\n",
       "    </tr>\n",
       "    <tr>\n",
       "      <th>...</th>\n",
       "      <td>...</td>\n",
       "      <td>...</td>\n",
       "    </tr>\n",
       "    <tr>\n",
       "      <th>63077</th>\n",
       "      <td>1</td>\n",
       "      <td>wikileaks email shows clinton foundation funds...</td>\n",
       "    </tr>\n",
       "    <tr>\n",
       "      <th>63078</th>\n",
       "      <td>0</td>\n",
       "      <td>russians steal research on trump in hack of us...</td>\n",
       "    </tr>\n",
       "    <tr>\n",
       "      <th>63079</th>\n",
       "      <td>1</td>\n",
       "      <td>watch giuliani demands that democrats apologiz...</td>\n",
       "    </tr>\n",
       "    <tr>\n",
       "      <th>63080</th>\n",
       "      <td>0</td>\n",
       "      <td>migrants refuse to leave train at refugee camp...</td>\n",
       "    </tr>\n",
       "    <tr>\n",
       "      <th>63081</th>\n",
       "      <td>0</td>\n",
       "      <td>trump tussle gives unpopular mexican leader mu...</td>\n",
       "    </tr>\n",
       "  </tbody>\n",
       "</table>\n",
       "<p>63081 rows × 2 columns</p>\n",
       "</div>\n",
       "    <div class=\"colab-df-buttons\">\n",
       "\n",
       "  <div class=\"colab-df-container\">\n",
       "    <button class=\"colab-df-convert\" onclick=\"convertToInteractive('df-b28c9753-31fb-4203-b349-d1c8a16d2277')\"\n",
       "            title=\"Convert this dataframe to an interactive table.\"\n",
       "            style=\"display:none;\">\n",
       "\n",
       "  <svg xmlns=\"http://www.w3.org/2000/svg\" height=\"24px\" viewBox=\"0 -960 960 960\">\n",
       "    <path d=\"M120-120v-720h720v720H120Zm60-500h600v-160H180v160Zm220 220h160v-160H400v160Zm0 220h160v-160H400v160ZM180-400h160v-160H180v160Zm440 0h160v-160H620v160ZM180-180h160v-160H180v160Zm440 0h160v-160H620v160Z\"/>\n",
       "  </svg>\n",
       "    </button>\n",
       "\n",
       "  <style>\n",
       "    .colab-df-container {\n",
       "      display:flex;\n",
       "      gap: 12px;\n",
       "    }\n",
       "\n",
       "    .colab-df-convert {\n",
       "      background-color: #E8F0FE;\n",
       "      border: none;\n",
       "      border-radius: 50%;\n",
       "      cursor: pointer;\n",
       "      display: none;\n",
       "      fill: #1967D2;\n",
       "      height: 32px;\n",
       "      padding: 0 0 0 0;\n",
       "      width: 32px;\n",
       "    }\n",
       "\n",
       "    .colab-df-convert:hover {\n",
       "      background-color: #E2EBFA;\n",
       "      box-shadow: 0px 1px 2px rgba(60, 64, 67, 0.3), 0px 1px 3px 1px rgba(60, 64, 67, 0.15);\n",
       "      fill: #174EA6;\n",
       "    }\n",
       "\n",
       "    .colab-df-buttons div {\n",
       "      margin-bottom: 4px;\n",
       "    }\n",
       "\n",
       "    [theme=dark] .colab-df-convert {\n",
       "      background-color: #3B4455;\n",
       "      fill: #D2E3FC;\n",
       "    }\n",
       "\n",
       "    [theme=dark] .colab-df-convert:hover {\n",
       "      background-color: #434B5C;\n",
       "      box-shadow: 0px 1px 3px 1px rgba(0, 0, 0, 0.15);\n",
       "      filter: drop-shadow(0px 1px 2px rgba(0, 0, 0, 0.3));\n",
       "      fill: #FFFFFF;\n",
       "    }\n",
       "  </style>\n",
       "\n",
       "    <script>\n",
       "      const buttonEl =\n",
       "        document.querySelector('#df-b28c9753-31fb-4203-b349-d1c8a16d2277 button.colab-df-convert');\n",
       "      buttonEl.style.display =\n",
       "        google.colab.kernel.accessAllowed ? 'block' : 'none';\n",
       "\n",
       "      async function convertToInteractive(key) {\n",
       "        const element = document.querySelector('#df-b28c9753-31fb-4203-b349-d1c8a16d2277');\n",
       "        const dataTable =\n",
       "          await google.colab.kernel.invokeFunction('convertToInteractive',\n",
       "                                                    [key], {});\n",
       "        if (!dataTable) return;\n",
       "\n",
       "        const docLinkHtml = 'Like what you see? Visit the ' +\n",
       "          '<a target=\"_blank\" href=https://colab.research.google.com/notebooks/data_table.ipynb>data table notebook</a>'\n",
       "          + ' to learn more about interactive tables.';\n",
       "        element.innerHTML = '';\n",
       "        dataTable['output_type'] = 'display_data';\n",
       "        await google.colab.output.renderOutput(dataTable, element);\n",
       "        const docLink = document.createElement('div');\n",
       "        docLink.innerHTML = docLinkHtml;\n",
       "        element.appendChild(docLink);\n",
       "      }\n",
       "    </script>\n",
       "  </div>\n",
       "\n",
       "\n",
       "    <div id=\"df-2174972c-3aa0-4a51-85d7-0a65e13438fa\">\n",
       "      <button class=\"colab-df-quickchart\" onclick=\"quickchart('df-2174972c-3aa0-4a51-85d7-0a65e13438fa')\"\n",
       "                title=\"Suggest charts\"\n",
       "                style=\"display:none;\">\n",
       "\n",
       "<svg xmlns=\"http://www.w3.org/2000/svg\" height=\"24px\"viewBox=\"0 0 24 24\"\n",
       "     width=\"24px\">\n",
       "    <g>\n",
       "        <path d=\"M19 3H5c-1.1 0-2 .9-2 2v14c0 1.1.9 2 2 2h14c1.1 0 2-.9 2-2V5c0-1.1-.9-2-2-2zM9 17H7v-7h2v7zm4 0h-2V7h2v10zm4 0h-2v-4h2v4z\"/>\n",
       "    </g>\n",
       "</svg>\n",
       "      </button>\n",
       "\n",
       "<style>\n",
       "  .colab-df-quickchart {\n",
       "      --bg-color: #E8F0FE;\n",
       "      --fill-color: #1967D2;\n",
       "      --hover-bg-color: #E2EBFA;\n",
       "      --hover-fill-color: #174EA6;\n",
       "      --disabled-fill-color: #AAA;\n",
       "      --disabled-bg-color: #DDD;\n",
       "  }\n",
       "\n",
       "  [theme=dark] .colab-df-quickchart {\n",
       "      --bg-color: #3B4455;\n",
       "      --fill-color: #D2E3FC;\n",
       "      --hover-bg-color: #434B5C;\n",
       "      --hover-fill-color: #FFFFFF;\n",
       "      --disabled-bg-color: #3B4455;\n",
       "      --disabled-fill-color: #666;\n",
       "  }\n",
       "\n",
       "  .colab-df-quickchart {\n",
       "    background-color: var(--bg-color);\n",
       "    border: none;\n",
       "    border-radius: 50%;\n",
       "    cursor: pointer;\n",
       "    display: none;\n",
       "    fill: var(--fill-color);\n",
       "    height: 32px;\n",
       "    padding: 0;\n",
       "    width: 32px;\n",
       "  }\n",
       "\n",
       "  .colab-df-quickchart:hover {\n",
       "    background-color: var(--hover-bg-color);\n",
       "    box-shadow: 0 1px 2px rgba(60, 64, 67, 0.3), 0 1px 3px 1px rgba(60, 64, 67, 0.15);\n",
       "    fill: var(--button-hover-fill-color);\n",
       "  }\n",
       "\n",
       "  .colab-df-quickchart-complete:disabled,\n",
       "  .colab-df-quickchart-complete:disabled:hover {\n",
       "    background-color: var(--disabled-bg-color);\n",
       "    fill: var(--disabled-fill-color);\n",
       "    box-shadow: none;\n",
       "  }\n",
       "\n",
       "  .colab-df-spinner {\n",
       "    border: 2px solid var(--fill-color);\n",
       "    border-color: transparent;\n",
       "    border-bottom-color: var(--fill-color);\n",
       "    animation:\n",
       "      spin 1s steps(1) infinite;\n",
       "  }\n",
       "\n",
       "  @keyframes spin {\n",
       "    0% {\n",
       "      border-color: transparent;\n",
       "      border-bottom-color: var(--fill-color);\n",
       "      border-left-color: var(--fill-color);\n",
       "    }\n",
       "    20% {\n",
       "      border-color: transparent;\n",
       "      border-left-color: var(--fill-color);\n",
       "      border-top-color: var(--fill-color);\n",
       "    }\n",
       "    30% {\n",
       "      border-color: transparent;\n",
       "      border-left-color: var(--fill-color);\n",
       "      border-top-color: var(--fill-color);\n",
       "      border-right-color: var(--fill-color);\n",
       "    }\n",
       "    40% {\n",
       "      border-color: transparent;\n",
       "      border-right-color: var(--fill-color);\n",
       "      border-top-color: var(--fill-color);\n",
       "    }\n",
       "    60% {\n",
       "      border-color: transparent;\n",
       "      border-right-color: var(--fill-color);\n",
       "    }\n",
       "    80% {\n",
       "      border-color: transparent;\n",
       "      border-right-color: var(--fill-color);\n",
       "      border-bottom-color: var(--fill-color);\n",
       "    }\n",
       "    90% {\n",
       "      border-color: transparent;\n",
       "      border-bottom-color: var(--fill-color);\n",
       "    }\n",
       "  }\n",
       "</style>\n",
       "\n",
       "      <script>\n",
       "        async function quickchart(key) {\n",
       "          const quickchartButtonEl =\n",
       "            document.querySelector('#' + key + ' button');\n",
       "          quickchartButtonEl.disabled = true;  // To prevent multiple clicks.\n",
       "          quickchartButtonEl.classList.add('colab-df-spinner');\n",
       "          try {\n",
       "            const charts = await google.colab.kernel.invokeFunction(\n",
       "                'suggestCharts', [key], {});\n",
       "          } catch (error) {\n",
       "            console.error('Error during call to suggestCharts:', error);\n",
       "          }\n",
       "          quickchartButtonEl.classList.remove('colab-df-spinner');\n",
       "          quickchartButtonEl.classList.add('colab-df-quickchart-complete');\n",
       "        }\n",
       "        (() => {\n",
       "          let quickchartButtonEl =\n",
       "            document.querySelector('#df-2174972c-3aa0-4a51-85d7-0a65e13438fa button');\n",
       "          quickchartButtonEl.style.display =\n",
       "            google.colab.kernel.accessAllowed ? 'block' : 'none';\n",
       "        })();\n",
       "      </script>\n",
       "    </div>\n",
       "\n",
       "  <div id=\"id_10e395df-1a10-4c96-bc53-8784ecaa02c5\">\n",
       "    <style>\n",
       "      .colab-df-generate {\n",
       "        background-color: #E8F0FE;\n",
       "        border: none;\n",
       "        border-radius: 50%;\n",
       "        cursor: pointer;\n",
       "        display: none;\n",
       "        fill: #1967D2;\n",
       "        height: 32px;\n",
       "        padding: 0 0 0 0;\n",
       "        width: 32px;\n",
       "      }\n",
       "\n",
       "      .colab-df-generate:hover {\n",
       "        background-color: #E2EBFA;\n",
       "        box-shadow: 0px 1px 2px rgba(60, 64, 67, 0.3), 0px 1px 3px 1px rgba(60, 64, 67, 0.15);\n",
       "        fill: #174EA6;\n",
       "      }\n",
       "\n",
       "      [theme=dark] .colab-df-generate {\n",
       "        background-color: #3B4455;\n",
       "        fill: #D2E3FC;\n",
       "      }\n",
       "\n",
       "      [theme=dark] .colab-df-generate:hover {\n",
       "        background-color: #434B5C;\n",
       "        box-shadow: 0px 1px 3px 1px rgba(0, 0, 0, 0.15);\n",
       "        filter: drop-shadow(0px 1px 2px rgba(0, 0, 0, 0.3));\n",
       "        fill: #FFFFFF;\n",
       "      }\n",
       "    </style>\n",
       "    <button class=\"colab-df-generate\" onclick=\"generateWithVariable('DF')\"\n",
       "            title=\"Generate code using this dataframe.\"\n",
       "            style=\"display:none;\">\n",
       "\n",
       "  <svg xmlns=\"http://www.w3.org/2000/svg\" height=\"24px\"viewBox=\"0 0 24 24\"\n",
       "       width=\"24px\">\n",
       "    <path d=\"M7,19H8.4L18.45,9,17,7.55,7,17.6ZM5,21V16.75L18.45,3.32a2,2,0,0,1,2.83,0l1.4,1.43a1.91,1.91,0,0,1,.58,1.4,1.91,1.91,0,0,1-.58,1.4L9.25,21ZM18.45,9,17,7.55Zm-12,3A5.31,5.31,0,0,0,4.9,8.1,5.31,5.31,0,0,0,1,6.5,5.31,5.31,0,0,0,4.9,4.9,5.31,5.31,0,0,0,6.5,1,5.31,5.31,0,0,0,8.1,4.9,5.31,5.31,0,0,0,12,6.5,5.46,5.46,0,0,0,6.5,12Z\"/>\n",
       "  </svg>\n",
       "    </button>\n",
       "    <script>\n",
       "      (() => {\n",
       "      const buttonEl =\n",
       "        document.querySelector('#id_10e395df-1a10-4c96-bc53-8784ecaa02c5 button.colab-df-generate');\n",
       "      buttonEl.style.display =\n",
       "        google.colab.kernel.accessAllowed ? 'block' : 'none';\n",
       "\n",
       "      buttonEl.onclick = () => {\n",
       "        google.colab.notebook.generateWithVariable('DF');\n",
       "      }\n",
       "      })();\n",
       "    </script>\n",
       "  </div>\n",
       "\n",
       "    </div>\n",
       "  </div>\n"
      ],
      "text/plain": [
       "       label                                            Content\n",
       "0          1  law enforcement on high alert following threat...\n",
       "1          1  unbelievable obamas attorney general says most...\n",
       "2          0  bobby jindal raised hindu uses story of christ...\n",
       "3          1  satan 2 russia unvelis an image of its terrify...\n",
       "4          1  about time christian group sues amazon and spl...\n",
       "...      ...                                                ...\n",
       "63077      1  wikileaks email shows clinton foundation funds...\n",
       "63078      0  russians steal research on trump in hack of us...\n",
       "63079      1  watch giuliani demands that democrats apologiz...\n",
       "63080      0  migrants refuse to leave train at refugee camp...\n",
       "63081      0  trump tussle gives unpopular mexican leader mu...\n",
       "\n",
       "[63081 rows x 2 columns]"
      ]
     },
     "execution_count": 39,
     "metadata": {},
     "output_type": "execute_result"
    }
   ],
   "source": [
    "DF"
   ]
  },
  {
   "cell_type": "code",
   "execution_count": 40,
   "metadata": {
    "execution": {
     "iopub.execute_input": "2025-06-19T06:58:10.345661Z",
     "iopub.status.busy": "2025-06-19T06:58:10.34525Z",
     "iopub.status.idle": "2025-06-19T06:58:13.222675Z",
     "shell.execute_reply": "2025-06-19T06:58:13.221795Z",
     "shell.execute_reply.started": "2025-06-19T06:58:10.345632Z"
    },
    "id": "KbILtzSgAnEv"
   },
   "outputs": [],
   "source": [
    "DF_dataset = Dataset.from_pandas(DF)"
   ]
  },
  {
   "cell_type": "code",
   "execution_count": 41,
   "metadata": {
    "colab": {
     "base_uri": "https://localhost:8080/",
     "height": 205,
     "referenced_widgets": [
      "e21b498e1c974453af14e7f59f573b9a",
      "aac6fd7ed8e44858b48b529c9ebd74dd",
      "9763cc2b2fbd4cfc8653b5155db6a412",
      "486e81d5493940da83c2e8a2fb492678",
      "f3cd1f669fd947759a8db0b698d6c218",
      "9ec0ed7483774a2b9da1235c838604e6",
      "e775c5de02424070b1095de2dd527e8c",
      "6866a0adbab64d88b25cb0be83a4c671",
      "227f054fce79402283f7b7820023a920",
      "997dae8591ee498f85726a5322b6faa6",
      "81c62acdb7cc40e5a0082e46d88658e1",
      "f7b3df55434f49e9806c7b0275037e02",
      "150f02641cdb41a3bc70c8e7f8ed1e6c",
      "6ad4bdbc503445e481f9593d96b2d074",
      "1d96fc1d58144e0b8ae0a7b785f479a9",
      "772b8076594c4bcab5d81322d75d952b",
      "ad9dcbeff18f45f19ab309c0dbf93fbb",
      "841f82fbea6043d1bbba72f0b377b6a9",
      "a3d8f4c1d9e24230b88425e3fda37246",
      "29bf43fbbb18431aaa2a04ce42a9dd98",
      "a8caa22483234abbb04430068a6608eb",
      "0d388bc4742c474e8cadfbf76be9d1a9"
     ]
    },
    "execution": {
     "iopub.execute_input": "2025-06-19T06:58:13.227256Z",
     "iopub.status.busy": "2025-06-19T06:58:13.226919Z",
     "iopub.status.idle": "2025-06-19T06:58:14.000173Z",
     "shell.execute_reply": "2025-06-19T06:58:13.999351Z",
     "shell.execute_reply.started": "2025-06-19T06:58:13.227229Z"
    },
    "id": "zT52v-clAnEv",
    "outputId": "7f40b4c3-62e0-4958-cb59-90f04e2cea7e"
   },
   "outputs": [
    {
     "name": "stderr",
     "output_type": "stream",
     "text": [
      "/usr/local/lib/python3.11/dist-packages/huggingface_hub/utils/_auth.py:94: UserWarning: \n",
      "The secret `HF_TOKEN` does not exist in your Colab secrets.\n",
      "To authenticate with the Hugging Face Hub, create a token in your settings tab (https://huggingface.co/settings/tokens), set it as secret in your Google Colab and restart your session.\n",
      "You will be able to reuse this secret in all of your notebooks.\n",
      "Please note that authentication is recommended but still optional to access public models or datasets.\n",
      "  warnings.warn(\n"
     ]
    },
    {
     "data": {
      "application/vnd.jupyter.widget-view+json": {
       "model_id": "e21b498e1c974453af14e7f59f573b9a",
       "version_major": 2,
       "version_minor": 0
      },
      "text/plain": [
       "Downloading builder script:   0%|          | 0.00/4.20k [00:00<?, ?B/s]"
      ]
     },
     "metadata": {},
     "output_type": "display_data"
    },
    {
     "data": {
      "application/vnd.jupyter.widget-view+json": {
       "model_id": "f7b3df55434f49e9806c7b0275037e02",
       "version_major": 2,
       "version_minor": 0
      },
      "text/plain": [
       "Downloading builder script:   0%|          | 0.00/9.54k [00:00<?, ?B/s]"
      ]
     },
     "metadata": {},
     "output_type": "display_data"
    }
   ],
   "source": [
    "accuracy = evaluate.load(\"accuracy\")\n",
    "auc_score = evaluate.load(\"roc_auc\")\n",
    "\n",
    "def compute_metrics(eval_pred):\n",
    "    # get predictions\n",
    "    predictions, labels = eval_pred\n",
    "\n",
    "    # apply softmax to get probabilities\n",
    "    probabilities = np.exp(predictions) / np.exp(predictions).sum(-1,\n",
    "                                                                 keepdims=True)\n",
    "    # use probabilities of the positive class for ROC AUC\n",
    "    positive_class_probs = probabilities[:, 1]\n",
    "    # compute auc\n",
    "    auc = np.round(auc_score.compute(prediction_scores=positive_class_probs,\n",
    "                                     references=labels)['roc_auc'],3)\n",
    "\n",
    "    # predict most probable class\n",
    "    predicted_classes = np.argmax(predictions, axis=1)\n",
    "    # compute accuracy\n",
    "    acc = np.round(accuracy.compute(predictions=predicted_classes,\n",
    "                                     references=labels)['accuracy'],3)\n",
    "\n",
    "    return {\"accuracy\": acc, \"auc\": auc}"
   ]
  },
  {
   "cell_type": "code",
   "execution_count": 42,
   "metadata": {
    "colab": {
     "base_uri": "https://localhost:8080/",
     "height": 232,
     "referenced_widgets": [
      "3e9e61e473b44321996362852e1fa2b0",
      "afc21c87e53142fc82414b2feee2371c",
      "a670fe08a553444ab0ef7f89ac968500",
      "562465155d8c4a23bb33d047d2428d67",
      "283dfcf1476f49b78904fccabcc7b98e",
      "376429a4c3fc46598cf35146b37c17d6",
      "cbdde5dee2fc4e7fa0e607aadcb18eee",
      "c9a062ec199a498ca4a8266b6534ccfe",
      "a808e074c2e14fe0ba2e0c4d4c00e3f5",
      "5e9c8066f647476e92e822b658c02b91",
      "d669a19569964760a248f668faa3706d",
      "cfa6ff80eccf4cea9c7eb969a0ce40f6",
      "a8f3244f66554754b046b2f67583ee42",
      "4ed12658433342de97051ca45908c1f8",
      "d97eb5cf714f48e29bd5c1dbc8cf1e45",
      "de504668e94947769488eeb170b59d47",
      "acb2125768bc4099998c474e1d9d2b5e",
      "cc5baf6c70104007a76fc01598edddeb",
      "8278d1f1ff604d72881c20ab89fa5b92",
      "b1acda50609e461eb6468ff569f4c0d6",
      "257ad66b5e0a4743b061b4bb668f62c1",
      "67289dcb341441d69db89ce8161d9a8b",
      "7841f7b6562b4244976ca375b2679dc3",
      "2ed7c39fe485456f8f1ddf5f8ccd4c22",
      "7910d4eefd544853941edf9831dc56fa",
      "f389ab18fe514dc596ada41d55410fe3",
      "4d5f812ab4734418964fce68dbe22247",
      "1b212bb21a1f48f6865b47f9beb9e053",
      "1b008a9cef4c4103980c9c8b6edeb467",
      "e2c2965a5a374c70b0096a2a124594dc",
      "1ed6c4e39ebd4d31bf638b0e5e98a991",
      "5442760d3b744c128c79a9807835a34b",
      "3a63660bd3414e6082a7eae9fa0b918b",
      "70fad164a07d49aa865ccffba723e81b",
      "64db578a97f6456fb3957da4ec84a357",
      "0208dda790474be9889dce6609f4869a",
      "9077939c51c247e997870cb7d33e53a6",
      "8bf803f2dc674b3497d35e7a66bd967d",
      "fbc611c57c16471fbb8be475b5a3ec29",
      "b950186e6e5a4e8998d06780e5f6bf81",
      "b09420d82f2e498f9c65c82b63ee7230",
      "2e105f398816446cb92ad79a02a97078",
      "da21fe5670154a2c9bb0bb69428d9f22",
      "829f37da54b44fe3a92c256b7ddf1b59",
      "bc7a62285ce042de8a86ba7438ce26ee",
      "8e9b9505de9047e9bd02011a1aaeedc7",
      "afb9fc2e884840888a1b9f232c50818c",
      "28663ea4d12c46d98c27b04a0731c2e5",
      "ce6df4f1eba3443eb17a5a64cb7d7f3d",
      "ab4bde5d1e3e4527815a861a2a32e6cc",
      "6a89299622c24388ab048b1fab740e37",
      "d08c2925f6f443bfb152e34fe711a7aa",
      "31b97c67b7774700902fd37c9ad0d951",
      "f7c7707cbdab492db16250a5b6b98dd0",
      "93d16eae9c15491592d4ab55427b0880"
     ]
    },
    "execution": {
     "iopub.execute_input": "2025-06-19T06:58:14.001291Z",
     "iopub.status.busy": "2025-06-19T06:58:14.00104Z",
     "iopub.status.idle": "2025-06-19T06:58:17.092354Z",
     "shell.execute_reply": "2025-06-19T06:58:17.091457Z",
     "shell.execute_reply.started": "2025-06-19T06:58:14.001271Z"
    },
    "id": "pyDRo3msAnEv",
    "outputId": "30844e68-7436-4e5e-d64f-906f1a3522c0"
   },
   "outputs": [
    {
     "data": {
      "application/vnd.jupyter.widget-view+json": {
       "model_id": "3e9e61e473b44321996362852e1fa2b0",
       "version_major": 2,
       "version_minor": 0
      },
      "text/plain": [
       "tokenizer_config.json:   0%|          | 0.00/48.0 [00:00<?, ?B/s]"
      ]
     },
     "metadata": {},
     "output_type": "display_data"
    },
    {
     "data": {
      "application/vnd.jupyter.widget-view+json": {
       "model_id": "cfa6ff80eccf4cea9c7eb969a0ce40f6",
       "version_major": 2,
       "version_minor": 0
      },
      "text/plain": [
       "config.json:   0%|          | 0.00/570 [00:00<?, ?B/s]"
      ]
     },
     "metadata": {},
     "output_type": "display_data"
    },
    {
     "data": {
      "application/vnd.jupyter.widget-view+json": {
       "model_id": "7841f7b6562b4244976ca375b2679dc3",
       "version_major": 2,
       "version_minor": 0
      },
      "text/plain": [
       "vocab.txt:   0%|          | 0.00/232k [00:00<?, ?B/s]"
      ]
     },
     "metadata": {},
     "output_type": "display_data"
    },
    {
     "data": {
      "application/vnd.jupyter.widget-view+json": {
       "model_id": "70fad164a07d49aa865ccffba723e81b",
       "version_major": 2,
       "version_minor": 0
      },
      "text/plain": [
       "tokenizer.json:   0%|          | 0.00/466k [00:00<?, ?B/s]"
      ]
     },
     "metadata": {},
     "output_type": "display_data"
    },
    {
     "data": {
      "application/vnd.jupyter.widget-view+json": {
       "model_id": "bc7a62285ce042de8a86ba7438ce26ee",
       "version_major": 2,
       "version_minor": 0
      },
      "text/plain": [
       "model.safetensors:   0%|          | 0.00/440M [00:00<?, ?B/s]"
      ]
     },
     "metadata": {},
     "output_type": "display_data"
    },
    {
     "name": "stderr",
     "output_type": "stream",
     "text": [
      "Some weights of BertForSequenceClassification were not initialized from the model checkpoint at google-bert/bert-base-uncased and are newly initialized: ['classifier.bias', 'classifier.weight']\n",
      "You should probably TRAIN this model on a down-stream task to be able to use it for predictions and inference.\n"
     ]
    }
   ],
   "source": [
    "model_path = \"google-bert/bert-base-uncased\"\n",
    "tokenizer = AutoTokenizer.from_pretrained(model_path)\n",
    "\n",
    "# load model with binary classification head\n",
    "id2label = {0: \"Fake\", 1: \"Real\"}\n",
    "label2id = {\"Fake\": 0, \"Real\": 1}\n",
    "model = AutoModelForSequenceClassification.from_pretrained(model_path,\n",
    "                                                           num_labels=2,\n",
    "                                                           id2label=id2label,\n",
    "                                                           label2id=label2id,)"
   ]
  },
  {
   "cell_type": "code",
   "execution_count": 43,
   "metadata": {
    "execution": {
     "iopub.execute_input": "2025-06-19T06:58:17.093679Z",
     "iopub.status.busy": "2025-06-19T06:58:17.093374Z",
     "iopub.status.idle": "2025-06-19T06:58:17.100041Z",
     "shell.execute_reply": "2025-06-19T06:58:17.099Z",
     "shell.execute_reply.started": "2025-06-19T06:58:17.093652Z"
    },
    "id": "P0bzEa_YAnEv"
   },
   "outputs": [],
   "source": [
    "# Freeze all\n",
    "for param in model.bert.parameters():\n",
    "    param.requires_grad = False\n",
    "\n",
    "# Unfreeze last 2 encoder layers\n",
    "for param in model.bert.encoder.layer[-2:].parameters():\n",
    "    param.requires_grad = True\n"
   ]
  },
  {
   "cell_type": "code",
   "execution_count": 44,
   "metadata": {
    "colab": {
     "base_uri": "https://localhost:8080/"
    },
    "execution": {
     "iopub.execute_input": "2025-06-19T06:58:17.101704Z",
     "iopub.status.busy": "2025-06-19T06:58:17.101349Z",
     "iopub.status.idle": "2025-06-19T06:58:17.12237Z",
     "shell.execute_reply": "2025-06-19T06:58:17.121345Z",
     "shell.execute_reply.started": "2025-06-19T06:58:17.101675Z"
    },
    "id": "UBqH2wJpAnEv",
    "outputId": "c30ccfbd-26cd-4660-e576-a35e584bb29c"
   },
   "outputs": [
    {
     "name": "stdout",
     "output_type": "stream",
     "text": [
      "Dataset({\n",
      "    features: ['label', 'Content', '__index_level_0__'],\n",
      "    num_rows: 63081\n",
      "})\n",
      "['label', 'Content', '__index_level_0__']\n"
     ]
    }
   ],
   "source": [
    "print(DF_dataset)\n",
    "print(DF_dataset.column_names)\n"
   ]
  },
  {
   "cell_type": "code",
   "execution_count": null,
   "metadata": {
    "colab": {
     "base_uri": "https://localhost:8080/",
     "height": 49,
     "referenced_widgets": [
      "33a03451452c46ae93f253f5f0e5fa1b",
      "60d5701d0b344ac49b5b2921a364bcba",
      "60b787cc40a440a5bec38d6c775cac6b",
      "a2e17c4dab624b8e87a64f36f5f986cd",
      "0c05b0fe5c0044bfbff3ba0e0538ba96",
      "84fb1d543cd145c8a8319d5a578e2a53",
      "9c48a7203333416199092b25e85c5054",
      "bd95c5fa750f4aa99ea3ead472b8ea76",
      "bb9555cb4dd343e79a3f9d13c854da59",
      "39260fb11efe4723bbce1013393713e5",
      "b2802720f3db44e5ba5364e7bd62dc24"
     ]
    },
    "execution": {
     "iopub.execute_input": "2025-06-19T06:58:17.123707Z",
     "iopub.status.busy": "2025-06-19T06:58:17.123385Z",
     "iopub.status.idle": "2025-06-19T06:59:57.746209Z",
     "shell.execute_reply": "2025-06-19T06:59:57.745475Z",
     "shell.execute_reply.started": "2025-06-19T06:58:17.123679Z"
    },
    "id": "c46if561AnEv",
    "outputId": "041997b1-6589-4628-9747-d07e316468aa"
   },
   "outputs": [
    {
     "data": {
      "application/vnd.jupyter.widget-view+json": {
       "model_id": "33a03451452c46ae93f253f5f0e5fa1b",
       "version_major": 2,
       "version_minor": 0
      },
      "text/plain": [
       "Map:   0%|          | 0/63081 [00:00<?, ? examples/s]"
      ]
     },
     "metadata": {},
     "output_type": "display_data"
    }
   ],
   "source": [
    "def preprocess_function(examples):\n",
    "    texts = examples[\"Content\"]\n",
    "    # Ensure all elements are strings\n",
    "    texts = [str(t) if t is not None else \"\" for t in texts]\n",
    "    return tokenizer(texts, truncation=True, padding=True, max_length=512)\n",
    "\n",
    "# preprocess all datasets\n",
    "tokenized_data = DF_dataset.map(preprocess_function, batched=True)"
   ]
  },
  {
   "cell_type": "code",
   "execution_count": 19,
   "metadata": {
    "execution": {
     "iopub.execute_input": "2025-06-19T06:59:57.747435Z",
     "iopub.status.busy": "2025-06-19T06:59:57.747129Z",
     "iopub.status.idle": "2025-06-19T06:59:57.751827Z",
     "shell.execute_reply": "2025-06-19T06:59:57.750927Z",
     "shell.execute_reply.started": "2025-06-19T06:59:57.747405Z"
    },
    "id": "7-SLrnk6AnEv"
   },
   "outputs": [],
   "source": [
    "data_collator = DataCollatorWithPadding(tokenizer=tokenizer)\n"
   ]
  },
  {
   "cell_type": "code",
   "execution_count": 20,
   "metadata": {
    "execution": {
     "iopub.execute_input": "2025-06-19T06:59:57.753857Z",
     "iopub.status.busy": "2025-06-19T06:59:57.752892Z",
     "iopub.status.idle": "2025-06-19T06:59:57.782871Z",
     "shell.execute_reply": "2025-06-19T06:59:57.781951Z",
     "shell.execute_reply.started": "2025-06-19T06:59:57.753837Z"
    },
    "id": "Ncbcc5ubAnEv"
   },
   "outputs": [],
   "source": [
    "from transformers import TrainingArguments\n",
    "\n",
    "training_args = TrainingArguments(\n",
    "    output_dir=\"/content/drive/MyDrive/my_bert_model\",  # ✅ Save checkpoints to Drive\n",
    "    eval_strategy=\"epoch\",                        # ✅ Corrected key name\n",
    "    save_strategy=\"epoch\",\n",
    "    learning_rate=2e-5,\n",
    "    per_device_train_batch_size=8,\n",
    "    per_device_eval_batch_size=8,\n",
    "    num_train_epochs=5,\n",
    "    weight_decay=0.01,\n",
    "    warmup_ratio=0.1,\n",
    "    load_best_model_at_end=True,\n",
    "    metric_for_best_model=\"eval_accuracy\",              # ✅ Matches lowercase metric\n",
    "    greater_is_better=True,\n",
    "    logging_steps=50,\n",
    "    save_total_limit=2,\n",
    "    disable_tqdm=False,\n",
    "    report_to=None,\n",
    "    fp16=True  # ✅ (Optional: mixed-precision for faster training on GPU)\n",
    ")\n"
   ]
  },
  {
   "cell_type": "code",
   "execution_count": 21,
   "metadata": {
    "colab": {
     "base_uri": "https://localhost:8080/"
    },
    "execution": {
     "iopub.execute_input": "2025-06-19T06:59:57.784288Z",
     "iopub.status.busy": "2025-06-19T06:59:57.783973Z",
     "iopub.status.idle": "2025-06-19T06:59:57.789181Z",
     "shell.execute_reply": "2025-06-19T06:59:57.788397Z",
     "shell.execute_reply.started": "2025-06-19T06:59:57.784263Z"
    },
    "id": "2hXXpp06AnEw",
    "outputId": "364abf20-482a-491e-c45c-f5401190cacc"
   },
   "outputs": [
    {
     "name": "stdout",
     "output_type": "stream",
     "text": [
      "Transformers version: 4.52.4\n"
     ]
    }
   ],
   "source": [
    "import transformers\n",
    "print(f\"Transformers version: {transformers.__version__}\")"
   ]
  },
  {
   "cell_type": "code",
   "execution_count": 22,
   "metadata": {
    "execution": {
     "iopub.execute_input": "2025-06-19T06:59:57.79021Z",
     "iopub.status.busy": "2025-06-19T06:59:57.789957Z",
     "iopub.status.idle": "2025-06-19T06:59:57.826152Z",
     "shell.execute_reply": "2025-06-19T06:59:57.82518Z",
     "shell.execute_reply.started": "2025-06-19T06:59:57.790191Z"
    },
    "id": "D3R_xuucAnEw"
   },
   "outputs": [],
   "source": [
    "# 80% train, 20% test\n",
    "train_test = tokenized_data.train_test_split(test_size=0.2, seed=42)\n"
   ]
  },
  {
   "cell_type": "code",
   "execution_count": 23,
   "metadata": {
    "execution": {
     "iopub.execute_input": "2025-06-19T06:59:57.82753Z",
     "iopub.status.busy": "2025-06-19T06:59:57.827214Z",
     "iopub.status.idle": "2025-06-19T06:59:57.844454Z",
     "shell.execute_reply": "2025-06-19T06:59:57.843779Z",
     "shell.execute_reply.started": "2025-06-19T06:59:57.827502Z"
    },
    "id": "JaAp_JQZAnEw"
   },
   "outputs": [],
   "source": [
    "# Split the 20% test into half validation, half test => 10% val, 10% test\n",
    "val_test = train_test['test'].train_test_split(test_size=0.5, seed=42)\n"
   ]
  },
  {
   "cell_type": "code",
   "execution_count": 24,
   "metadata": {
    "execution": {
     "iopub.execute_input": "2025-06-19T06:59:57.846228Z",
     "iopub.status.busy": "2025-06-19T06:59:57.845335Z",
     "iopub.status.idle": "2025-06-19T06:59:57.85018Z",
     "shell.execute_reply": "2025-06-19T06:59:57.849236Z",
     "shell.execute_reply.started": "2025-06-19T06:59:57.846203Z"
    },
    "id": "bLjuQ5ZEAnEw"
   },
   "outputs": [],
   "source": [
    "# Combine all splits into a DatasetDict\n",
    "final_dataset = DatasetDict({\n",
    "    'train': train_test['train'],\n",
    "    'validation': val_test['train'],\n",
    "    'test': val_test['test']\n",
    "})\n"
   ]
  },
  {
   "cell_type": "code",
   "execution_count": 99,
   "metadata": {
    "colab": {
     "base_uri": "https://localhost:8080/"
    },
    "id": "eN8F9OGK__Xr",
    "outputId": "6aeed7c1-dda2-40be-e813-a202ada0e6cb"
   },
   "outputs": [
    {
     "data": {
      "text/plain": [
       "7213"
      ]
     },
     "execution_count": 99,
     "metadata": {},
     "output_type": "execute_result"
    }
   ],
   "source": [
    "len(final_dataset[\"validation\"])"
   ]
  },
  {
   "cell_type": "code",
   "execution_count": 97,
   "metadata": {
    "colab": {
     "base_uri": "https://localhost:8080/"
    },
    "id": "8-IqRcTQAcbI",
    "outputId": "75b320cb-79a5-403a-adbf-38d18b9e4e29"
   },
   "outputs": [
    {
     "name": "stdout",
     "output_type": "stream",
     "text": [
      "🔍 Overlapping samples: 1299\n"
     ]
    }
   ],
   "source": [
    "# Convert to sets of strings for easy comparison\n",
    "train_texts = set(final_dataset[\"train\"][\"Content\"])\n",
    "val_texts = set(final_dataset[\"validation\"][\"Content\"])\n",
    "\n",
    "# Find common entries\n",
    "overlap = train_texts.intersection(val_texts)\n",
    "print(f\"🔍 Overlapping samples: {len(overlap)}\")\n"
   ]
  },
  {
   "cell_type": "code",
   "execution_count": 25,
   "metadata": {
    "colab": {
     "base_uri": "https://localhost:8080/"
    },
    "execution": {
     "iopub.execute_input": "2025-06-19T06:59:57.851475Z",
     "iopub.status.busy": "2025-06-19T06:59:57.851217Z",
     "iopub.status.idle": "2025-06-19T06:59:57.86599Z",
     "shell.execute_reply": "2025-06-19T06:59:57.86518Z",
     "shell.execute_reply.started": "2025-06-19T06:59:57.851457Z"
    },
    "id": "ytXgP-jfAnEw",
    "outputId": "49dd3341-06c7-40a0-9ff1-3653d5aa1cdb"
   },
   "outputs": [
    {
     "name": "stdout",
     "output_type": "stream",
     "text": [
      "✅ tqdm is ready!\n"
     ]
    }
   ],
   "source": [
    "from tqdm.auto import tqdm\n",
    "print(\"✅ tqdm is ready!\")\n"
   ]
  },
  {
   "cell_type": "code",
   "execution_count": 26,
   "metadata": {
    "colab": {
     "base_uri": "https://localhost:8080/",
     "height": 84,
     "referenced_widgets": [
      "2d141f53ab064c43bd2c0ea277e42115",
      "3f387f6f14154bdfbf6d1af61b85a491",
      "d7e792369393432f88aaa05828384515",
      "76698c7d14994c5383017aca654c9704",
      "87131c4ff8d64dc380bd5603a5665a81",
      "f7f2c3de80b14261b2767677b4b6f37b",
      "c385b1d555b54b4994ecf7fc3ab943d6",
      "c65b9dec2bbf456ab15fb65a2f938f46",
      "b7732cdd673f4df9936fff1e4e65bf07",
      "c19843d5182146a5aa5f1e2002ac9975",
      "f1a49f47ad544b81afe9f5e111603a53"
     ]
    },
    "execution": {
     "iopub.execute_input": "2025-06-19T06:59:57.866976Z",
     "iopub.status.busy": "2025-06-19T06:59:57.866751Z",
     "iopub.status.idle": "2025-06-19T06:59:58.906201Z",
     "shell.execute_reply": "2025-06-19T06:59:58.905173Z",
     "shell.execute_reply.started": "2025-06-19T06:59:57.866951Z"
    },
    "id": "c8VMIL3ZAnEw",
    "outputId": "b7a9c96f-1020-4da1-d6ef-060faf9f1895"
   },
   "outputs": [
    {
     "name": "stdout",
     "output_type": "stream",
     "text": [
      "Testing progress bar...\n"
     ]
    },
    {
     "data": {
      "application/vnd.jupyter.widget-view+json": {
       "model_id": "2d141f53ab064c43bd2c0ea277e42115",
       "version_major": 2,
       "version_minor": 0
      },
      "text/plain": [
       "Test:   0%|          | 0/10 [00:00<?, ?it/s]"
      ]
     },
     "metadata": {},
     "output_type": "display_data"
    },
    {
     "name": "stdout",
     "output_type": "stream",
     "text": [
      "✅ Progress bar working!\n"
     ]
    }
   ],
   "source": [
    "# Quick test to see if progress bars work\n",
    "from tqdm.auto import tqdm\n",
    "import time\n",
    "\n",
    "print(\"Testing progress bar...\")\n",
    "for i in tqdm(range(10), desc=\"Test\"):\n",
    "    time.sleep(0.1)\n",
    "print(\"✅ Progress bar working!\")"
   ]
  },
  {
   "cell_type": "code",
   "execution_count": 27,
   "metadata": {
    "colab": {
     "base_uri": "https://localhost:8080/",
     "height": 442
    },
    "execution": {
     "iopub.execute_input": "2025-06-19T07:01:46.619754Z",
     "iopub.status.busy": "2025-06-19T07:01:46.619397Z"
    },
    "id": "heZNQF5aAnEw",
    "outputId": "cddd4af4-d278-46d6-e28e-b85506c4f94f"
   },
   "outputs": [
    {
     "name": "stderr",
     "output_type": "stream",
     "text": [
      "/tmp/ipython-input-27-701422774.py:4: FutureWarning: `tokenizer` is deprecated and will be removed in version 5.0.0 for `Trainer.__init__`. Use `processing_class` instead.\n",
      "  trainer = Trainer(\n"
     ]
    },
    {
     "name": "stdout",
     "output_type": "stream",
     "text": [
      "🚀 Starting training with progress bars...\n"
     ]
    },
    {
     "name": "stderr",
     "output_type": "stream",
     "text": [
      "\u001b[34m\u001b[1mwandb\u001b[0m: \u001b[33mWARNING\u001b[0m The `run_name` is currently set to the same value as `TrainingArguments.output_dir`. If this was not intended, please specify a different run name by setting the `TrainingArguments.run_name` parameter.\n"
     ]
    },
    {
     "data": {
      "application/javascript": [
       "\n",
       "        window._wandbApiKey = new Promise((resolve, reject) => {\n",
       "            function loadScript(url) {\n",
       "            return new Promise(function(resolve, reject) {\n",
       "                let newScript = document.createElement(\"script\");\n",
       "                newScript.onerror = reject;\n",
       "                newScript.onload = resolve;\n",
       "                document.body.appendChild(newScript);\n",
       "                newScript.src = url;\n",
       "            });\n",
       "            }\n",
       "            loadScript(\"https://cdn.jsdelivr.net/npm/postmate/build/postmate.min.js\").then(() => {\n",
       "            const iframe = document.createElement('iframe')\n",
       "            iframe.style.cssText = \"width:0;height:0;border:none\"\n",
       "            document.body.appendChild(iframe)\n",
       "            const handshake = new Postmate({\n",
       "                container: iframe,\n",
       "                url: 'https://wandb.ai/authorize'\n",
       "            });\n",
       "            const timeout = setTimeout(() => reject(\"Couldn't auto authenticate\"), 5000)\n",
       "            handshake.then(function(child) {\n",
       "                child.on('authorize', data => {\n",
       "                    clearTimeout(timeout)\n",
       "                    resolve(data)\n",
       "                });\n",
       "            });\n",
       "            })\n",
       "        });\n",
       "    "
      ],
      "text/plain": [
       "<IPython.core.display.Javascript object>"
      ]
     },
     "metadata": {},
     "output_type": "display_data"
    },
    {
     "name": "stderr",
     "output_type": "stream",
     "text": [
      "\u001b[34m\u001b[1mwandb\u001b[0m: Logging into wandb.ai. (Learn how to deploy a W&B server locally: https://wandb.me/wandb-server)\n",
      "\u001b[34m\u001b[1mwandb\u001b[0m: You can find your API key in your browser here: https://wandb.ai/authorize?ref=models\n",
      "wandb: Paste an API key from your profile and hit enter:"
     ]
    },
    {
     "name": "stdout",
     "output_type": "stream",
     "text": [
      " ··········\n"
     ]
    },
    {
     "name": "stderr",
     "output_type": "stream",
     "text": [
      "\u001b[34m\u001b[1mwandb\u001b[0m: \u001b[33mWARNING\u001b[0m If you're specifying your api key in code, ensure this code is not shared publicly.\n",
      "\u001b[34m\u001b[1mwandb\u001b[0m: \u001b[33mWARNING\u001b[0m Consider setting the WANDB_API_KEY environment variable, or running `wandb login` from the command line.\n",
      "\u001b[34m\u001b[1mwandb\u001b[0m: No netrc file found, creating one.\n",
      "\u001b[34m\u001b[1mwandb\u001b[0m: Appending key for api.wandb.ai to your netrc file: /root/.netrc\n",
      "\u001b[34m\u001b[1mwandb\u001b[0m: Currently logged in as: \u001b[33mvaibhavbarala8\u001b[0m (\u001b[33mvaibhavbarala8-iit\u001b[0m) to \u001b[32mhttps://api.wandb.ai\u001b[0m. Use \u001b[1m`wandb login --relogin`\u001b[0m to force relogin\n"
     ]
    },
    {
     "data": {
      "text/html": [
       "Tracking run with wandb version 0.20.1"
      ],
      "text/plain": [
       "<IPython.core.display.HTML object>"
      ]
     },
     "metadata": {},
     "output_type": "display_data"
    },
    {
     "data": {
      "text/html": [
       "Run data is saved locally in <code>/content/wandb/run-20250619_154312-twm8h7ru</code>"
      ],
      "text/plain": [
       "<IPython.core.display.HTML object>"
      ]
     },
     "metadata": {},
     "output_type": "display_data"
    },
    {
     "data": {
      "text/html": [
       "Syncing run <strong><a href='https://wandb.ai/vaibhavbarala8-iit/huggingface/runs/twm8h7ru' target=\"_blank\">/content/drive/MyDrive/my_bert_model</a></strong> to <a href='https://wandb.ai/vaibhavbarala8-iit/huggingface' target=\"_blank\">Weights & Biases</a> (<a href='https://wandb.me/developer-guide' target=\"_blank\">docs</a>)<br>"
      ],
      "text/plain": [
       "<IPython.core.display.HTML object>"
      ]
     },
     "metadata": {},
     "output_type": "display_data"
    },
    {
     "data": {
      "text/html": [
       " View project at <a href='https://wandb.ai/vaibhavbarala8-iit/huggingface' target=\"_blank\">https://wandb.ai/vaibhavbarala8-iit/huggingface</a>"
      ],
      "text/plain": [
       "<IPython.core.display.HTML object>"
      ]
     },
     "metadata": {},
     "output_type": "display_data"
    },
    {
     "data": {
      "text/html": [
       " View run at <a href='https://wandb.ai/vaibhavbarala8-iit/huggingface/runs/twm8h7ru' target=\"_blank\">https://wandb.ai/vaibhavbarala8-iit/huggingface/runs/twm8h7ru</a>"
      ],
      "text/plain": [
       "<IPython.core.display.HTML object>"
      ]
     },
     "metadata": {},
     "output_type": "display_data"
    },
    {
     "data": {
      "text/html": [
       "\n",
       "    <div>\n",
       "      \n",
       "      <progress value='36070' max='36070' style='width:300px; height:20px; vertical-align: middle;'></progress>\n",
       "      [36070/36070 : < :, Epoch 5/5]\n",
       "    </div>\n",
       "    <table border=\"1\" class=\"dataframe\">\n",
       "  <thead>\n",
       " <tr style=\"text-align: left;\">\n",
       "      <th>Epoch</th>\n",
       "      <th>Training Loss</th>\n",
       "      <th>Validation Loss</th>\n",
       "    </tr>\n",
       "  </thead>\n",
       "  <tbody>\n",
       "  </tbody>\n",
       "</table><p>"
      ],
      "text/plain": [
       "<IPython.core.display.HTML object>"
      ]
     },
     "metadata": {},
     "output_type": "display_data"
    },
    {
     "data": {
      "text/plain": [
       "TrainOutput(global_step=36070, training_loss=0.0, metrics={'train_runtime': 43.2989, 'train_samples_per_second': 6663.794, 'train_steps_per_second': 833.046, 'total_flos': 7.59167483582976e+16, 'train_loss': 0.0, 'epoch': 5.0})"
      ]
     },
     "execution_count": 27,
     "metadata": {},
     "output_type": "execute_result"
    }
   ],
   "source": [
    "from transformers import EarlyStoppingCallback\n",
    "# Create final dataset\n",
    "\n",
    "trainer = Trainer(\n",
    "    model=model,\n",
    "    args=training_args,\n",
    "    train_dataset=final_dataset[\"train\"],\n",
    "    eval_dataset=final_dataset[\"validation\"],\n",
    "    tokenizer=tokenizer,\n",
    "    data_collator=data_collator,\n",
    "    compute_metrics=compute_metrics,\n",
    "    callbacks=[EarlyStoppingCallback(early_stopping_patience=2)],  # ✅ Stops if no improvement for 2 evals\n",
    ")\n",
    "\n",
    "\n",
    "# Start training - should now show progress bars!\n",
    "print(\"🚀 Starting training with progress bars...\")\n",
    "trainer.train(resume_from_checkpoint=True)"
   ]
  },
  {
   "cell_type": "code",
   "execution_count": 27,
   "metadata": {
    "id": "JbqbZZQiuTMj"
   },
   "outputs": [],
   "source": []
  },
  {
   "cell_type": "code",
   "execution_count": 28,
   "metadata": {
    "colab": {
     "base_uri": "https://localhost:8080/"
    },
    "id": "z66jvngcAnEx",
    "outputId": "bb57f6fb-1fa9-46da-c743-37d793e2df67"
   },
   "outputs": [
    {
     "name": "stdout",
     "output_type": "stream",
     "text": [
      "Saving model...\n",
      "Training completed!\n",
      "Best model and tokenizer saved in: /content/drive/MyDrive/my_bert_model/final_model\n"
     ]
    }
   ],
   "source": [
    "# ✅ Final model save path in Drive\n",
    "final_save_path = f\"{training_args.output_dir}/final_model\"\n",
    "\n",
    "print(\"Saving model...\")\n",
    "trainer.save_model(final_save_path)\n",
    "tokenizer.save_pretrained(final_save_path)\n",
    "\n",
    "print(\"Training completed!\")\n",
    "print(f\"Best model and tokenizer saved in: {final_save_path}\")\n",
    "\n",
    "# Optional: Evaluate on test set\n"
   ]
  },
  {
   "cell_type": "code",
   "execution_count": 29,
   "metadata": {
    "id": "uoIRgh97ooPS"
   },
   "outputs": [],
   "source": [
    "#trainer.train(resume_from_checkpoint=True)"
   ]
  },
  {
   "cell_type": "code",
   "execution_count": 71,
   "metadata": {
    "colab": {
     "base_uri": "https://localhost:8080/"
    },
    "id": "8af48jDG87u8",
    "outputId": "ba8520a0-ec3c-4783-8a63-f72fa1253631"
   },
   "outputs": [
    {
     "data": {
      "text/plain": [
       "Dataset({\n",
       "    features: ['label', 'Content', 'input_ids', 'token_type_ids', 'attention_mask'],\n",
       "    num_rows: 7214\n",
       "})"
      ]
     },
     "execution_count": 71,
     "metadata": {},
     "output_type": "execute_result"
    }
   ],
   "source": [
    "final_dataset[\"test\"]"
   ]
  },
  {
   "cell_type": "code",
   "execution_count": 72,
   "metadata": {
    "colab": {
     "base_uri": "https://localhost:8080/",
     "height": 176
    },
    "id": "_mEWYx6gyE2c",
    "outputId": "aae3800b-a1c9-498b-9ce6-7eb197e03069"
   },
   "outputs": [
    {
     "data": {
      "text/html": [
       "\n",
       "    <div>\n",
       "      \n",
       "      <progress value='2649' max='902' style='width:300px; height:20px; vertical-align: middle;'></progress>\n",
       "      [902/902 23:05]\n",
       "    </div>\n",
       "    "
      ],
      "text/plain": [
       "<IPython.core.display.HTML object>"
      ]
     },
     "metadata": {},
     "output_type": "display_data"
    },
    {
     "name": "stdout",
     "output_type": "stream",
     "text": [
      "📊 Evaluation Results:\n",
      "eval_loss: 0.0204\n",
      "eval_accuracy: 0.9960\n",
      "eval_auc: 1.0000\n",
      "eval_runtime: 59.4367\n",
      "eval_samples_per_second: 121.3730\n",
      "eval_steps_per_second: 15.1760\n",
      "epoch: 5.0000\n"
     ]
    }
   ],
   "source": [
    "# Evaluate on validation set (or test set if you have one)\n",
    "eval_results = trainer.evaluate(eval_dataset=final_dataset[\"test\"])\n",
    "\n",
    "print(\"📊 Evaluation Results:\")\n",
    "for key, value in eval_results.items():\n",
    "    print(f\"{key}: {value:.4f}\")\n"
   ]
  },
  {
   "cell_type": "code",
   "execution_count": 40,
   "metadata": {
    "id": "ZHegXryS36an"
   },
   "outputs": [],
   "source": [
    "DF_test = pd.read_csv(\"./news_dataset.csv\")"
   ]
  },
  {
   "cell_type": "code",
   "execution_count": 41,
   "metadata": {
    "colab": {
     "base_uri": "https://localhost:8080/",
     "height": 147
    },
    "id": "DhN6PDXH57RO",
    "outputId": "c04b565a-f76b-4bb6-e500-1b3a058062d7"
   },
   "outputs": [
    {
     "data": {
      "text/html": [
       "<div>\n",
       "<style scoped>\n",
       "    .dataframe tbody tr th:only-of-type {\n",
       "        vertical-align: middle;\n",
       "    }\n",
       "\n",
       "    .dataframe tbody tr th {\n",
       "        vertical-align: top;\n",
       "    }\n",
       "\n",
       "    .dataframe thead th {\n",
       "        text-align: right;\n",
       "    }\n",
       "</style>\n",
       "<table border=\"1\" class=\"dataframe\">\n",
       "  <thead>\n",
       "    <tr style=\"text-align: right;\">\n",
       "      <th></th>\n",
       "      <th>0</th>\n",
       "    </tr>\n",
       "  </thead>\n",
       "  <tbody>\n",
       "    <tr>\n",
       "      <th>label</th>\n",
       "      <td>0</td>\n",
       "    </tr>\n",
       "    <tr>\n",
       "      <th>text</th>\n",
       "      <td>8</td>\n",
       "    </tr>\n",
       "  </tbody>\n",
       "</table>\n",
       "</div><br><label><b>dtype:</b> int64</label>"
      ],
      "text/plain": [
       "label    0\n",
       "text     8\n",
       "dtype: int64"
      ]
     },
     "execution_count": 41,
     "metadata": {},
     "output_type": "execute_result"
    }
   ],
   "source": [
    "DF_test.isna().sum()"
   ]
  },
  {
   "cell_type": "code",
   "execution_count": 42,
   "metadata": {
    "colab": {
     "base_uri": "https://localhost:8080/",
     "height": 423
    },
    "id": "BCRGHfWz58MD",
    "outputId": "d61dc602-3cc6-4684-cd26-e686657ddf21"
   },
   "outputs": [
    {
     "data": {
      "application/vnd.google.colaboratory.intrinsic+json": {
       "summary": "{\n  \"name\": \"DF_test\",\n  \"rows\": 3721,\n  \"fields\": [\n    {\n      \"column\": \"label\",\n      \"properties\": {\n        \"dtype\": \"category\",\n        \"num_unique_values\": 2,\n        \"samples\": [\n          \"FAKE\",\n          \"REAL\"\n        ],\n        \"semantic_type\": \"\",\n        \"description\": \"\"\n      }\n    },\n    {\n      \"column\": \"text\",\n      \"properties\": {\n        \"dtype\": \"string\",\n        \"num_unique_values\": 2229,\n        \"samples\": [\n          \"NEW DELHI: Hong Kong has again asked Air India not to operate flights there for two weeks starting Sunday (September 20). Like the first suspension last month , this time also the reason is significant number of passengers from India testing positive on arrival in Hong Kong.\\u201cHong Kong civil aviation authority has advised AI not to operate for two weeks from till October 3. Only one flight was scheduled to operate in this period \\u2014 Delhi-Hong Kong on Monday (September 21) which has been cancelled and passengers informed,\\u201d said a senior AI official.Last month also Hong Kong had barred Air India flights for two weeks after 11 passengers who flew in there from Delhi on August 14 had tested positive on arrival. Cathay Pacific is not operating to India during the pandemic.Chinese media reports Hong Kong has temporarily suspended Cathay Dragon (Cathay\\u2019s regional arm) flights on Kuala Lumpur route. Five people flew AI Express to Malaysia and then took a connecting flight to Hong Kong, where they tested positive on arrival, according to those reports.Last week Dubai aviation authorities had decided to suspend AI Express operations to the city for 15 days after the budget airline twice flew passengers with Covid positive reports there from India. Following an apology from AI Express and assurance that the same will not happen again, Dubai Civil Aviation Authority revoked this suspension.Last Friday, the airline\\u2019s spokesperson had said: \\u201cWe have apologised for the two lapses to Dubai authorities and assured them of putting in place multi-level strict checks to ensure the same does not get repeated. (Accordingly) all AI Express flights from and to Dubai will operate as per original schedule from Saturday (September 19).\\u201d\",\n          \"An edited image of Prime Minister Narendra Modi bowing in front of Chinese President Xi Jinping with folded hands is being shared on social media. The image is doctored to include the Indian prime minister photographed in such a gesture.\\n\\nThe photograph has gone viral in the aftermath of the June 15 clash between the Indian and Chinese troops in the Galwan valley of the eastern Ladakh region of the Line of Actual Control, which led to the death of 20 Indian soldiers. The casualties on the Chinese side are not yet known.\\n\\nThe image has been shared on Twitter and Facebook with a similar narrative.\\n\\nSaughand mujhe is mitti ki.... pic.twitter.com/OG0T5koQLR \\u2014 Sanghamitra (@AudaciousQuest) June 20, 2020\\n\\nThe archives can be found here, here and here.\\n\\nAlso Read: Randeep Surjewala Peddles Old Clips Of India-China Clashes As Recent\\n\\nThe morphed photograph was earlier tweeted by an Indian National Congress party member and a spokesperson Devashish Jarariya claiming that PM Modi 'made this image real.'\\n\\nAfter the all-party meeting, that was convened by prime minister Narendra Modi, to discuss the issue of the India China face off on June 19, questions were raised about PM Modi's concluding remarks about \\\"India not losing any territory to China in recent months.\\\" This led to the opposition questioning the government as to what led to the clash between Indian and Chinese forces on June 15. A clarification was later issued by the Prime Minister's Office about 'the mischievous interpretation of PM's statement.'\\n\\n\\n\\nFact check\\n\\nBOOM ran a reverse image search on the photograph and found this PTI photo taken during Modi and Xi Jinping's 2019 meeting at Mamallapuram. The Hindu also published the photo in an article describing Modi and Xi Jinping's Mamallapuram visit.\\n\\n\\n\\n\\n\\nIn the original image, the Indian Prime Minister can be seen interacting with Xi Jinping while security guards stand behind them.\\n\\nBelow is an image comparison of the morphed image (left) and the original image (right).\\n\\n\\n\\n\\n\\nAlso Read: No This Photo Is Not Of Indian Troops Killed In Galwan Valley\\n\\nThe image of PM Modi bowing with folded hands is originally from 2014, where he was exchanging greetings with the then Mayor of Tumkur, Geeta Rudresh in the airport. BOOM found a cached version of a 2014 article in Vijay Karnataka which featured the image. The article reported that the prime minister had visited Tumkur to inaugurate the India Food Park.\\n\\nThe same image was fact-checked by BOOM Hindi earlier. Social media posts had then falsely claimed that PM Modi was pictured bowing to industrialist Gautam Adani's wife, Priti Adani.\\n\\nBOOM has fact-checked various other claims in the aftermath of the Galwan Valley clash which can be read here.\\n\\n\"\n        ],\n        \"semantic_type\": \"\",\n        \"description\": \"\"\n      }\n    }\n  ]\n}",
       "type": "dataframe"
      },
      "text/html": [
       "\n",
       "  <div id=\"df-37e0ee50-1d28-413e-86d6-bcd762ef2ca1\" class=\"colab-df-container\">\n",
       "    <div>\n",
       "<style scoped>\n",
       "    .dataframe tbody tr th:only-of-type {\n",
       "        vertical-align: middle;\n",
       "    }\n",
       "\n",
       "    .dataframe tbody tr th {\n",
       "        vertical-align: top;\n",
       "    }\n",
       "\n",
       "    .dataframe thead th {\n",
       "        text-align: right;\n",
       "    }\n",
       "</style>\n",
       "<table border=\"1\" class=\"dataframe\">\n",
       "  <thead>\n",
       "    <tr style=\"text-align: right;\">\n",
       "      <th></th>\n",
       "      <th>label</th>\n",
       "      <th>text</th>\n",
       "    </tr>\n",
       "  </thead>\n",
       "  <tbody>\n",
       "    <tr>\n",
       "      <th>0</th>\n",
       "      <td>REAL</td>\n",
       "      <td>Payal has accused filmmaker Anurag Kashyap of ...</td>\n",
       "    </tr>\n",
       "    <tr>\n",
       "      <th>1</th>\n",
       "      <td>FAKE</td>\n",
       "      <td>A four-minute-long video of a woman criticisin...</td>\n",
       "    </tr>\n",
       "    <tr>\n",
       "      <th>2</th>\n",
       "      <td>FAKE</td>\n",
       "      <td>Republic Poll, a fake Twitter account imitatin...</td>\n",
       "    </tr>\n",
       "    <tr>\n",
       "      <th>3</th>\n",
       "      <td>REAL</td>\n",
       "      <td>Delhi teen finds place on UN green list, turns...</td>\n",
       "    </tr>\n",
       "    <tr>\n",
       "      <th>4</th>\n",
       "      <td>REAL</td>\n",
       "      <td>Delhi: A high-level meeting underway at reside...</td>\n",
       "    </tr>\n",
       "    <tr>\n",
       "      <th>...</th>\n",
       "      <td>...</td>\n",
       "      <td>...</td>\n",
       "    </tr>\n",
       "    <tr>\n",
       "      <th>3724</th>\n",
       "      <td>REAL</td>\n",
       "      <td>19:17 (IST) Sep 20\\n\\nThe second round of coun...</td>\n",
       "    </tr>\n",
       "    <tr>\n",
       "      <th>3725</th>\n",
       "      <td>REAL</td>\n",
       "      <td>19:17 (IST) Sep 20\\n\\nThe second round of coun...</td>\n",
       "    </tr>\n",
       "    <tr>\n",
       "      <th>3726</th>\n",
       "      <td>FAKE</td>\n",
       "      <td>The Bengaluru City Police’s official Twitter h...</td>\n",
       "    </tr>\n",
       "    <tr>\n",
       "      <th>3727</th>\n",
       "      <td>REAL</td>\n",
       "      <td>Sep 20, 2020, 08:00AM IST\\n\\nSource: TOI.in\\n\\...</td>\n",
       "    </tr>\n",
       "    <tr>\n",
       "      <th>3728</th>\n",
       "      <td>REAL</td>\n",
       "      <td>Read Also\\n\\nRead Also\\n\\nAdvocate Ishkaran Bh...</td>\n",
       "    </tr>\n",
       "  </tbody>\n",
       "</table>\n",
       "<p>3721 rows × 2 columns</p>\n",
       "</div>\n",
       "    <div class=\"colab-df-buttons\">\n",
       "\n",
       "  <div class=\"colab-df-container\">\n",
       "    <button class=\"colab-df-convert\" onclick=\"convertToInteractive('df-37e0ee50-1d28-413e-86d6-bcd762ef2ca1')\"\n",
       "            title=\"Convert this dataframe to an interactive table.\"\n",
       "            style=\"display:none;\">\n",
       "\n",
       "  <svg xmlns=\"http://www.w3.org/2000/svg\" height=\"24px\" viewBox=\"0 -960 960 960\">\n",
       "    <path d=\"M120-120v-720h720v720H120Zm60-500h600v-160H180v160Zm220 220h160v-160H400v160Zm0 220h160v-160H400v160ZM180-400h160v-160H180v160Zm440 0h160v-160H620v160ZM180-180h160v-160H180v160Zm440 0h160v-160H620v160Z\"/>\n",
       "  </svg>\n",
       "    </button>\n",
       "\n",
       "  <style>\n",
       "    .colab-df-container {\n",
       "      display:flex;\n",
       "      gap: 12px;\n",
       "    }\n",
       "\n",
       "    .colab-df-convert {\n",
       "      background-color: #E8F0FE;\n",
       "      border: none;\n",
       "      border-radius: 50%;\n",
       "      cursor: pointer;\n",
       "      display: none;\n",
       "      fill: #1967D2;\n",
       "      height: 32px;\n",
       "      padding: 0 0 0 0;\n",
       "      width: 32px;\n",
       "    }\n",
       "\n",
       "    .colab-df-convert:hover {\n",
       "      background-color: #E2EBFA;\n",
       "      box-shadow: 0px 1px 2px rgba(60, 64, 67, 0.3), 0px 1px 3px 1px rgba(60, 64, 67, 0.15);\n",
       "      fill: #174EA6;\n",
       "    }\n",
       "\n",
       "    .colab-df-buttons div {\n",
       "      margin-bottom: 4px;\n",
       "    }\n",
       "\n",
       "    [theme=dark] .colab-df-convert {\n",
       "      background-color: #3B4455;\n",
       "      fill: #D2E3FC;\n",
       "    }\n",
       "\n",
       "    [theme=dark] .colab-df-convert:hover {\n",
       "      background-color: #434B5C;\n",
       "      box-shadow: 0px 1px 3px 1px rgba(0, 0, 0, 0.15);\n",
       "      filter: drop-shadow(0px 1px 2px rgba(0, 0, 0, 0.3));\n",
       "      fill: #FFFFFF;\n",
       "    }\n",
       "  </style>\n",
       "\n",
       "    <script>\n",
       "      const buttonEl =\n",
       "        document.querySelector('#df-37e0ee50-1d28-413e-86d6-bcd762ef2ca1 button.colab-df-convert');\n",
       "      buttonEl.style.display =\n",
       "        google.colab.kernel.accessAllowed ? 'block' : 'none';\n",
       "\n",
       "      async function convertToInteractive(key) {\n",
       "        const element = document.querySelector('#df-37e0ee50-1d28-413e-86d6-bcd762ef2ca1');\n",
       "        const dataTable =\n",
       "          await google.colab.kernel.invokeFunction('convertToInteractive',\n",
       "                                                    [key], {});\n",
       "        if (!dataTable) return;\n",
       "\n",
       "        const docLinkHtml = 'Like what you see? Visit the ' +\n",
       "          '<a target=\"_blank\" href=https://colab.research.google.com/notebooks/data_table.ipynb>data table notebook</a>'\n",
       "          + ' to learn more about interactive tables.';\n",
       "        element.innerHTML = '';\n",
       "        dataTable['output_type'] = 'display_data';\n",
       "        await google.colab.output.renderOutput(dataTable, element);\n",
       "        const docLink = document.createElement('div');\n",
       "        docLink.innerHTML = docLinkHtml;\n",
       "        element.appendChild(docLink);\n",
       "      }\n",
       "    </script>\n",
       "  </div>\n",
       "\n",
       "\n",
       "    <div id=\"df-33eea7c1-4679-457f-8d04-be7199054398\">\n",
       "      <button class=\"colab-df-quickchart\" onclick=\"quickchart('df-33eea7c1-4679-457f-8d04-be7199054398')\"\n",
       "                title=\"Suggest charts\"\n",
       "                style=\"display:none;\">\n",
       "\n",
       "<svg xmlns=\"http://www.w3.org/2000/svg\" height=\"24px\"viewBox=\"0 0 24 24\"\n",
       "     width=\"24px\">\n",
       "    <g>\n",
       "        <path d=\"M19 3H5c-1.1 0-2 .9-2 2v14c0 1.1.9 2 2 2h14c1.1 0 2-.9 2-2V5c0-1.1-.9-2-2-2zM9 17H7v-7h2v7zm4 0h-2V7h2v10zm4 0h-2v-4h2v4z\"/>\n",
       "    </g>\n",
       "</svg>\n",
       "      </button>\n",
       "\n",
       "<style>\n",
       "  .colab-df-quickchart {\n",
       "      --bg-color: #E8F0FE;\n",
       "      --fill-color: #1967D2;\n",
       "      --hover-bg-color: #E2EBFA;\n",
       "      --hover-fill-color: #174EA6;\n",
       "      --disabled-fill-color: #AAA;\n",
       "      --disabled-bg-color: #DDD;\n",
       "  }\n",
       "\n",
       "  [theme=dark] .colab-df-quickchart {\n",
       "      --bg-color: #3B4455;\n",
       "      --fill-color: #D2E3FC;\n",
       "      --hover-bg-color: #434B5C;\n",
       "      --hover-fill-color: #FFFFFF;\n",
       "      --disabled-bg-color: #3B4455;\n",
       "      --disabled-fill-color: #666;\n",
       "  }\n",
       "\n",
       "  .colab-df-quickchart {\n",
       "    background-color: var(--bg-color);\n",
       "    border: none;\n",
       "    border-radius: 50%;\n",
       "    cursor: pointer;\n",
       "    display: none;\n",
       "    fill: var(--fill-color);\n",
       "    height: 32px;\n",
       "    padding: 0;\n",
       "    width: 32px;\n",
       "  }\n",
       "\n",
       "  .colab-df-quickchart:hover {\n",
       "    background-color: var(--hover-bg-color);\n",
       "    box-shadow: 0 1px 2px rgba(60, 64, 67, 0.3), 0 1px 3px 1px rgba(60, 64, 67, 0.15);\n",
       "    fill: var(--button-hover-fill-color);\n",
       "  }\n",
       "\n",
       "  .colab-df-quickchart-complete:disabled,\n",
       "  .colab-df-quickchart-complete:disabled:hover {\n",
       "    background-color: var(--disabled-bg-color);\n",
       "    fill: var(--disabled-fill-color);\n",
       "    box-shadow: none;\n",
       "  }\n",
       "\n",
       "  .colab-df-spinner {\n",
       "    border: 2px solid var(--fill-color);\n",
       "    border-color: transparent;\n",
       "    border-bottom-color: var(--fill-color);\n",
       "    animation:\n",
       "      spin 1s steps(1) infinite;\n",
       "  }\n",
       "\n",
       "  @keyframes spin {\n",
       "    0% {\n",
       "      border-color: transparent;\n",
       "      border-bottom-color: var(--fill-color);\n",
       "      border-left-color: var(--fill-color);\n",
       "    }\n",
       "    20% {\n",
       "      border-color: transparent;\n",
       "      border-left-color: var(--fill-color);\n",
       "      border-top-color: var(--fill-color);\n",
       "    }\n",
       "    30% {\n",
       "      border-color: transparent;\n",
       "      border-left-color: var(--fill-color);\n",
       "      border-top-color: var(--fill-color);\n",
       "      border-right-color: var(--fill-color);\n",
       "    }\n",
       "    40% {\n",
       "      border-color: transparent;\n",
       "      border-right-color: var(--fill-color);\n",
       "      border-top-color: var(--fill-color);\n",
       "    }\n",
       "    60% {\n",
       "      border-color: transparent;\n",
       "      border-right-color: var(--fill-color);\n",
       "    }\n",
       "    80% {\n",
       "      border-color: transparent;\n",
       "      border-right-color: var(--fill-color);\n",
       "      border-bottom-color: var(--fill-color);\n",
       "    }\n",
       "    90% {\n",
       "      border-color: transparent;\n",
       "      border-bottom-color: var(--fill-color);\n",
       "    }\n",
       "  }\n",
       "</style>\n",
       "\n",
       "      <script>\n",
       "        async function quickchart(key) {\n",
       "          const quickchartButtonEl =\n",
       "            document.querySelector('#' + key + ' button');\n",
       "          quickchartButtonEl.disabled = true;  // To prevent multiple clicks.\n",
       "          quickchartButtonEl.classList.add('colab-df-spinner');\n",
       "          try {\n",
       "            const charts = await google.colab.kernel.invokeFunction(\n",
       "                'suggestCharts', [key], {});\n",
       "          } catch (error) {\n",
       "            console.error('Error during call to suggestCharts:', error);\n",
       "          }\n",
       "          quickchartButtonEl.classList.remove('colab-df-spinner');\n",
       "          quickchartButtonEl.classList.add('colab-df-quickchart-complete');\n",
       "        }\n",
       "        (() => {\n",
       "          let quickchartButtonEl =\n",
       "            document.querySelector('#df-33eea7c1-4679-457f-8d04-be7199054398 button');\n",
       "          quickchartButtonEl.style.display =\n",
       "            google.colab.kernel.accessAllowed ? 'block' : 'none';\n",
       "        })();\n",
       "      </script>\n",
       "    </div>\n",
       "\n",
       "    </div>\n",
       "  </div>\n"
      ],
      "text/plain": [
       "     label                                               text\n",
       "0     REAL  Payal has accused filmmaker Anurag Kashyap of ...\n",
       "1     FAKE  A four-minute-long video of a woman criticisin...\n",
       "2     FAKE  Republic Poll, a fake Twitter account imitatin...\n",
       "3     REAL  Delhi teen finds place on UN green list, turns...\n",
       "4     REAL  Delhi: A high-level meeting underway at reside...\n",
       "...    ...                                                ...\n",
       "3724  REAL  19:17 (IST) Sep 20\\n\\nThe second round of coun...\n",
       "3725  REAL  19:17 (IST) Sep 20\\n\\nThe second round of coun...\n",
       "3726  FAKE  The Bengaluru City Police’s official Twitter h...\n",
       "3727  REAL  Sep 20, 2020, 08:00AM IST\\n\\nSource: TOI.in\\n\\...\n",
       "3728  REAL  Read Also\\n\\nRead Also\\n\\nAdvocate Ishkaran Bh...\n",
       "\n",
       "[3721 rows x 2 columns]"
      ]
     },
     "execution_count": 42,
     "metadata": {},
     "output_type": "execute_result"
    }
   ],
   "source": [
    "DF_test.dropna()"
   ]
  },
  {
   "cell_type": "code",
   "execution_count": 43,
   "metadata": {
    "id": "3MT9we296DLb"
   },
   "outputs": [],
   "source": [
    "DF_test[\"label\"] = np.where(DF_test[\"label\"] == \"REAL\" , 1 , 0)"
   ]
  },
  {
   "cell_type": "code",
   "execution_count": 75,
   "metadata": {
    "id": "s99VKgyG6f9R"
   },
   "outputs": [],
   "source": [
    "DF_test[\"Content\"] = DF_test[\"text\"]"
   ]
  },
  {
   "cell_type": "code",
   "execution_count": 76,
   "metadata": {
    "colab": {
     "base_uri": "https://localhost:8080/",
     "height": 458
    },
    "id": "gEFyAXnF6mRI",
    "outputId": "fc754743-2c8a-4cff-b4ac-f28be0bdaeae"
   },
   "outputs": [
    {
     "data": {
      "text/html": [
       "<div>\n",
       "<style scoped>\n",
       "    .dataframe tbody tr th:only-of-type {\n",
       "        vertical-align: middle;\n",
       "    }\n",
       "\n",
       "    .dataframe tbody tr th {\n",
       "        vertical-align: top;\n",
       "    }\n",
       "\n",
       "    .dataframe thead th {\n",
       "        text-align: right;\n",
       "    }\n",
       "</style>\n",
       "<table border=\"1\" class=\"dataframe\">\n",
       "  <thead>\n",
       "    <tr style=\"text-align: right;\">\n",
       "      <th></th>\n",
       "      <th>Content</th>\n",
       "    </tr>\n",
       "  </thead>\n",
       "  <tbody>\n",
       "    <tr>\n",
       "      <th>0</th>\n",
       "      <td>payal has accused filmmaker anurag kashyap of ...</td>\n",
       "    </tr>\n",
       "    <tr>\n",
       "      <th>1</th>\n",
       "      <td>a fourminutelong video of a woman criticising ...</td>\n",
       "    </tr>\n",
       "    <tr>\n",
       "      <th>2</th>\n",
       "      <td>republic poll a fake twitter account imitating...</td>\n",
       "    </tr>\n",
       "    <tr>\n",
       "      <th>3</th>\n",
       "      <td>delhi teen finds place on un green list turns ...</td>\n",
       "    </tr>\n",
       "    <tr>\n",
       "      <th>4</th>\n",
       "      <td>delhi a highlevel meeting underway at residenc...</td>\n",
       "    </tr>\n",
       "    <tr>\n",
       "      <th>...</th>\n",
       "      <td>...</td>\n",
       "    </tr>\n",
       "    <tr>\n",
       "      <th>3724</th>\n",
       "      <td>1917 ist sep 20 the second round of countrywid...</td>\n",
       "    </tr>\n",
       "    <tr>\n",
       "      <th>3725</th>\n",
       "      <td>1917 ist sep 20 the second round of countrywid...</td>\n",
       "    </tr>\n",
       "    <tr>\n",
       "      <th>3726</th>\n",
       "      <td>the bengaluru city polices official twitter ha...</td>\n",
       "    </tr>\n",
       "    <tr>\n",
       "      <th>3727</th>\n",
       "      <td>sep 20 2020 0800am ist source toiin meet neelk...</td>\n",
       "    </tr>\n",
       "    <tr>\n",
       "      <th>3728</th>\n",
       "      <td>read also read also advocate ishkaran bhandari...</td>\n",
       "    </tr>\n",
       "  </tbody>\n",
       "</table>\n",
       "<p>3729 rows × 1 columns</p>\n",
       "</div><br><label><b>dtype:</b> object</label>"
      ],
      "text/plain": [
       "0       payal has accused filmmaker anurag kashyap of ...\n",
       "1       a fourminutelong video of a woman criticising ...\n",
       "2       republic poll a fake twitter account imitating...\n",
       "3       delhi teen finds place on un green list turns ...\n",
       "4       delhi a highlevel meeting underway at residenc...\n",
       "                              ...                        \n",
       "3724    1917 ist sep 20 the second round of countrywid...\n",
       "3725    1917 ist sep 20 the second round of countrywid...\n",
       "3726    the bengaluru city polices official twitter ha...\n",
       "3727    sep 20 2020 0800am ist source toiin meet neelk...\n",
       "3728    read also read also advocate ishkaran bhandari...\n",
       "Name: Content, Length: 3729, dtype: object"
      ]
     },
     "execution_count": 76,
     "metadata": {},
     "output_type": "execute_result"
    }
   ],
   "source": [
    "DF_test[\"Content\"].apply(clean)"
   ]
  },
  {
   "cell_type": "code",
   "execution_count": 77,
   "metadata": {
    "id": "nhg2XCp56u4p"
   },
   "outputs": [],
   "source": [
    "import re\n",
    "\n",
    "def clean_test(text):\n",
    "    if not isinstance(text, str):\n",
    "        return \"\"\n",
    "    text = text.lower()\n",
    "    text = re.sub(r'[^a-z0-9\\s]', '', text)  # keep numbers too\n",
    "    text = re.sub(r'\\s+', ' ', text).strip()\n",
    "\n",
    "    return text\n"
   ]
  },
  {
   "cell_type": "code",
   "execution_count": 79,
   "metadata": {
    "id": "icSv0jk462e4"
   },
   "outputs": [],
   "source": [
    "DF_test[\"Content\"] = DF_test[\"Content\"].apply(clean_test)"
   ]
  },
  {
   "cell_type": "code",
   "execution_count": 80,
   "metadata": {
    "id": "_S3PpXy27d1L"
   },
   "outputs": [],
   "source": [
    "DF_test.drop([\"text\"] , axis=1 , inplace=True)"
   ]
  },
  {
   "cell_type": "code",
   "execution_count": 81,
   "metadata": {
    "colab": {
     "base_uri": "https://localhost:8080/",
     "height": 423
    },
    "id": "vRhn1aQ89i7R",
    "outputId": "b2e0ff8a-77fc-4d63-fd32-dd0856b0ad78"
   },
   "outputs": [
    {
     "data": {
      "application/vnd.google.colaboratory.intrinsic+json": {
       "summary": "{\n  \"name\": \"DF_test\",\n  \"rows\": 3729,\n  \"fields\": [\n    {\n      \"column\": \"label\",\n      \"properties\": {\n        \"dtype\": \"number\",\n        \"std\": 0,\n        \"min\": 0,\n        \"max\": 1,\n        \"num_unique_values\": 2,\n        \"samples\": [\n          0,\n          1\n        ],\n        \"semantic_type\": \"\",\n        \"description\": \"\"\n      }\n    },\n    {\n      \"column\": \"Content\",\n      \"properties\": {\n        \"dtype\": \"string\",\n        \"num_unique_values\": 2230,\n        \"samples\": [\n          \"new delhi hong kong has again asked air india not to operate flights there for two weeks starting sunday september 20 like the first suspension last month this time also the reason is significant number of passengers from india testing positive on arrival in hong konghong kong civil aviation authority has advised ai not to operate for two weeks from till october 3 only one flight was scheduled to operate in this period delhihong kong on monday september 21 which has been cancelled and passengers informed said a senior ai officiallast month also hong kong had barred air india flights for two weeks after 11 passengers who flew in there from delhi on august 14 had tested positive on arrival cathay pacific is not operating to india during the pandemicchinese media reports hong kong has temporarily suspended cathay dragon cathays regional arm flights on kuala lumpur route five people flew ai express to malaysia and then took a connecting flight to hong kong where they tested positive on arrival according to those reportslast week dubai aviation authorities had decided to suspend ai express operations to the city for 15 days after the budget airline twice flew passengers with covid positive reports there from india following an apology from ai express and assurance that the same will not happen again dubai civil aviation authority revoked this suspensionlast friday the airlines spokesperson had said we have apologised for the two lapses to dubai authorities and assured them of putting in place multilevel strict checks to ensure the same does not get repeated accordingly all ai express flights from and to dubai will operate as per original schedule from saturday september 19\",\n          \"a mischievously edited video of former president of the indian national congress inc rahul gandhi addressing a rally in delhi ahead of the assembly elections is doing the rounds on twitter with claims that he delivered a bizarre and comic speech in the first part of the edited footage gandhi throws a question to the audiences and asks them the reason why eagles are flying above as he speaks he points at the sky a short clip of birds flying can be seen immediately after in the second part of the footage he refers to prime minister narendra modi rashtriya swayam sevak rss and the bharatiya janata party bjp and how they are responsible for unemployment both the clips have been mischievously joined and the sequence altered in a way that it appears that gandhi blamed the bjp government for the lack of employment among the birds the edited footage has been tweeted by harsh sanghavi the national vice president of bjp yuva morcha who took a dig at gandhi for drawing such bizarre comparisons sanghavi wrote someone at least stop him the same footage has been doing the rounds on whatsapp and facebook it has been viewed more than 12 million times on facebook at the time of writing this article the video has been captioned as pappus comedy show it has been doing the rounds with a hindi caption which translates to english as why are these eagles flying here because they are not getting employment and narendra modi and rss are responsible for this rahul gandhi original text in hindi rss boom received it on its helpline number for verification as well fact check boom could ascertain that the video has been created for comic purposes and gandhi did not draw comparison between flying eagles and unemployment a logo of being baklol can be seen on the bottom left being baklol is a satirical group which produces comic content upon relevant keyword searches we found the same speech where gandhi was addressing an election campaign in kondli new delhi on february 5 parts of the speech had been tampered with sequence changed and joined to produce the viral clip rahul gandhi begins his speech and says how the countrys harmony has been disrupted in the past five years he can be seen interacting with 10 year old kids who approve of the same he then asks what could be the reason behind the disruption reference of eagles flying above at 9 minute 45 seconds gandhi makes the eagle reference and compares how commoners have to face poor living conditions while pm modi gives tax benefits to the rich of the country he says ok brother tell my what are the eagles doing here why are they flying here can anybody say why the eagles are flying here how many crores will be needed to remove this dirt narendra modi ji had waved off rs 130000 crores taxes for the richest men of india you people stay in dirt for 24 7 and the rich can live at peace in castles lack of unemployment for last five years in his address rahul gandhi then goes on to stress on how the youth has been confused he says they have been studying for so many years they went to school college and university and also took exams but for the past five years they have not been earning anything and when the youth of any country doesnt see a road ahead then they are angered at 3 minute 30 second mark the context of how a situation of lack of income has been created for the youth is referred to the same part has been used at the 20 second mark in the viral video narendra modi bjp and rss reference at 3 minute 15 seconds gandhi can be heard saying what is the reason behind this a lot of people will say that the reason is narendra modi the reason is rss and the reason is bjp but i will want to look at it differently the biggest reason is that the youth of the country doesnt have any aim they are afraid of unemployment the exact narendra modi bjp and rss reference was edited and inserted in the viral comic clip at 24 second mark below is the facebook live video from the same day also read false aap mla amanatullah khan said we will become sharia\"\n        ],\n        \"semantic_type\": \"\",\n        \"description\": \"\"\n      }\n    }\n  ]\n}",
       "type": "dataframe",
       "variable_name": "DF_test"
      },
      "text/html": [
       "\n",
       "  <div id=\"df-0b5fc6c3-45a8-44cb-89fe-6a0a3b288163\" class=\"colab-df-container\">\n",
       "    <div>\n",
       "<style scoped>\n",
       "    .dataframe tbody tr th:only-of-type {\n",
       "        vertical-align: middle;\n",
       "    }\n",
       "\n",
       "    .dataframe tbody tr th {\n",
       "        vertical-align: top;\n",
       "    }\n",
       "\n",
       "    .dataframe thead th {\n",
       "        text-align: right;\n",
       "    }\n",
       "</style>\n",
       "<table border=\"1\" class=\"dataframe\">\n",
       "  <thead>\n",
       "    <tr style=\"text-align: right;\">\n",
       "      <th></th>\n",
       "      <th>label</th>\n",
       "      <th>Content</th>\n",
       "    </tr>\n",
       "  </thead>\n",
       "  <tbody>\n",
       "    <tr>\n",
       "      <th>0</th>\n",
       "      <td>1</td>\n",
       "      <td>payal has accused filmmaker anurag kashyap of ...</td>\n",
       "    </tr>\n",
       "    <tr>\n",
       "      <th>1</th>\n",
       "      <td>0</td>\n",
       "      <td>a fourminutelong video of a woman criticising ...</td>\n",
       "    </tr>\n",
       "    <tr>\n",
       "      <th>2</th>\n",
       "      <td>0</td>\n",
       "      <td>republic poll a fake twitter account imitating...</td>\n",
       "    </tr>\n",
       "    <tr>\n",
       "      <th>3</th>\n",
       "      <td>1</td>\n",
       "      <td>delhi teen finds place on un green list turns ...</td>\n",
       "    </tr>\n",
       "    <tr>\n",
       "      <th>4</th>\n",
       "      <td>1</td>\n",
       "      <td>delhi a highlevel meeting underway at residenc...</td>\n",
       "    </tr>\n",
       "    <tr>\n",
       "      <th>...</th>\n",
       "      <td>...</td>\n",
       "      <td>...</td>\n",
       "    </tr>\n",
       "    <tr>\n",
       "      <th>3724</th>\n",
       "      <td>1</td>\n",
       "      <td>1917 ist sep 20 the second round of countrywid...</td>\n",
       "    </tr>\n",
       "    <tr>\n",
       "      <th>3725</th>\n",
       "      <td>1</td>\n",
       "      <td>1917 ist sep 20 the second round of countrywid...</td>\n",
       "    </tr>\n",
       "    <tr>\n",
       "      <th>3726</th>\n",
       "      <td>0</td>\n",
       "      <td>the bengaluru city polices official twitter ha...</td>\n",
       "    </tr>\n",
       "    <tr>\n",
       "      <th>3727</th>\n",
       "      <td>1</td>\n",
       "      <td>sep 20 2020 0800am ist source toiin meet neelk...</td>\n",
       "    </tr>\n",
       "    <tr>\n",
       "      <th>3728</th>\n",
       "      <td>1</td>\n",
       "      <td>read also read also advocate ishkaran bhandari...</td>\n",
       "    </tr>\n",
       "  </tbody>\n",
       "</table>\n",
       "<p>3729 rows × 2 columns</p>\n",
       "</div>\n",
       "    <div class=\"colab-df-buttons\">\n",
       "\n",
       "  <div class=\"colab-df-container\">\n",
       "    <button class=\"colab-df-convert\" onclick=\"convertToInteractive('df-0b5fc6c3-45a8-44cb-89fe-6a0a3b288163')\"\n",
       "            title=\"Convert this dataframe to an interactive table.\"\n",
       "            style=\"display:none;\">\n",
       "\n",
       "  <svg xmlns=\"http://www.w3.org/2000/svg\" height=\"24px\" viewBox=\"0 -960 960 960\">\n",
       "    <path d=\"M120-120v-720h720v720H120Zm60-500h600v-160H180v160Zm220 220h160v-160H400v160Zm0 220h160v-160H400v160ZM180-400h160v-160H180v160Zm440 0h160v-160H620v160ZM180-180h160v-160H180v160Zm440 0h160v-160H620v160Z\"/>\n",
       "  </svg>\n",
       "    </button>\n",
       "\n",
       "  <style>\n",
       "    .colab-df-container {\n",
       "      display:flex;\n",
       "      gap: 12px;\n",
       "    }\n",
       "\n",
       "    .colab-df-convert {\n",
       "      background-color: #E8F0FE;\n",
       "      border: none;\n",
       "      border-radius: 50%;\n",
       "      cursor: pointer;\n",
       "      display: none;\n",
       "      fill: #1967D2;\n",
       "      height: 32px;\n",
       "      padding: 0 0 0 0;\n",
       "      width: 32px;\n",
       "    }\n",
       "\n",
       "    .colab-df-convert:hover {\n",
       "      background-color: #E2EBFA;\n",
       "      box-shadow: 0px 1px 2px rgba(60, 64, 67, 0.3), 0px 1px 3px 1px rgba(60, 64, 67, 0.15);\n",
       "      fill: #174EA6;\n",
       "    }\n",
       "\n",
       "    .colab-df-buttons div {\n",
       "      margin-bottom: 4px;\n",
       "    }\n",
       "\n",
       "    [theme=dark] .colab-df-convert {\n",
       "      background-color: #3B4455;\n",
       "      fill: #D2E3FC;\n",
       "    }\n",
       "\n",
       "    [theme=dark] .colab-df-convert:hover {\n",
       "      background-color: #434B5C;\n",
       "      box-shadow: 0px 1px 3px 1px rgba(0, 0, 0, 0.15);\n",
       "      filter: drop-shadow(0px 1px 2px rgba(0, 0, 0, 0.3));\n",
       "      fill: #FFFFFF;\n",
       "    }\n",
       "  </style>\n",
       "\n",
       "    <script>\n",
       "      const buttonEl =\n",
       "        document.querySelector('#df-0b5fc6c3-45a8-44cb-89fe-6a0a3b288163 button.colab-df-convert');\n",
       "      buttonEl.style.display =\n",
       "        google.colab.kernel.accessAllowed ? 'block' : 'none';\n",
       "\n",
       "      async function convertToInteractive(key) {\n",
       "        const element = document.querySelector('#df-0b5fc6c3-45a8-44cb-89fe-6a0a3b288163');\n",
       "        const dataTable =\n",
       "          await google.colab.kernel.invokeFunction('convertToInteractive',\n",
       "                                                    [key], {});\n",
       "        if (!dataTable) return;\n",
       "\n",
       "        const docLinkHtml = 'Like what you see? Visit the ' +\n",
       "          '<a target=\"_blank\" href=https://colab.research.google.com/notebooks/data_table.ipynb>data table notebook</a>'\n",
       "          + ' to learn more about interactive tables.';\n",
       "        element.innerHTML = '';\n",
       "        dataTable['output_type'] = 'display_data';\n",
       "        await google.colab.output.renderOutput(dataTable, element);\n",
       "        const docLink = document.createElement('div');\n",
       "        docLink.innerHTML = docLinkHtml;\n",
       "        element.appendChild(docLink);\n",
       "      }\n",
       "    </script>\n",
       "  </div>\n",
       "\n",
       "\n",
       "    <div id=\"df-b0f46a5f-9cb5-438e-b90a-55bdd8f88cb6\">\n",
       "      <button class=\"colab-df-quickchart\" onclick=\"quickchart('df-b0f46a5f-9cb5-438e-b90a-55bdd8f88cb6')\"\n",
       "                title=\"Suggest charts\"\n",
       "                style=\"display:none;\">\n",
       "\n",
       "<svg xmlns=\"http://www.w3.org/2000/svg\" height=\"24px\"viewBox=\"0 0 24 24\"\n",
       "     width=\"24px\">\n",
       "    <g>\n",
       "        <path d=\"M19 3H5c-1.1 0-2 .9-2 2v14c0 1.1.9 2 2 2h14c1.1 0 2-.9 2-2V5c0-1.1-.9-2-2-2zM9 17H7v-7h2v7zm4 0h-2V7h2v10zm4 0h-2v-4h2v4z\"/>\n",
       "    </g>\n",
       "</svg>\n",
       "      </button>\n",
       "\n",
       "<style>\n",
       "  .colab-df-quickchart {\n",
       "      --bg-color: #E8F0FE;\n",
       "      --fill-color: #1967D2;\n",
       "      --hover-bg-color: #E2EBFA;\n",
       "      --hover-fill-color: #174EA6;\n",
       "      --disabled-fill-color: #AAA;\n",
       "      --disabled-bg-color: #DDD;\n",
       "  }\n",
       "\n",
       "  [theme=dark] .colab-df-quickchart {\n",
       "      --bg-color: #3B4455;\n",
       "      --fill-color: #D2E3FC;\n",
       "      --hover-bg-color: #434B5C;\n",
       "      --hover-fill-color: #FFFFFF;\n",
       "      --disabled-bg-color: #3B4455;\n",
       "      --disabled-fill-color: #666;\n",
       "  }\n",
       "\n",
       "  .colab-df-quickchart {\n",
       "    background-color: var(--bg-color);\n",
       "    border: none;\n",
       "    border-radius: 50%;\n",
       "    cursor: pointer;\n",
       "    display: none;\n",
       "    fill: var(--fill-color);\n",
       "    height: 32px;\n",
       "    padding: 0;\n",
       "    width: 32px;\n",
       "  }\n",
       "\n",
       "  .colab-df-quickchart:hover {\n",
       "    background-color: var(--hover-bg-color);\n",
       "    box-shadow: 0 1px 2px rgba(60, 64, 67, 0.3), 0 1px 3px 1px rgba(60, 64, 67, 0.15);\n",
       "    fill: var(--button-hover-fill-color);\n",
       "  }\n",
       "\n",
       "  .colab-df-quickchart-complete:disabled,\n",
       "  .colab-df-quickchart-complete:disabled:hover {\n",
       "    background-color: var(--disabled-bg-color);\n",
       "    fill: var(--disabled-fill-color);\n",
       "    box-shadow: none;\n",
       "  }\n",
       "\n",
       "  .colab-df-spinner {\n",
       "    border: 2px solid var(--fill-color);\n",
       "    border-color: transparent;\n",
       "    border-bottom-color: var(--fill-color);\n",
       "    animation:\n",
       "      spin 1s steps(1) infinite;\n",
       "  }\n",
       "\n",
       "  @keyframes spin {\n",
       "    0% {\n",
       "      border-color: transparent;\n",
       "      border-bottom-color: var(--fill-color);\n",
       "      border-left-color: var(--fill-color);\n",
       "    }\n",
       "    20% {\n",
       "      border-color: transparent;\n",
       "      border-left-color: var(--fill-color);\n",
       "      border-top-color: var(--fill-color);\n",
       "    }\n",
       "    30% {\n",
       "      border-color: transparent;\n",
       "      border-left-color: var(--fill-color);\n",
       "      border-top-color: var(--fill-color);\n",
       "      border-right-color: var(--fill-color);\n",
       "    }\n",
       "    40% {\n",
       "      border-color: transparent;\n",
       "      border-right-color: var(--fill-color);\n",
       "      border-top-color: var(--fill-color);\n",
       "    }\n",
       "    60% {\n",
       "      border-color: transparent;\n",
       "      border-right-color: var(--fill-color);\n",
       "    }\n",
       "    80% {\n",
       "      border-color: transparent;\n",
       "      border-right-color: var(--fill-color);\n",
       "      border-bottom-color: var(--fill-color);\n",
       "    }\n",
       "    90% {\n",
       "      border-color: transparent;\n",
       "      border-bottom-color: var(--fill-color);\n",
       "    }\n",
       "  }\n",
       "</style>\n",
       "\n",
       "      <script>\n",
       "        async function quickchart(key) {\n",
       "          const quickchartButtonEl =\n",
       "            document.querySelector('#' + key + ' button');\n",
       "          quickchartButtonEl.disabled = true;  // To prevent multiple clicks.\n",
       "          quickchartButtonEl.classList.add('colab-df-spinner');\n",
       "          try {\n",
       "            const charts = await google.colab.kernel.invokeFunction(\n",
       "                'suggestCharts', [key], {});\n",
       "          } catch (error) {\n",
       "            console.error('Error during call to suggestCharts:', error);\n",
       "          }\n",
       "          quickchartButtonEl.classList.remove('colab-df-spinner');\n",
       "          quickchartButtonEl.classList.add('colab-df-quickchart-complete');\n",
       "        }\n",
       "        (() => {\n",
       "          let quickchartButtonEl =\n",
       "            document.querySelector('#df-b0f46a5f-9cb5-438e-b90a-55bdd8f88cb6 button');\n",
       "          quickchartButtonEl.style.display =\n",
       "            google.colab.kernel.accessAllowed ? 'block' : 'none';\n",
       "        })();\n",
       "      </script>\n",
       "    </div>\n",
       "\n",
       "  <div id=\"id_6aa8e8c3-dffe-4a53-8a76-7fb37014c50a\">\n",
       "    <style>\n",
       "      .colab-df-generate {\n",
       "        background-color: #E8F0FE;\n",
       "        border: none;\n",
       "        border-radius: 50%;\n",
       "        cursor: pointer;\n",
       "        display: none;\n",
       "        fill: #1967D2;\n",
       "        height: 32px;\n",
       "        padding: 0 0 0 0;\n",
       "        width: 32px;\n",
       "      }\n",
       "\n",
       "      .colab-df-generate:hover {\n",
       "        background-color: #E2EBFA;\n",
       "        box-shadow: 0px 1px 2px rgba(60, 64, 67, 0.3), 0px 1px 3px 1px rgba(60, 64, 67, 0.15);\n",
       "        fill: #174EA6;\n",
       "      }\n",
       "\n",
       "      [theme=dark] .colab-df-generate {\n",
       "        background-color: #3B4455;\n",
       "        fill: #D2E3FC;\n",
       "      }\n",
       "\n",
       "      [theme=dark] .colab-df-generate:hover {\n",
       "        background-color: #434B5C;\n",
       "        box-shadow: 0px 1px 3px 1px rgba(0, 0, 0, 0.15);\n",
       "        filter: drop-shadow(0px 1px 2px rgba(0, 0, 0, 0.3));\n",
       "        fill: #FFFFFF;\n",
       "      }\n",
       "    </style>\n",
       "    <button class=\"colab-df-generate\" onclick=\"generateWithVariable('DF_test')\"\n",
       "            title=\"Generate code using this dataframe.\"\n",
       "            style=\"display:none;\">\n",
       "\n",
       "  <svg xmlns=\"http://www.w3.org/2000/svg\" height=\"24px\"viewBox=\"0 0 24 24\"\n",
       "       width=\"24px\">\n",
       "    <path d=\"M7,19H8.4L18.45,9,17,7.55,7,17.6ZM5,21V16.75L18.45,3.32a2,2,0,0,1,2.83,0l1.4,1.43a1.91,1.91,0,0,1,.58,1.4,1.91,1.91,0,0,1-.58,1.4L9.25,21ZM18.45,9,17,7.55Zm-12,3A5.31,5.31,0,0,0,4.9,8.1,5.31,5.31,0,0,0,1,6.5,5.31,5.31,0,0,0,4.9,4.9,5.31,5.31,0,0,0,6.5,1,5.31,5.31,0,0,0,8.1,4.9,5.31,5.31,0,0,0,12,6.5,5.46,5.46,0,0,0,6.5,12Z\"/>\n",
       "  </svg>\n",
       "    </button>\n",
       "    <script>\n",
       "      (() => {\n",
       "      const buttonEl =\n",
       "        document.querySelector('#id_6aa8e8c3-dffe-4a53-8a76-7fb37014c50a button.colab-df-generate');\n",
       "      buttonEl.style.display =\n",
       "        google.colab.kernel.accessAllowed ? 'block' : 'none';\n",
       "\n",
       "      buttonEl.onclick = () => {\n",
       "        google.colab.notebook.generateWithVariable('DF_test');\n",
       "      }\n",
       "      })();\n",
       "    </script>\n",
       "  </div>\n",
       "\n",
       "    </div>\n",
       "  </div>\n"
      ],
      "text/plain": [
       "      label                                            Content\n",
       "0         1  payal has accused filmmaker anurag kashyap of ...\n",
       "1         0  a fourminutelong video of a woman criticising ...\n",
       "2         0  republic poll a fake twitter account imitating...\n",
       "3         1  delhi teen finds place on un green list turns ...\n",
       "4         1  delhi a highlevel meeting underway at residenc...\n",
       "...     ...                                                ...\n",
       "3724      1  1917 ist sep 20 the second round of countrywid...\n",
       "3725      1  1917 ist sep 20 the second round of countrywid...\n",
       "3726      0  the bengaluru city polices official twitter ha...\n",
       "3727      1  sep 20 2020 0800am ist source toiin meet neelk...\n",
       "3728      1  read also read also advocate ishkaran bhandari...\n",
       "\n",
       "[3729 rows x 2 columns]"
      ]
     },
     "execution_count": 81,
     "metadata": {},
     "output_type": "execute_result"
    }
   ],
   "source": [
    "DF_test"
   ]
  },
  {
   "cell_type": "code",
   "execution_count": 82,
   "metadata": {
    "id": "bkO7LE6V7i86"
   },
   "outputs": [],
   "source": [
    "DF_dataset_test = Dataset.from_pandas(DF_test)"
   ]
  },
  {
   "cell_type": "code",
   "execution_count": 83,
   "metadata": {
    "colab": {
     "base_uri": "https://localhost:8080/",
     "height": 49,
     "referenced_widgets": [
      "c6e552101714468cbe140afc6ed8d196",
      "ef6b2c7d540b4b9a8272dd1f922a58e7",
      "36274605351640df91681df9614c8aca",
      "60341f4a0c2940a7b23ff3f83c0ed58a",
      "61038e551cf8415ba6e59b393ec0310f",
      "c01dd54ef2de4036ba8f248f930d0228",
      "40fc3587e79543c3a266cdb69eccdefa",
      "a295208d742c436ebede8f4077b53101",
      "d38e7a4aff91413884a7c6fe9500a0fc",
      "b195eaa7192041b1ae3a383e82d20042",
      "afdcb0e706164df09d6c243de417827a"
     ]
    },
    "id": "eYPl2nhx8mWL",
    "outputId": "637c3efe-2f0b-4c75-a002-462dc205b33c"
   },
   "outputs": [
    {
     "data": {
      "application/vnd.jupyter.widget-view+json": {
       "model_id": "c6e552101714468cbe140afc6ed8d196",
       "version_major": 2,
       "version_minor": 0
      },
      "text/plain": [
       "Map:   0%|          | 0/3729 [00:00<?, ? examples/s]"
      ]
     },
     "metadata": {},
     "output_type": "display_data"
    }
   ],
   "source": [
    "tokenized_data_test = DF_dataset_test.map(preprocess_function, batched=True)"
   ]
  },
  {
   "cell_type": "code",
   "execution_count": 84,
   "metadata": {
    "colab": {
     "base_uri": "https://localhost:8080/",
     "height": 17
    },
    "id": "hovuf1vq83Ml",
    "outputId": "c183165f-8d16-4364-c7c8-d496437585fd"
   },
   "outputs": [
    {
     "data": {
      "text/html": [],
      "text/plain": [
       "<IPython.core.display.HTML object>"
      ]
     },
     "metadata": {},
     "output_type": "display_data"
    }
   ],
   "source": [
    "result = trainer.predict(tokenized_data_test)"
   ]
  },
  {
   "cell_type": "code",
   "execution_count": 85,
   "metadata": {
    "colab": {
     "base_uri": "https://localhost:8080/"
    },
    "id": "f-3k2Bnm-J7Y",
    "outputId": "6f7d7ac7-adf4-4096-be0b-eefa0678d1ff"
   },
   "outputs": [
    {
     "data": {
      "text/plain": [
       "PredictionOutput(predictions=array([[-5.484375 ,  6.1210938],\n",
       "       [-4.0546875,  4.4765625],\n",
       "       [-5.6523438,  6.2851562],\n",
       "       ...,\n",
       "       [-5.765625 ,  6.40625  ],\n",
       "       [-5.6992188,  6.3398438],\n",
       "       [-5.671875 ,  6.328125 ]], dtype=float32), label_ids=array([1, 0, 0, ..., 0, 1, 1]), metrics={'test_loss': 5.885051250457764, 'test_accuracy': 0.482, 'test_auc': 0.317, 'test_runtime': 31.6724, 'test_samples_per_second': 117.737, 'test_steps_per_second': 14.745})"
      ]
     },
     "execution_count": 85,
     "metadata": {},
     "output_type": "execute_result"
    }
   ],
   "source": []
  },
  {
   "cell_type": "code",
   "execution_count": 86,
   "metadata": {
    "colab": {
     "base_uri": "https://localhost:8080/",
     "height": 17
    },
    "id": "CwB8BObH-Wsf",
    "outputId": "88ab0dcb-f67b-4684-fcdd-3bce502bfc11"
   },
   "outputs": [
    {
     "data": {
      "text/html": [],
      "text/plain": [
       "<IPython.core.display.HTML object>"
      ]
     },
     "metadata": {},
     "output_type": "display_data"
    }
   ],
   "source": [
    "result = trainer.predict(tokenized_data_test)"
   ]
  },
  {
   "cell_type": "code",
   "execution_count": 87,
   "metadata": {
    "id": "36uXHphr-cZX"
   },
   "outputs": [],
   "source": [
    "pred = np.argmax(result.predictions, axis=-1)"
   ]
  },
  {
   "cell_type": "code",
   "execution_count": 91,
   "metadata": {
    "colab": {
     "base_uri": "https://localhost:8080/"
    },
    "id": "PcDvUvuC-m2K",
    "outputId": "f34ae461-0045-49d0-aa70-0730c96755fd"
   },
   "outputs": [
    {
     "data": {
      "text/plain": [
       "np.float64(0.48216680075087154)"
      ]
     },
     "execution_count": 91,
     "metadata": {},
     "output_type": "execute_result"
    }
   ],
   "source": [
    "np.mean(pred == DF_test[\"label\"])"
   ]
  },
  {
   "cell_type": "code",
   "execution_count": null,
   "metadata": {
    "id": "te9kah5w-nWm"
   },
   "outputs": [],
   "source": []
  }
 ],
 "metadata": {
  "accelerator": "GPU",
  "colab": {
   "gpuType": "T4",
   "provenance": []
  },
  "kaggle": {
   "accelerator": "none",
   "dataSources": [
    {
     "datasetId": 2093157,
     "sourceId": 6641062,
     "sourceType": "datasetVersion"
    }
   ],
   "dockerImageVersionId": 31040,
   "isGpuEnabled": false,
   "isInternetEnabled": true,
   "language": "python",
   "sourceType": "notebook"
  },
  "kernelspec": {
   "display_name": "Python 3",
   "name": "python3"
  },
  "language_info": {
   "codemirror_mode": {
    "name": "ipython",
    "version": 3
   },
   "file_extension": ".py",
   "mimetype": "text/x-python",
   "name": "python",
   "nbconvert_exporter": "python",
   "pygments_lexer": "ipython3",
   "version": "3.11.11"
  }
 },
 "nbformat": 4,
 "nbformat_minor": 0
}
